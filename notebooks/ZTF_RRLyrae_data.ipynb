{
 "cells": [
  {
   "cell_type": "markdown",
   "id": "351d091b",
   "metadata": {},
   "source": [
    "# ZTF RRLyrae data\n",
    "\n",
    "Eric Bellm\n",
    "January 2020\n",
    "\n",
    "Programatically retrieve data for use in the RR Lyrae exercise."
   ]
  },
  {
   "cell_type": "code",
   "execution_count": 37,
   "id": "4561decf",
   "metadata": {},
   "outputs": [],
   "source": [
    "%matplotlib inline\n",
    "import matplotlib.pyplot as plt\n",
    "import numpy as np\n",
    "from astroquery.vizier import Vizier"
   ]
  },
  {
   "cell_type": "markdown",
   "id": "3478fbe9",
   "metadata": {},
   "source": [
    "[ztfquery](https://github.com/MickaelRigault/ztfquery) provides a convenient interface to the [IRSA ZTF archive](https://irsa.ipac.caltech.edu/Missions/ztf.html).  \n",
    "\n",
    "Install it with `pip install ztfquery`"
   ]
  },
  {
   "cell_type": "code",
   "execution_count": 43,
   "id": "9f80e39d",
   "metadata": {},
   "outputs": [],
   "source": [
    "from ztfquery import lightcurve"
   ]
  },
  {
   "cell_type": "markdown",
   "id": "c6a2beeb",
   "metadata": {},
   "source": [
    "### Retrieve an input RR Lyrae catalog\n",
    "\n",
    "We are not searching from scratch, but will use the RR Lyrae candidates identified from PanSTARRS1 in [Sesar et al 2017](https://ui.adsabs.harvard.edu/abs/2017AJ....153..204S/abstract), which is in Vizier [here](https://cdsarc.cds.unistra.fr/viz-bin/cat/J/AJ/153/204#/article)."
   ]
  },
  {
   "cell_type": "code",
   "execution_count": 5,
   "id": "cca7f282",
   "metadata": {},
   "outputs": [],
   "source": [
    "catalog_list = Vizier.find_catalogs('J/AJ/153/204')"
   ]
  },
  {
   "cell_type": "code",
   "execution_count": 6,
   "id": "06c10687",
   "metadata": {},
   "outputs": [
    {
     "data": {
      "text/plain": [
       "OrderedDict([('J/AJ/153/204', </>)])"
      ]
     },
     "execution_count": 6,
     "metadata": {},
     "output_type": "execute_result"
    }
   ],
   "source": [
    "catalog_list"
   ]
  },
  {
   "cell_type": "code",
   "execution_count": 7,
   "id": "9f840f73",
   "metadata": {},
   "outputs": [],
   "source": [
    "# retrieve all rows\n",
    "Vizier.ROW_LIMIT = -1"
   ]
  },
  {
   "cell_type": "code",
   "execution_count": 10,
   "id": "c81438f6",
   "metadata": {},
   "outputs": [],
   "source": [
    "catalogs = Vizier.get_catalogs(catalog_list.keys())"
   ]
  },
  {
   "cell_type": "code",
   "execution_count": 11,
   "id": "3458918e",
   "metadata": {},
   "outputs": [
    {
     "data": {
      "text/plain": [
       "TableList with 4 tables:\n",
       "\t'0:J/AJ/153/204/table5' with 24 column(s) and 239044 row(s) \n",
       "\t'1:J/AJ/153/204/table2' with 3 column(s) and 100 row(s) \n",
       "\t'2:J/AJ/153/204/table3' with 3 column(s) and 100 row(s) \n",
       "\t'3:J/AJ/153/204/table4' with 3 column(s) and 100 row(s) "
      ]
     },
     "execution_count": 11,
     "metadata": {},
     "output_type": "execute_result"
    }
   ],
   "source": [
    "catalogs"
   ]
  },
  {
   "cell_type": "code",
   "execution_count": 38,
   "id": "703d73d3",
   "metadata": {},
   "outputs": [],
   "source": [
    "tab5 = catalogs[0]"
   ]
  },
  {
   "cell_type": "code",
   "execution_count": 45,
   "id": "b26cec7f",
   "metadata": {
    "scrolled": false
   },
   "outputs": [
    {
     "data": {
      "text/html": [
       "<div><i>Table length=239044</i>\n",
       "<table id=\"table4642407328\" class=\"table-striped table-bordered table-condensed\">\n",
       "<thead><tr><th>RAJ2000</th><th>DEJ2000</th><th>S3ab</th><th>S3c</th><th>DM</th><th>Per</th><th>phi0</th><th>gAmp</th><th>rAmp</th><th>iAmp</th><th>zAmp</th><th>gmag</th><th>rmag</th><th>imag</th><th>zmag</th><th>__gmag_</th><th>__rmag_</th><th>__imag_</th><th>__zmag_</th><th>E_B-V_</th><th>S10</th><th>PS1</th><th>Sloan</th><th>SimbadName</th></tr></thead>\n",
       "<thead><tr><th>deg</th><th>deg</th><th></th><th></th><th>mag</th><th>d</th><th></th><th>mag</th><th>mag</th><th>mag</th><th>mag</th><th>mag</th><th>mag</th><th>mag</th><th>mag</th><th>mag</th><th>mag</th><th>mag</th><th>mag</th><th>mag</th><th></th><th></th><th></th><th></th></tr></thead>\n",
       "<thead><tr><th>float64</th><th>float64</th><th>float32</th><th>float32</th><th>float32</th><th>float64</th><th>float64</th><th>float32</th><th>float32</th><th>float32</th><th>float32</th><th>float32</th><th>float32</th><th>float32</th><th>float32</th><th>float32</th><th>float32</th><th>float32</th><th>float32</th><th>float32</th><th>int16</th><th>str3</th><th>str5</th><th>str29</th></tr></thead>\n",
       "<tr><td>180.39736</td><td>-0.23480</td><td>0.56</td><td>0.02</td><td>15.44</td><td>0.6713024354</td><td>-0.40301</td><td>0.21</td><td>0.16</td><td>0.12</td><td>0.10</td><td>15.95</td><td>15.80</td><td>15.75</td><td>15.77</td><td>16.09</td><td>15.89</td><td>15.82</td><td>15.82</td><td>0.020</td><td>0</td><td>PS1</td><td>Sloan</td><td></td></tr>\n",
       "<tr><td>179.98457</td><td>-0.00105</td><td>0.99</td><td>0.00</td><td>15.90</td><td>0.4718074065</td><td>-0.18385</td><td>1.32</td><td>0.98</td><td>0.75</td><td>0.67</td><td>15.72</td><td>15.90</td><td>16.03</td><td>16.12</td><td>16.75</td><td>16.58</td><td>16.55</td><td>16.58</td><td>0.012</td><td>0</td><td>PS1</td><td>Sloan</td><td>[SHM2017] J179.98457-00.00105</td></tr>\n",
       "<tr><td>180.76635</td><td>-0.09688</td><td>0.02</td><td>0.43</td><td>17.22</td><td>0.3732300066</td><td>-0.11481</td><td>0.37</td><td>0.26</td><td>0.20</td><td>0.17</td><td>17.86</td><td>17.88</td><td>17.94</td><td>17.99</td><td>18.07</td><td>18.02</td><td>18.04</td><td>18.08</td><td>0.009</td><td>0</td><td>PS1</td><td>Sloan</td><td></td></tr>\n",
       "<tr><td>181.91123</td><td>-0.75283</td><td>0.97</td><td>0.00</td><td>15.39</td><td>0.6724903796</td><td>-0.10905</td><td>0.36</td><td>0.26</td><td>0.23</td><td>0.21</td><td>15.80</td><td>15.68</td><td>15.64</td><td>15.66</td><td>16.03</td><td>15.83</td><td>15.76</td><td>15.77</td><td>0.018</td><td>0</td><td>PS1</td><td>Sloan</td><td>[SHM2017] J181.91123-00.75283</td></tr>\n",
       "<tr><td>181.21252</td><td>-0.35182</td><td>0.02</td><td>0.93</td><td>16.22</td><td>0.3766741377</td><td>0.11333</td><td>0.51</td><td>0.35</td><td>0.29</td><td>0.25</td><td>16.86</td><td>16.85</td><td>16.87</td><td>16.92</td><td>17.15</td><td>17.05</td><td>17.04</td><td>17.06</td><td>0.009</td><td>0</td><td>PS1</td><td>Sloan</td><td>[SHM2017] J181.21252-00.35182</td></tr>\n",
       "<tr><td>182.29351</td><td>-0.79973</td><td>0.99</td><td>0.00</td><td>16.96</td><td>0.6382028695</td><td>-0.37554</td><td>1.06</td><td>0.77</td><td>0.61</td><td>0.54</td><td>16.83</td><td>16.90</td><td>16.99</td><td>17.05</td><td>17.59</td><td>17.41</td><td>17.37</td><td>17.38</td><td>0.047</td><td>0</td><td>PS1</td><td>Sloan</td><td>[SHM2017] J182.29351-00.79973</td></tr>\n",
       "<tr><td>182.13071</td><td>-0.78830</td><td>0.99</td><td>0.00</td><td>16.25</td><td>0.5931475116</td><td>-0.42739</td><td>0.90</td><td>0.65</td><td>0.51</td><td>0.45</td><td>16.29</td><td>16.33</td><td>16.42</td><td>16.43</td><td>16.92</td><td>16.75</td><td>16.71</td><td>16.70</td><td>0.051</td><td>0</td><td>PS1</td><td>Sloan</td><td>[SHM2017] J182.13071-00.78830</td></tr>\n",
       "<tr><td>180.19977</td><td>0.76976</td><td>0.01</td><td>0.11</td><td>16.36</td><td>0.3268700709</td><td>-0.40827</td><td>0.32</td><td>0.23</td><td>0.18</td><td>0.15</td><td>17.03</td><td>17.10</td><td>17.19</td><td>17.26</td><td>17.21</td><td>17.23</td><td>17.29</td><td>17.34</td><td>0.044</td><td>0</td><td>PS1</td><td>Sloan</td><td></td></tr>\n",
       "<tr><td>181.87894</td><td>-0.07010</td><td>0.94</td><td>0.00</td><td>16.70</td><td>0.5438784861</td><td>-0.41714</td><td>0.86</td><td>0.74</td><td>0.59</td><td>0.46</td><td>16.70</td><td>16.69</td><td>16.87</td><td>17.00</td><td>17.32</td><td>17.22</td><td>17.24</td><td>17.29</td><td>0.038</td><td>0</td><td>PS1</td><td>Sloan</td><td>[SHM2017] J181.87894-00.07010</td></tr>\n",
       "<tr><td>178.70308</td><td>0.42691</td><td>0.99</td><td>0.00</td><td>15.43</td><td>0.6304998748</td><td>0.42533</td><td>0.63</td><td>0.43</td><td>0.36</td><td>0.34</td><td>15.73</td><td>15.67</td><td>15.66</td><td>15.68</td><td>16.14</td><td>15.92</td><td>15.85</td><td>15.86</td><td>0.016</td><td>0</td><td>PS1</td><td>Sloan</td><td>[SHM2017] J178.70308+00.42691</td></tr>\n",
       "<tr><td>183.73016</td><td>-1.12013</td><td>0.03</td><td>0.85</td><td>16.32</td><td>0.2833051098</td><td>0.28443</td><td>0.54</td><td>0.37</td><td>0.29</td><td>0.24</td><td>16.98</td><td>17.09</td><td>17.20</td><td>17.27</td><td>17.29</td><td>17.30</td><td>17.36</td><td>17.40</td><td>0.027</td><td>0</td><td>PS1</td><td>Sloan</td><td></td></tr>\n",
       "<tr><td>183.37351</td><td>-1.03108</td><td>0.99</td><td>0.00</td><td>16.88</td><td>0.6163645836</td><td>0.49487</td><td>0.92</td><td>0.65</td><td>0.54</td><td>0.49</td><td>16.91</td><td>16.94</td><td>16.99</td><td>17.04</td><td>17.57</td><td>17.38</td><td>17.32</td><td>17.33</td><td>0.019</td><td>0</td><td>PS1</td><td>Sloan</td><td>[SHM2017] J183.37351-01.03108</td></tr>\n",
       "<tr><td>179.11921</td><td>1.20666</td><td>0.01</td><td>0.98</td><td>16.38</td><td>0.3113255690</td><td>-0.30663</td><td>0.58</td><td>0.43</td><td>0.33</td><td>0.29</td><td>17.02</td><td>17.09</td><td>17.16</td><td>17.26</td><td>17.37</td><td>17.33</td><td>17.35</td><td>17.42</td><td>0.036</td><td>0</td><td>PS1</td><td>Sloan</td><td>[SHM2017] J179.11921+01.20666</td></tr>\n",
       "<tr><td>178.59588</td><td>0.61946</td><td>0.07</td><td>0.00</td><td>12.67</td><td>0.6245731114</td><td>0.29965</td><td>0.36</td><td>0.24</td><td>0.21</td><td>0.23</td><td>13.15</td><td>13.03</td><td>12.98</td><td>12.98</td><td>13.39</td><td>13.16</td><td>13.10</td><td>13.11</td><td>0.022</td><td>0</td><td>PS1</td><td>Sloan</td><td></td></tr>\n",
       "<tr><td>181.23024</td><td>1.19661</td><td>0.35</td><td>0.07</td><td>19.35</td><td>0.5560178139</td><td>0.39322</td><td>0.41</td><td>0.31</td><td>0.26</td><td>0.24</td><td>19.92</td><td>19.78</td><td>19.73</td><td>19.73</td><td>20.18</td><td>19.95</td><td>19.87</td><td>19.86</td><td>0.045</td><td>0</td><td>PS1</td><td>Sloan</td><td></td></tr>\n",
       "<tr><td>180.50380</td><td>1.74006</td><td>0.99</td><td>0.00</td><td>16.02</td><td>0.6296751876</td><td>0.49622</td><td>0.89</td><td>0.65</td><td>0.53</td><td>0.46</td><td>16.09</td><td>16.10</td><td>16.14</td><td>16.20</td><td>16.73</td><td>16.51</td><td>16.45</td><td>16.46</td><td>0.011</td><td>0</td><td>PS1</td><td>Sloan</td><td>[SHM2017] J180.50380+01.74006</td></tr>\n",
       "<tr><td>178.49368</td><td>0.87333</td><td>0.30</td><td>0.06</td><td>19.25</td><td>0.6314207539</td><td>0.46736</td><td>0.73</td><td>0.48</td><td>0.39</td><td>0.34</td><td>19.44</td><td>19.43</td><td>19.44</td><td>19.44</td><td>19.93</td><td>19.74</td><td>19.67</td><td>19.64</td><td>0.040</td><td>0</td><td>PS1</td><td>Sloan</td><td></td></tr>\n",
       "<tr><td>178.22916</td><td>0.67692</td><td>0.26</td><td>0.01</td><td>18.81</td><td>0.4902443248</td><td>-0.35033</td><td>1.21</td><td>0.92</td><td>0.72</td><td>0.66</td><td>18.78</td><td>18.86</td><td>18.96</td><td>19.03</td><td>19.72</td><td>19.50</td><td>19.42</td><td>19.44</td><td>0.023</td><td>0</td><td>PS1</td><td>Sloan</td><td></td></tr>\n",
       "<tr><td>183.80810</td><td>-0.70045</td><td>1.00</td><td>0.00</td><td>13.75</td><td>0.5659562949</td><td>0.28431</td><td>1.03</td><td>0.73</td><td>0.62</td><td>0.53</td><td>13.66</td><td>13.79</td><td>13.87</td><td>13.96</td><td>14.41</td><td>14.29</td><td>14.25</td><td>14.28</td><td>0.062</td><td>0</td><td>PS1</td><td>Sloan</td><td>[SHM2017] J183.80810-00.70045</td></tr>\n",
       "<tr><td>183.86577</td><td>-0.88240</td><td>0.99</td><td>0.00</td><td>15.47</td><td>0.5224877742</td><td>-0.35992</td><td>1.10</td><td>0.79</td><td>0.63</td><td>0.60</td><td>15.50</td><td>15.58</td><td>15.66</td><td>15.70</td><td>16.30</td><td>16.09</td><td>16.04</td><td>16.06</td><td>0.004</td><td>0</td><td>PS1</td><td>Sloan</td><td>[SHM2017] J183.86577-00.88240</td></tr>\n",
       "<tr><td>183.66789</td><td>-0.68274</td><td>0.09</td><td>0.48</td><td>19.48</td><td>0.4049867732</td><td>-0.48671</td><td>0.44</td><td>0.29</td><td>0.26</td><td>0.20</td><td>20.05</td><td>20.09</td><td>20.09</td><td>20.16</td><td>20.31</td><td>20.25</td><td>20.24</td><td>20.27</td><td>0.081</td><td>0</td><td>PS1</td><td>Sloan</td><td></td></tr>\n",
       "<tr><td>182.01549</td><td>0.95087</td><td>0.49</td><td>0.01</td><td>18.85</td><td>0.5606672485</td><td>-0.36109</td><td>0.82</td><td>0.68</td><td>0.55</td><td>0.44</td><td>18.95</td><td>18.90</td><td>19.03</td><td>19.15</td><td>19.55</td><td>19.38</td><td>19.37</td><td>19.41</td><td>0.022</td><td>0</td><td>PS1</td><td>Sloan</td><td></td></tr>\n",
       "<tr><td>180.34271</td><td>2.34917</td><td>1.00</td><td>0.00</td><td>16.98</td><td>0.5285678422</td><td>-0.25200</td><td>1.27</td><td>0.93</td><td>0.74</td><td>0.65</td><td>16.75</td><td>16.92</td><td>17.06</td><td>17.13</td><td>17.74</td><td>17.57</td><td>17.53</td><td>17.54</td><td>0.022</td><td>0</td><td>PS1</td><td>Sloan</td><td>[SHM2017] J180.34271+02.34917</td></tr>\n",
       "<tr><td>178.98908</td><td>1.57778</td><td>0.18</td><td>0.04</td><td>19.44</td><td>0.5081191700</td><td>-0.05149</td><td>0.44</td><td>0.31</td><td>0.27</td><td>0.30</td><td>20.16</td><td>19.95</td><td>19.89</td><td>19.87</td><td>20.44</td><td>20.13</td><td>20.03</td><td>20.03</td><td>0.087</td><td>0</td><td>PS1</td><td>Sloan</td><td></td></tr>\n",
       "<tr><td>185.26732</td><td>-1.65681</td><td>0.70</td><td>0.01</td><td>18.25</td><td>0.5539177927</td><td>0.37973</td><td>0.80</td><td>0.59</td><td>0.47</td><td>0.45</td><td>18.32</td><td>18.39</td><td>18.50</td><td>18.52</td><td>18.88</td><td>18.78</td><td>18.78</td><td>18.78</td><td>0.082</td><td>0</td><td>PS1</td><td>Sloan</td><td></td></tr>\n",
       "<tr><td>185.11696</td><td>-1.55721</td><td>0.99</td><td>0.00</td><td>13.28</td><td>0.5922485879</td><td>-0.35826</td><td>0.93</td><td>0.67</td><td>0.51</td><td>0.50</td><td>13.26</td><td>13.35</td><td>13.45</td><td>13.49</td><td>13.92</td><td>13.77</td><td>13.75</td><td>13.78</td><td>0.068</td><td>0</td><td>PS1</td><td>Sloan</td><td>[SHM2017] J185.11696-01.55721</td></tr>\n",
       "<tr><td>183.80319</td><td>-0.33944</td><td>0.99</td><td>0.00</td><td>19.38</td><td>0.5687802971</td><td>-0.41190</td><td>1.15</td><td>0.83</td><td>0.69</td><td>0.65</td><td>19.27</td><td>19.34</td><td>19.45</td><td>19.51</td><td>20.12</td><td>19.93</td><td>19.89</td><td>19.91</td><td>0.044</td><td>0</td><td>PS1</td><td>Sloan</td><td>[SHM2017] J183.80319-00.33944</td></tr>\n",
       "<tr><td>182.34459</td><td>0.95645</td><td>0.41</td><td>0.01</td><td>18.66</td><td>0.6339848314</td><td>-0.34532</td><td>0.86</td><td>0.62</td><td>0.46</td><td>0.33</td><td>18.76</td><td>18.72</td><td>18.80</td><td>18.78</td><td>19.35</td><td>19.13</td><td>19.08</td><td>18.97</td><td>0.033</td><td>0</td><td>PS1</td><td>Sloan</td><td></td></tr>\n",
       "<tr><td>180.95090</td><td>2.15744</td><td>0.01</td><td>0.72</td><td>18.34</td><td>0.3890415113</td><td>0.36300</td><td>0.48</td><td>0.34</td><td>0.27</td><td>0.23</td><td>18.90</td><td>18.93</td><td>18.98</td><td>19.04</td><td>19.18</td><td>19.12</td><td>19.13</td><td>19.17</td><td>0.038</td><td>0</td><td>PS1</td><td>Sloan</td><td></td></tr>\n",
       "<tr><td>179.82783</td><td>2.57506</td><td>0.98</td><td>0.00</td><td>16.34</td><td>0.5236634546</td><td>0.23019</td><td>1.15</td><td>0.88</td><td>0.69</td><td>0.54</td><td>16.20</td><td>16.31</td><td>16.46</td><td>16.56</td><td>17.10</td><td>16.92</td><td>16.90</td><td>16.90</td><td>0.028</td><td>0</td><td>PS1</td><td>Sloan</td><td>[SHM2017] J179.82783+02.57506</td></tr>\n",
       "<tr><td>179.74691</td><td>2.59872</td><td>0.98</td><td>0.00</td><td>13.09</td><td>0.4771783247</td><td>-0.43175</td><td>1.03</td><td>0.90</td><td>0.71</td><td>0.56</td><td>13.10</td><td>13.10</td><td>13.27</td><td>13.41</td><td>13.87</td><td>13.74</td><td>13.72</td><td>13.75</td><td>0.037</td><td>0</td><td>PS1</td><td>Sloan</td><td>[SHM2017] J179.74691+02.59872</td></tr>\n",
       "<tr><td>186.35029</td><td>-2.12956</td><td>0.63</td><td>0.06</td><td>19.22</td><td>0.5569994803</td><td>-0.40412</td><td>0.41</td><td>0.30</td><td>0.23</td><td>0.19</td><td>19.71</td><td>19.61</td><td>19.62</td><td>19.62</td><td>20.00</td><td>19.79</td><td>19.74</td><td>19.72</td><td>0.050</td><td>0</td><td>PS1</td><td>Sloan</td><td></td></tr>\n",
       "<tr><td>185.33612</td><td>-1.40382</td><td>0.97</td><td>0.01</td><td>17.09</td><td>0.5791113587</td><td>0.29330</td><td>0.75</td><td>0.54</td><td>0.42</td><td>0.38</td><td>17.27</td><td>17.29</td><td>17.33</td><td>17.37</td><td>17.79</td><td>17.62</td><td>17.57</td><td>17.59</td><td>0.030</td><td>0</td><td>PS1</td><td>Sloan</td><td>[SHM2017] J185.33612-01.40382</td></tr>\n",
       "<tr><td>...</td><td>...</td><td>...</td><td>...</td><td>...</td><td>...</td><td>...</td><td>...</td><td>...</td><td>...</td><td>...</td><td>...</td><td>...</td><td>...</td><td>...</td><td>...</td><td>...</td><td>...</td><td>...</td><td>...</td><td>...</td><td>...</td><td>...</td><td>...</td></tr>\n",
       "<tr><td>0.88527</td><td>-26.59882</td><td>0.89</td><td>0.01</td><td>15.63</td><td>0.5812030948</td><td>0.31640</td><td>0.83</td><td>0.60</td><td>0.48</td><td>0.46</td><td>15.68</td><td>15.75</td><td>15.84</td><td>15.88</td><td>16.26</td><td>16.13</td><td>16.11</td><td>16.14</td><td>0.048</td><td>0</td><td>PS1</td><td>Sloan</td><td></td></tr>\n",
       "<tr><td>1.55780</td><td>-27.08941</td><td>0.01</td><td>0.04</td><td>18.90</td><td>0.4115992251</td><td>-0.28687</td><td>0.43</td><td>0.29</td><td>0.23</td><td>0.20</td><td>19.34</td><td>19.43</td><td>19.52</td><td>19.60</td><td>19.58</td><td>19.59</td><td>19.65</td><td>19.70</td><td>0.000</td><td>0</td><td>PS1</td><td>Sloan</td><td></td></tr>\n",
       "<tr><td>358.36190</td><td>-27.54405</td><td>0.01</td><td>0.09</td><td>18.30</td><td>0.3394426911</td><td>-0.48949</td><td>0.45</td><td>0.29</td><td>0.27</td><td>0.21</td><td>19.01</td><td>19.05</td><td>19.05</td><td>19.11</td><td>19.26</td><td>19.20</td><td>19.20</td><td>19.22</td><td>0.089</td><td>0</td><td>PS1</td><td>Sloan</td><td></td></tr>\n",
       "<tr><td>358.60107</td><td>-27.48330</td><td>0.94</td><td>0.01</td><td>16.91</td><td>0.5298194890</td><td>-0.48165</td><td>1.35</td><td>1.04</td><td>0.80</td><td>0.73</td><td>16.54</td><td>16.75</td><td>16.91</td><td>17.02</td><td>17.61</td><td>17.48</td><td>17.47</td><td>17.52</td><td>0.058</td><td>0</td><td>PS1</td><td>Sloan</td><td>[SHM2017] J358.60107-27.48330</td></tr>\n",
       "<tr><td>0.51361</td><td>-26.48321</td><td>0.82</td><td>0.01</td><td>16.15</td><td>0.5639633494</td><td>0.49943</td><td>0.82</td><td>0.58</td><td>0.44</td><td>0.43</td><td>16.27</td><td>16.33</td><td>16.40</td><td>16.41</td><td>16.82</td><td>16.68</td><td>16.66</td><td>16.66</td><td>0.039</td><td>0</td><td>PS1</td><td>Sloan</td><td></td></tr>\n",
       "<tr><td>2.16125</td><td>-28.25510</td><td>0.93</td><td>0.01</td><td>15.79</td><td>0.4877967247</td><td>-0.48444</td><td>1.13</td><td>0.85</td><td>0.64</td><td>0.56</td><td>15.68</td><td>15.91</td><td>16.03</td><td>16.07</td><td>16.56</td><td>16.44</td><td>16.40</td><td>16.39</td><td>0.057</td><td>0</td><td>PS1</td><td>Sloan</td><td>[SHM2017] J002.16125-28.25510</td></tr>\n",
       "<tr><td>2.42808</td><td>-28.39207</td><td>0.99</td><td>0.00</td><td>17.00</td><td>0.5701768952</td><td>0.47805</td><td>0.96</td><td>0.69</td><td>0.53</td><td>0.52</td><td>17.00</td><td>17.09</td><td>17.19</td><td>17.23</td><td>17.69</td><td>17.53</td><td>17.50</td><td>17.54</td><td>0.078</td><td>0</td><td>PS1</td><td>Sloan</td><td>[SHM2017] J002.42808-28.39207</td></tr>\n",
       "<tr><td>0.26866</td><td>-26.69720</td><td>1.00</td><td>0.00</td><td>18.90</td><td>0.6134441937</td><td>-0.17028</td><td>1.01</td><td>0.72</td><td>0.57</td><td>0.53</td><td>18.91</td><td>18.95</td><td>19.01</td><td>19.05</td><td>19.64</td><td>19.42</td><td>19.35</td><td>19.36</td><td>0.026</td><td>0</td><td>PS1</td><td>Sloan</td><td>[SHM2017] J000.26866-26.69720</td></tr>\n",
       "<tr><td>356.70261</td><td>-30.00825</td><td>0.00</td><td>0.92</td><td>13.32</td><td>0.2975584909</td><td>-0.47072</td><td>0.59</td><td>0.43</td><td>0.34</td><td>0.31</td><td>13.98</td><td>14.03</td><td>14.12</td><td>14.19</td><td>14.33</td><td>14.28</td><td>14.32</td><td>14.36</td><td>0.006</td><td>0</td><td>PS1</td><td>Sloan</td><td>[SHM2017] J356.70261-30.00825</td></tr>\n",
       "<tr><td>356.60012</td><td>-30.02609</td><td>0.18</td><td>0.71</td><td>17.12</td><td>0.4048722192</td><td>-0.47731</td><td>0.60</td><td>0.36</td><td>0.29</td><td>0.25</td><td>17.70</td><td>17.72</td><td>17.72</td><td>17.75</td><td>18.06</td><td>17.92</td><td>17.88</td><td>17.89</td><td>0.010</td><td>0</td><td>PS1</td><td>Sloan</td><td></td></tr>\n",
       "<tr><td>359.91782</td><td>-26.99089</td><td>0.02</td><td>0.01</td><td>18.58</td><td>0.4986929766</td><td>0.48429</td><td>0.58</td><td>0.45</td><td>0.31</td><td>0.23</td><td>19.01</td><td>19.01</td><td>19.01</td><td>18.81</td><td>19.40</td><td>19.27</td><td>19.18</td><td>18.93</td><td>0.008</td><td>0</td><td>PS1</td><td>Sloan</td><td></td></tr>\n",
       "<tr><td>0.78121</td><td>-27.59641</td><td>0.21</td><td>0.69</td><td>18.41</td><td>0.3695696614</td><td>0.23371</td><td>0.65</td><td>0.46</td><td>0.37</td><td>0.33</td><td>18.88</td><td>18.94</td><td>19.03</td><td>19.09</td><td>19.27</td><td>19.21</td><td>19.24</td><td>19.28</td><td>0.053</td><td>0</td><td>PS1</td><td>Sloan</td><td></td></tr>\n",
       "<tr><td>0.93580</td><td>-27.76872</td><td>0.35</td><td>0.02</td><td>16.26</td><td>0.7165371133</td><td>-0.07623</td><td>0.70</td><td>0.57</td><td>0.45</td><td>0.36</td><td>16.11</td><td>16.20</td><td>16.33</td><td>16.44</td><td>16.61</td><td>16.54</td><td>16.58</td><td>16.64</td><td>0.078</td><td>0</td><td>PS1</td><td>Sloan</td><td></td></tr>\n",
       "<tr><td>357.91664</td><td>-29.17144</td><td>0.04</td><td>0.08</td><td>12.82</td><td>0.3188219648</td><td>-0.47778</td><td>0.86</td><td>0.60</td><td>0.50</td><td>0.31</td><td>13.27</td><td>13.38</td><td>13.49</td><td>13.49</td><td>13.81</td><td>13.73</td><td>13.77</td><td>13.66</td><td>0.035</td><td>0</td><td>PS1</td><td>Sloan</td><td></td></tr>\n",
       "<tr><td>359.25516</td><td>-27.71702</td><td>0.40</td><td>0.06</td><td>19.05</td><td>0.4552307081</td><td>-0.25288</td><td>0.41</td><td>0.28</td><td>0.27</td><td>0.24</td><td>19.69</td><td>19.64</td><td>19.58</td><td>19.58</td><td>19.97</td><td>19.79</td><td>19.72</td><td>19.71</td><td>0.028</td><td>0</td><td>PS1</td><td>Sloan</td><td></td></tr>\n",
       "<tr><td>0.87321</td><td>-28.03190</td><td>0.60</td><td>0.01</td><td>19.69</td><td>0.6140592633</td><td>0.01120</td><td>1.79</td><td>1.35</td><td>1.05</td><td>0.96</td><td>19.03</td><td>19.23</td><td>19.39</td><td>19.48</td><td>20.48</td><td>20.21</td><td>20.13</td><td>20.15</td><td>0.037</td><td>0</td><td>PS1</td><td>Sloan</td><td></td></tr>\n",
       "<tr><td>2.29092</td><td>-29.20429</td><td>0.01</td><td>0.05</td><td>18.44</td><td>0.3518664952</td><td>0.07221</td><td>0.35</td><td>0.25</td><td>0.20</td><td>0.17</td><td>19.25</td><td>19.20</td><td>19.21</td><td>19.26</td><td>19.45</td><td>19.33</td><td>19.31</td><td>19.34</td><td>0.013</td><td>0</td><td>PS1</td><td>Sloan</td><td></td></tr>\n",
       "<tr><td>2.63355</td><td>-29.49744</td><td>0.04</td><td>0.01</td><td>19.62</td><td>0.8603490962</td><td>-0.24170</td><td>0.67</td><td>0.47</td><td>0.39</td><td>0.34</td><td>19.76</td><td>19.63</td><td>19.58</td><td>19.57</td><td>20.20</td><td>19.91</td><td>19.81</td><td>19.77</td><td>0.054</td><td>0</td><td>PS1</td><td>Sloan</td><td></td></tr>\n",
       "<tr><td>356.93814</td><td>-30.29745</td><td>0.07</td><td>0.38</td><td>18.16</td><td>0.4196011149</td><td>0.40740</td><td>0.48</td><td>0.34</td><td>0.26</td><td>0.22</td><td>18.69</td><td>18.70</td><td>18.75</td><td>18.82</td><td>18.97</td><td>18.89</td><td>18.89</td><td>18.94</td><td>0.063</td><td>0</td><td>PS1</td><td>Sloan</td><td></td></tr>\n",
       "<tr><td>1.74461</td><td>-29.60698</td><td>0.99</td><td>0.00</td><td>13.94</td><td>0.5294193389</td><td>-0.27873</td><td>1.32</td><td>0.95</td><td>0.76</td><td>0.67</td><td>13.75</td><td>13.84</td><td>14.01</td><td>14.10</td><td>14.69</td><td>14.52</td><td>14.50</td><td>14.53</td><td>0.055</td><td>0</td><td>PS1</td><td>Sloan</td><td>[SHM2017] J001.74461-29.60698</td></tr>\n",
       "<tr><td>2.41964</td><td>-30.01711</td><td>0.01</td><td>0.06</td><td>18.14</td><td>0.3837653732</td><td>0.17730</td><td>0.29</td><td>0.21</td><td>0.16</td><td>0.12</td><td>18.64</td><td>18.75</td><td>18.86</td><td>18.94</td><td>18.80</td><td>18.86</td><td>18.94</td><td>19.00</td><td>0.036</td><td>0</td><td>PS1</td><td>Sloan</td><td></td></tr>\n",
       "<tr><td>359.44572</td><td>-28.61662</td><td>0.03</td><td>0.01</td><td>19.69</td><td>0.8575942810</td><td>0.49093</td><td>0.38</td><td>0.29</td><td>0.22</td><td>0.19</td><td>19.95</td><td>19.80</td><td>19.76</td><td>19.78</td><td>20.20</td><td>19.97</td><td>19.88</td><td>19.89</td><td>0.043</td><td>0</td><td>PS1</td><td>Sloan</td><td></td></tr>\n",
       "<tr><td>359.93856</td><td>-28.19128</td><td>0.02</td><td>0.34</td><td>13.91</td><td>0.2761348924</td><td>-0.49675</td><td>0.55</td><td>0.39</td><td>0.30</td><td>0.32</td><td>14.71</td><td>14.74</td><td>14.79</td><td>14.79</td><td>15.03</td><td>14.96</td><td>14.96</td><td>14.97</td><td>0.013</td><td>0</td><td>PS1</td><td>Sloan</td><td></td></tr>\n",
       "<tr><td>358.03013</td><td>-30.46630</td><td>0.96</td><td>0.02</td><td>17.59</td><td>0.6132027824</td><td>-0.49138</td><td>0.72</td><td>0.52</td><td>0.40</td><td>0.35</td><td>17.76</td><td>17.78</td><td>17.81</td><td>17.84</td><td>18.25</td><td>18.09</td><td>18.03</td><td>18.04</td><td>0.054</td><td>0</td><td>PS1</td><td>Sloan</td><td>[SHM2017] J358.03013-30.46630</td></tr>\n",
       "<tr><td>358.22792</td><td>-30.17541</td><td>0.92</td><td>0.00</td><td>14.15</td><td>0.5972406527</td><td>0.35545</td><td>1.28</td><td>0.98</td><td>0.76</td><td>0.69</td><td>13.72</td><td>13.93</td><td>14.09</td><td>14.20</td><td>14.72</td><td>14.61</td><td>14.61</td><td>14.67</td><td>0.075</td><td>0</td><td>PS1</td><td>Sloan</td><td>[SHM2017] J358.22792-30.17541</td></tr>\n",
       "<tr><td>358.26322</td><td>-30.15093</td><td>0.67</td><td>0.01</td><td>15.84</td><td>0.5310082430</td><td>-0.02878</td><td>1.18</td><td>0.91</td><td>0.67</td><td>0.64</td><td>15.61</td><td>15.76</td><td>15.93</td><td>16.04</td><td>16.50</td><td>16.39</td><td>16.39</td><td>16.47</td><td>0.079</td><td>0</td><td>PS1</td><td>Sloan</td><td></td></tr>\n",
       "<tr><td>358.40280</td><td>-29.85898</td><td>0.99</td><td>0.00</td><td>16.92</td><td>0.5549485296</td><td>0.09255</td><td>1.05</td><td>0.91</td><td>0.80</td><td>0.68</td><td>16.83</td><td>16.84</td><td>16.91</td><td>17.03</td><td>17.61</td><td>17.46</td><td>17.44</td><td>17.47</td><td>0.037</td><td>0</td><td>PS1</td><td>Sloan</td><td>[SHM2017] J358.40280-29.85898</td></tr>\n",
       "<tr><td>359.36873</td><td>-28.91348</td><td>0.01</td><td>0.32</td><td>12.64</td><td>0.3453871776</td><td>0.02964</td><td>0.33</td><td>0.24</td><td>0.19</td><td>0.16</td><td>13.27</td><td>13.34</td><td>13.42</td><td>13.48</td><td>13.45</td><td>13.46</td><td>13.52</td><td>13.56</td><td>0.050</td><td>0</td><td>PS1</td><td>Sloan</td><td></td></tr>\n",
       "<tr><td>0.20492</td><td>-28.81688</td><td>0.93</td><td>0.01</td><td>14.23</td><td>0.5829872598</td><td>0.38173</td><td>0.72</td><td>0.47</td><td>0.40</td><td>0.36</td><td>14.42</td><td>14.44</td><td>14.49</td><td>14.54</td><td>14.91</td><td>14.74</td><td>14.71</td><td>14.73</td><td>0.051</td><td>0</td><td>PS1</td><td>Sloan</td><td>[SHM2017] J000.20492-28.81688</td></tr>\n",
       "<tr><td>1.81073</td><td>-30.17620</td><td>0.94</td><td>0.01</td><td>19.62</td><td>0.5486662799</td><td>0.48906</td><td>1.10</td><td>0.82</td><td>0.64</td><td>0.59</td><td>19.43</td><td>19.62</td><td>19.72</td><td>19.84</td><td>20.29</td><td>20.17</td><td>20.15</td><td>20.24</td><td>0.050</td><td>0</td><td>PS1</td><td>Sloan</td><td>[SHM2017] J001.81073-30.17620</td></tr>\n",
       "<tr><td>357.65621</td><td>-31.07279</td><td>0.94</td><td>0.01</td><td>17.27</td><td>0.6429773441</td><td>-0.44383</td><td>0.75</td><td>0.51</td><td>0.38</td><td>0.34</td><td>17.33</td><td>17.38</td><td>17.43</td><td>17.49</td><td>17.89</td><td>17.71</td><td>17.68</td><td>17.71</td><td>0.052</td><td>0</td><td>PS1</td><td>Sloan</td><td>[SHM2017] J357.65621-31.07279</td></tr>\n",
       "<tr><td>0.68567</td><td>-29.60059</td><td>0.01</td><td>0.89</td><td>16.70</td><td>0.3448929968</td><td>0.09951</td><td>0.48</td><td>0.33</td><td>0.27</td><td>0.21</td><td>17.37</td><td>17.38</td><td>17.44</td><td>17.51</td><td>17.64</td><td>17.57</td><td>17.59</td><td>17.62</td><td>0.033</td><td>0</td><td>PS1</td><td>Sloan</td><td></td></tr>\n",
       "<tr><td>1.23965</td><td>-30.29020</td><td>0.02</td><td>0.08</td><td>15.81</td><td>0.3967928199</td><td>-0.33005</td><td>0.73</td><td>0.52</td><td>0.41</td><td>0.36</td><td>16.16</td><td>16.27</td><td>16.36</td><td>16.44</td><td>16.61</td><td>16.57</td><td>16.59</td><td>16.65</td><td>0.077</td><td>0</td><td>PS1</td><td>Sloan</td><td></td></tr>\n",
       "<tr><td>0.16909</td><td>-30.29074</td><td>0.64</td><td>0.03</td><td>17.21</td><td>0.5789024079</td><td>-0.06232</td><td>1.20</td><td>0.92</td><td>0.71</td><td>0.64</td><td>16.85</td><td>17.05</td><td>17.22</td><td>17.32</td><td>17.78</td><td>17.69</td><td>17.70</td><td>17.76</td><td>0.153</td><td>0</td><td>PS1</td><td>Sloan</td><td></td></tr>\n",
       "</table></div>"
      ],
      "text/plain": [
       "<Table length=239044>\n",
       " RAJ2000   DEJ2000    S3ab  ... PS1  Sloan           SimbadName         \n",
       "   deg       deg            ...                                         \n",
       " float64   float64  float32 ... str3  str5             str29            \n",
       "--------- --------- ------- ... ---- ----- -----------------------------\n",
       "180.39736  -0.23480    0.56 ...  PS1 Sloan                              \n",
       "179.98457  -0.00105    0.99 ...  PS1 Sloan [SHM2017] J179.98457-00.00105\n",
       "180.76635  -0.09688    0.02 ...  PS1 Sloan                              \n",
       "181.91123  -0.75283    0.97 ...  PS1 Sloan [SHM2017] J181.91123-00.75283\n",
       "181.21252  -0.35182    0.02 ...  PS1 Sloan [SHM2017] J181.21252-00.35182\n",
       "182.29351  -0.79973    0.99 ...  PS1 Sloan [SHM2017] J182.29351-00.79973\n",
       "182.13071  -0.78830    0.99 ...  PS1 Sloan [SHM2017] J182.13071-00.78830\n",
       "180.19977   0.76976    0.01 ...  PS1 Sloan                              \n",
       "181.87894  -0.07010    0.94 ...  PS1 Sloan [SHM2017] J181.87894-00.07010\n",
       "178.70308   0.42691    0.99 ...  PS1 Sloan [SHM2017] J178.70308+00.42691\n",
       "183.73016  -1.12013    0.03 ...  PS1 Sloan                              \n",
       "183.37351  -1.03108    0.99 ...  PS1 Sloan [SHM2017] J183.37351-01.03108\n",
       "179.11921   1.20666    0.01 ...  PS1 Sloan [SHM2017] J179.11921+01.20666\n",
       "178.59588   0.61946    0.07 ...  PS1 Sloan                              \n",
       "181.23024   1.19661    0.35 ...  PS1 Sloan                              \n",
       "180.50380   1.74006    0.99 ...  PS1 Sloan [SHM2017] J180.50380+01.74006\n",
       "178.49368   0.87333    0.30 ...  PS1 Sloan                              \n",
       "178.22916   0.67692    0.26 ...  PS1 Sloan                              \n",
       "183.80810  -0.70045    1.00 ...  PS1 Sloan [SHM2017] J183.80810-00.70045\n",
       "183.86577  -0.88240    0.99 ...  PS1 Sloan [SHM2017] J183.86577-00.88240\n",
       "183.66789  -0.68274    0.09 ...  PS1 Sloan                              \n",
       "182.01549   0.95087    0.49 ...  PS1 Sloan                              \n",
       "180.34271   2.34917    1.00 ...  PS1 Sloan [SHM2017] J180.34271+02.34917\n",
       "178.98908   1.57778    0.18 ...  PS1 Sloan                              \n",
       "185.26732  -1.65681    0.70 ...  PS1 Sloan                              \n",
       "185.11696  -1.55721    0.99 ...  PS1 Sloan [SHM2017] J185.11696-01.55721\n",
       "183.80319  -0.33944    0.99 ...  PS1 Sloan [SHM2017] J183.80319-00.33944\n",
       "182.34459   0.95645    0.41 ...  PS1 Sloan                              \n",
       "180.95090   2.15744    0.01 ...  PS1 Sloan                              \n",
       "179.82783   2.57506    0.98 ...  PS1 Sloan [SHM2017] J179.82783+02.57506\n",
       "179.74691   2.59872    0.98 ...  PS1 Sloan [SHM2017] J179.74691+02.59872\n",
       "186.35029  -2.12956    0.63 ...  PS1 Sloan                              \n",
       "185.33612  -1.40382    0.97 ...  PS1 Sloan [SHM2017] J185.33612-01.40382\n",
       "      ...       ...     ... ...  ...   ...                           ...\n",
       "  0.88527 -26.59882    0.89 ...  PS1 Sloan                              \n",
       "  1.55780 -27.08941    0.01 ...  PS1 Sloan                              \n",
       "358.36190 -27.54405    0.01 ...  PS1 Sloan                              \n",
       "358.60107 -27.48330    0.94 ...  PS1 Sloan [SHM2017] J358.60107-27.48330\n",
       "  0.51361 -26.48321    0.82 ...  PS1 Sloan                              \n",
       "  2.16125 -28.25510    0.93 ...  PS1 Sloan [SHM2017] J002.16125-28.25510\n",
       "  2.42808 -28.39207    0.99 ...  PS1 Sloan [SHM2017] J002.42808-28.39207\n",
       "  0.26866 -26.69720    1.00 ...  PS1 Sloan [SHM2017] J000.26866-26.69720\n",
       "356.70261 -30.00825    0.00 ...  PS1 Sloan [SHM2017] J356.70261-30.00825\n",
       "356.60012 -30.02609    0.18 ...  PS1 Sloan                              \n",
       "359.91782 -26.99089    0.02 ...  PS1 Sloan                              \n",
       "  0.78121 -27.59641    0.21 ...  PS1 Sloan                              \n",
       "  0.93580 -27.76872    0.35 ...  PS1 Sloan                              \n",
       "357.91664 -29.17144    0.04 ...  PS1 Sloan                              \n",
       "359.25516 -27.71702    0.40 ...  PS1 Sloan                              \n",
       "  0.87321 -28.03190    0.60 ...  PS1 Sloan                              \n",
       "  2.29092 -29.20429    0.01 ...  PS1 Sloan                              \n",
       "  2.63355 -29.49744    0.04 ...  PS1 Sloan                              \n",
       "356.93814 -30.29745    0.07 ...  PS1 Sloan                              \n",
       "  1.74461 -29.60698    0.99 ...  PS1 Sloan [SHM2017] J001.74461-29.60698\n",
       "  2.41964 -30.01711    0.01 ...  PS1 Sloan                              \n",
       "359.44572 -28.61662    0.03 ...  PS1 Sloan                              \n",
       "359.93856 -28.19128    0.02 ...  PS1 Sloan                              \n",
       "358.03013 -30.46630    0.96 ...  PS1 Sloan [SHM2017] J358.03013-30.46630\n",
       "358.22792 -30.17541    0.92 ...  PS1 Sloan [SHM2017] J358.22792-30.17541\n",
       "358.26322 -30.15093    0.67 ...  PS1 Sloan                              \n",
       "358.40280 -29.85898    0.99 ...  PS1 Sloan [SHM2017] J358.40280-29.85898\n",
       "359.36873 -28.91348    0.01 ...  PS1 Sloan                              \n",
       "  0.20492 -28.81688    0.93 ...  PS1 Sloan [SHM2017] J000.20492-28.81688\n",
       "  1.81073 -30.17620    0.94 ...  PS1 Sloan [SHM2017] J001.81073-30.17620\n",
       "357.65621 -31.07279    0.94 ...  PS1 Sloan [SHM2017] J357.65621-31.07279\n",
       "  0.68567 -29.60059    0.01 ...  PS1 Sloan                              \n",
       "  1.23965 -30.29020    0.02 ...  PS1 Sloan                              \n",
       "  0.16909 -30.29074    0.64 ...  PS1 Sloan                              "
      ]
     },
     "execution_count": 45,
     "metadata": {},
     "output_type": "execute_result"
    }
   ],
   "source": [
    "tab5"
   ]
  },
  {
   "cell_type": "code",
   "execution_count": 66,
   "id": "10854375",
   "metadata": {},
   "outputs": [
    {
     "data": {
      "image/png": "[encoded data removed]",
      "text/plain": [
       "<Figure size 432x288 with 1 Axes>"
      ]
     },
     "metadata": {
      "needs_background": "light"
     },
     "output_type": "display_data"
    }
   ],
   "source": [
    "plt.hist(tab5['rmag'],bins=np.linspace(10,25,100))\n",
    "plt.xlabel('R magnitude')\n",
    "_=plt.ylabel('Number of sources')"
   ]
  },
  {
   "cell_type": "markdown",
   "id": "23396c55",
   "metadata": {},
   "source": [
    "So ZTF should have reasonable coverage of most of these sources.\n",
    "\n",
    "We are going to take a random subset of the rows."
   ]
  },
  {
   "cell_type": "code",
   "execution_count": 46,
   "id": "ac3ef97a",
   "metadata": {},
   "outputs": [],
   "source": [
    "rng = np.random.default_rng(seed=42)"
   ]
  },
  {
   "cell_type": "code",
   "execution_count": 49,
   "id": "9140739d",
   "metadata": {
    "scrolled": true
   },
   "outputs": [
    {
     "data": {
      "text/plain": [
       "array([ 14835,  95025, 109544, 190728,  30843, 103759,  36412, 188279,\n",
       "       151143, 118742])"
      ]
     },
     "execution_count": 49,
     "metadata": {},
     "output_type": "execute_result"
    }
   ],
   "source": [
    "random_rows = rng.integers(0,len(tab5),1000)\n",
    "random_rows[:10]"
   ]
  },
  {
   "cell_type": "code",
   "execution_count": 50,
   "id": "0674b0bf",
   "metadata": {},
   "outputs": [
    {
     "data": {
      "text/html": [
       "<div><i>Table length=1000</i>\n",
       "<table id=\"table6290636416\" class=\"table-striped table-bordered table-condensed\">\n",
       "<thead><tr><th>RAJ2000</th><th>DEJ2000</th><th>S3ab</th><th>S3c</th><th>DM</th><th>Per</th><th>phi0</th><th>gAmp</th><th>rAmp</th><th>iAmp</th><th>zAmp</th><th>gmag</th><th>rmag</th><th>imag</th><th>zmag</th><th>__gmag_</th><th>__rmag_</th><th>__imag_</th><th>__zmag_</th><th>E_B-V_</th><th>S10</th><th>PS1</th><th>Sloan</th><th>SimbadName</th></tr></thead>\n",
       "<thead><tr><th>deg</th><th>deg</th><th></th><th></th><th>mag</th><th>d</th><th></th><th>mag</th><th>mag</th><th>mag</th><th>mag</th><th>mag</th><th>mag</th><th>mag</th><th>mag</th><th>mag</th><th>mag</th><th>mag</th><th>mag</th><th>mag</th><th></th><th></th><th></th><th></th></tr></thead>\n",
       "<thead><tr><th>float64</th><th>float64</th><th>float32</th><th>float32</th><th>float32</th><th>float64</th><th>float64</th><th>float32</th><th>float32</th><th>float32</th><th>float32</th><th>float32</th><th>float32</th><th>float32</th><th>float32</th><th>float32</th><th>float32</th><th>float32</th><th>float32</th><th>float32</th><th>int16</th><th>str3</th><th>str5</th><th>str29</th></tr></thead>\n",
       "<tr><td>231.16489</td><td>-25.10317</td><td>0.98</td><td>0.00</td><td>16.31</td><td>0.4605891954</td><td>0.47467</td><td>1.34</td><td>1.03</td><td>0.82</td><td>0.74</td><td>16.00</td><td>16.24</td><td>16.41</td><td>16.56</td><td>17.05</td><td>16.97</td><td>16.98</td><td>17.07</td><td>0.257</td><td>0</td><td>PS1</td><td>Sloan</td><td>[SHM2017] J231.16489-25.10317</td></tr>\n",
       "<tr><td>330.28898</td><td>37.36158</td><td>0.93</td><td>0.00</td><td>19.42</td><td>0.6128307814</td><td>-0.46747</td><td>1.05</td><td>0.71</td><td>0.58</td><td>0.56</td><td>19.48</td><td>19.52</td><td>19.54</td><td>19.58</td><td>20.21</td><td>19.95</td><td>19.86</td><td>19.89</td><td>0.126</td><td>0</td><td>PS1</td><td>Sloan</td><td>[SHM2017] J330.28898+37.36158</td></tr>\n",
       "<tr><td>296.17461</td><td>-3.58758</td><td>0.51</td><td>0.03</td><td>15.62</td><td>0.6634817782</td><td>0.00962</td><td>0.59</td><td>0.43</td><td>0.34</td><td>0.32</td><td>15.89</td><td>15.80</td><td>15.82</td><td>15.83</td><td>16.28</td><td>16.05</td><td>16.00</td><td>16.00</td><td>0.369</td><td>0</td><td>PS1</td><td>Sloan</td><td></td></tr>\n",
       "<tr><td>85.04403</td><td>-21.57030</td><td>0.01</td><td>0.01</td><td>17.58</td><td>0.4985459269</td><td>-0.16067</td><td>0.52</td><td>0.36</td><td>0.30</td><td>0.31</td><td>18.18</td><td>18.05</td><td>18.01</td><td>18.04</td><td>18.51</td><td>18.24</td><td>18.18</td><td>18.22</td><td>0.027</td><td>0</td><td>PS1</td><td>Sloan</td><td></td></tr>\n",
       "<tr><td>312.40008</td><td>85.48132</td><td>1.00</td><td>0.00</td><td>17.58</td><td>0.5805258934</td><td>0.24048</td><td>0.97</td><td>0.71</td><td>0.58</td><td>0.51</td><td>17.67</td><td>17.69</td><td>17.73</td><td>17.78</td><td>18.38</td><td>18.13</td><td>18.06</td><td>18.07</td><td>0.114</td><td>0</td><td>PS1</td><td>Sloan</td><td>[SHM2017] J312.40008+85.48132</td></tr>\n",
       "<tr><td>283.45977</td><td>-10.82647</td><td>0.02</td><td>0.01</td><td>14.48</td><td>0.7628751093</td><td>-0.19748</td><td>0.29</td><td>0.22</td><td>0.16</td><td>0.17</td><td>14.83</td><td>14.68</td><td>14.67</td><td>14.65</td><td>15.01</td><td>14.80</td><td>14.75</td><td>14.74</td><td>0.445</td><td>0</td><td>PS1</td><td>Sloan</td><td></td></tr>\n",
       "<tr><td>127.29134</td><td>-27.93160</td><td>0.03</td><td>0.03</td><td>14.86</td><td>0.5831541959</td><td>0.45269</td><td>0.44</td><td>0.31</td><td>0.26</td><td>0.26</td><td>15.36</td><td>15.23</td><td>15.19</td><td>15.23</td><td>15.64</td><td>15.40</td><td>15.34</td><td>15.37</td><td>0.138</td><td>0</td><td>PS1</td><td>Sloan</td><td></td></tr>\n",
       "<tr><td>332.54510</td><td>37.12422</td><td>0.02</td><td>0.41</td><td>18.03</td><td>0.3598258178</td><td>0.28581</td><td>0.48</td><td>0.30</td><td>0.27</td><td>0.21</td><td>18.75</td><td>18.77</td><td>18.73</td><td>18.75</td><td>19.02</td><td>18.93</td><td>18.88</td><td>18.86</td><td>0.138</td><td>0</td><td>PS1</td><td>Sloan</td><td></td></tr>\n",
       "<tr><td>55.80590</td><td>66.41254</td><td>0.05</td><td>0.07</td><td>14.09</td><td>0.4475014507</td><td>-0.22859</td><td>0.55</td><td>0.41</td><td>0.31</td><td>0.25</td><td>14.64</td><td>14.59</td><td>14.60</td><td>14.64</td><td>14.96</td><td>14.82</td><td>14.77</td><td>14.77</td><td>0.707</td><td>0</td><td>PS1</td><td>Sloan</td><td></td></tr>\n",
       "<tr><td>272.95283</td><td>-28.14261</td><td>0.32</td><td>0.00</td><td>15.21</td><td>0.4873867907</td><td>-0.25425</td><td>1.21</td><td>0.87</td><td>0.63</td><td>0.71</td><td>15.04</td><td>15.21</td><td>15.44</td><td>15.47</td><td>15.97</td><td>15.84</td><td>15.83</td><td>15.91</td><td>0.468</td><td>0</td><td>PS1</td><td>Sloan</td><td></td></tr>\n",
       "<tr><td>331.97785</td><td>40.10028</td><td>0.15</td><td>0.01</td><td>19.21</td><td>0.7759927606</td><td>-0.33536</td><td>0.86</td><td>0.61</td><td>0.48</td><td>0.48</td><td>19.20</td><td>19.17</td><td>19.18</td><td>19.22</td><td>19.85</td><td>19.58</td><td>19.47</td><td>19.50</td><td>0.102</td><td>0</td><td>PS1</td><td>Sloan</td><td></td></tr>\n",
       "<tr><td>131.03849</td><td>-22.96903</td><td>0.01</td><td>0.10</td><td>17.68</td><td>0.3234331037</td><td>0.49665</td><td>0.58</td><td>0.43</td><td>0.33</td><td>0.26</td><td>18.47</td><td>18.42</td><td>18.44</td><td>18.48</td><td>18.81</td><td>18.66</td><td>18.61</td><td>18.61</td><td>0.096</td><td>0</td><td>PS1</td><td>Sloan</td><td></td></tr>\n",
       "<tr><td>248.65388</td><td>15.73938</td><td>0.83</td><td>0.01</td><td>15.51</td><td>0.5855271433</td><td>-0.42429</td><td>1.05</td><td>0.79</td><td>0.62</td><td>0.50</td><td>15.56</td><td>15.58</td><td>15.64</td><td>15.71</td><td>16.30</td><td>16.08</td><td>15.99</td><td>15.99</td><td>0.097</td><td>0</td><td>PS1</td><td>Sloan</td><td></td></tr>\n",
       "<tr><td>300.71520</td><td>49.85975</td><td>0.18</td><td>0.12</td><td>18.50</td><td>0.4774277239</td><td>-0.10953</td><td>0.55</td><td>0.37</td><td>0.28</td><td>0.25</td><td>18.86</td><td>18.91</td><td>18.95</td><td>19.01</td><td>19.26</td><td>19.15</td><td>19.13</td><td>19.17</td><td>0.104</td><td>0</td><td>PS1</td><td>Sloan</td><td></td></tr>\n",
       "<tr><td>296.64159</td><td>17.30497</td><td>0.06</td><td>0.18</td><td>18.35</td><td>0.3473614186</td><td>0.23701</td><td>0.48</td><td>0.36</td><td>0.27</td><td>0.21</td><td>19.12</td><td>19.07</td><td>19.08</td><td>19.12</td><td>19.39</td><td>19.26</td><td>19.23</td><td>19.23</td><td>0.424</td><td>0</td><td>PS1</td><td>Sloan</td><td></td></tr>\n",
       "<tr><td>288.08360</td><td>-3.46005</td><td>0.36</td><td>0.01</td><td>14.52</td><td>0.5189621330</td><td>-0.07813</td><td>0.75</td><td>0.77</td><td>0.52</td><td>0.51</td><td>14.75</td><td>14.62</td><td>14.79</td><td>14.82</td><td>15.27</td><td>15.16</td><td>15.09</td><td>15.12</td><td>0.720</td><td>0</td><td>PS1</td><td>Sloan</td><td></td></tr>\n",
       "<tr><td>311.29007</td><td>45.60208</td><td>0.11</td><td>0.05</td><td>11.58</td><td>0.4494826862</td><td>0.40186</td><td>0.56</td><td>0.41</td><td>0.33</td><td>0.28</td><td>11.88</td><td>11.99</td><td>12.08</td><td>12.17</td><td>12.21</td><td>12.22</td><td>12.26</td><td>12.32</td><td>1.018</td><td>0</td><td>PS1</td><td>Sloan</td><td></td></tr>\n",
       "<tr><td>282.33715</td><td>17.26493</td><td>0.05</td><td>0.15</td><td>18.57</td><td>0.4614727727</td><td>-0.49794</td><td>0.50</td><td>0.35</td><td>0.27</td><td>0.24</td><td>18.95</td><td>19.01</td><td>19.09</td><td>19.15</td><td>19.23</td><td>19.20</td><td>19.23</td><td>19.28</td><td>0.265</td><td>0</td><td>PS1</td><td>Sloan</td><td></td></tr>\n",
       "<tr><td>273.28387</td><td>-24.36148</td><td>0.60</td><td>0.03</td><td>13.89</td><td>0.4863862212</td><td>-0.43659</td><td>1.00</td><td>0.72</td><td>0.54</td><td>0.54</td><td>13.86</td><td>14.02</td><td>14.19</td><td>14.22</td><td>14.59</td><td>14.50</td><td>14.52</td><td>14.53</td><td>1.110</td><td>0</td><td>PS1</td><td>Sloan</td><td></td></tr>\n",
       "<tr><td>311.34768</td><td>33.93634</td><td>0.04</td><td>0.08</td><td>12.95</td><td>0.4770057590</td><td>-0.34513</td><td>0.45</td><td>0.32</td><td>0.26</td><td>0.23</td><td>13.29</td><td>13.35</td><td>13.44</td><td>13.50</td><td>13.55</td><td>13.53</td><td>13.59</td><td>13.63</td><td>0.382</td><td>0</td><td>PS1</td><td>Sloan</td><td></td></tr>\n",
       "<tr><td>295.03192</td><td>37.30162</td><td>0.02</td><td>0.07</td><td>18.12</td><td>0.3825812271</td><td>0.34042</td><td>0.32</td><td>0.23</td><td>0.16</td><td>0.15</td><td>18.79</td><td>18.78</td><td>18.84</td><td>18.87</td><td>18.96</td><td>18.90</td><td>18.93</td><td>18.96</td><td>0.208</td><td>0</td><td>PS1</td><td>Sloan</td><td></td></tr>\n",
       "<tr><td>294.79551</td><td>37.45606</td><td>0.15</td><td>0.05</td><td>18.85</td><td>0.8189982729</td><td>-0.34079</td><td>0.59</td><td>0.40</td><td>0.34</td><td>0.32</td><td>19.03</td><td>18.91</td><td>18.89</td><td>18.90</td><td>19.42</td><td>19.14</td><td>19.07</td><td>19.07</td><td>0.209</td><td>0</td><td>PS1</td><td>Sloan</td><td></td></tr>\n",
       "<tr><td>259.41475</td><td>-18.35380</td><td>0.03</td><td>0.83</td><td>15.27</td><td>0.3602128834</td><td>0.07078</td><td>0.53</td><td>0.36</td><td>0.31</td><td>0.23</td><td>15.90</td><td>15.93</td><td>15.96</td><td>15.99</td><td>16.21</td><td>16.13</td><td>16.13</td><td>16.12</td><td>0.327</td><td>0</td><td>PS1</td><td>Sloan</td><td></td></tr>\n",
       "<tr><td>134.09626</td><td>-5.92778</td><td>0.01</td><td>0.04</td><td>18.19</td><td>0.4388513540</td><td>-0.23154</td><td>0.35</td><td>0.25</td><td>0.19</td><td>0.17</td><td>18.61</td><td>18.70</td><td>18.79</td><td>18.88</td><td>18.81</td><td>18.83</td><td>18.90</td><td>18.98</td><td>0.030</td><td>0</td><td>PS1</td><td>Sloan</td><td></td></tr>\n",
       "<tr><td>272.70132</td><td>-26.24305</td><td>0.99</td><td>0.00</td><td>14.18</td><td>0.5926741519</td><td>0.44004</td><td>1.31</td><td>0.93</td><td>0.79</td><td>0.67</td><td>13.95</td><td>14.08</td><td>14.16</td><td>14.25</td><td>14.93</td><td>14.72</td><td>14.65</td><td>14.66</td><td>0.737</td><td>0</td><td>PS1</td><td>Sloan</td><td>[SHM2017] J272.70132-26.24305</td></tr>\n",
       "<tr><td>261.50136</td><td>-14.37516</td><td>0.03</td><td>0.04</td><td>13.05</td><td>0.3966776789</td><td>-0.01570</td><td>0.57</td><td>0.41</td><td>0.32</td><td>0.28</td><td>13.45</td><td>13.56</td><td>13.65</td><td>13.74</td><td>13.79</td><td>13.79</td><td>13.83</td><td>13.90</td><td>0.649</td><td>0</td><td>PS1</td><td>Sloan</td><td></td></tr>\n",
       "<tr><td>50.81133</td><td>4.77018</td><td>0.06</td><td>0.02</td><td>17.32</td><td>0.5270415732</td><td>-0.16700</td><td>0.78</td><td>0.56</td><td>0.42</td><td>0.30</td><td>17.59</td><td>17.55</td><td>17.63</td><td>17.60</td><td>18.11</td><td>17.91</td><td>17.88</td><td>17.78</td><td>0.141</td><td>0</td><td>PS1</td><td>Sloan</td><td></td></tr>\n",
       "<tr><td>281.09064</td><td>-22.48855</td><td>0.02</td><td>0.04</td><td>17.05</td><td>0.4827667859</td><td>0.17422</td><td>0.61</td><td>0.44</td><td>0.34</td><td>0.31</td><td>17.49</td><td>17.46</td><td>17.49</td><td>17.52</td><td>17.86</td><td>17.71</td><td>17.67</td><td>17.68</td><td>0.484</td><td>0</td><td>PS1</td><td>Sloan</td><td></td></tr>\n",
       "<tr><td>297.71647</td><td>15.06757</td><td>0.13</td><td>0.08</td><td>16.25</td><td>0.4159011669</td><td>-0.14587</td><td>0.65</td><td>0.43</td><td>0.35</td><td>0.31</td><td>16.75</td><td>16.76</td><td>16.80</td><td>16.85</td><td>17.18</td><td>17.02</td><td>16.99</td><td>17.02</td><td>0.288</td><td>0</td><td>PS1</td><td>Sloan</td><td></td></tr>\n",
       "<tr><td>286.55312</td><td>-19.82346</td><td>0.06</td><td>0.01</td><td>19.54</td><td>0.8856112887</td><td>0.39966</td><td>0.78</td><td>0.54</td><td>0.43</td><td>0.36</td><td>19.41</td><td>19.40</td><td>19.42</td><td>19.50</td><td>19.96</td><td>19.76</td><td>19.71</td><td>19.74</td><td>0.179</td><td>0</td><td>PS1</td><td>Sloan</td><td></td></tr>\n",
       "<tr><td>116.08079</td><td>-18.75287</td><td>0.44</td><td>0.01</td><td>15.39</td><td>0.5612546904</td><td>-0.25625</td><td>0.80</td><td>0.62</td><td>0.51</td><td>0.41</td><td>15.44</td><td>15.49</td><td>15.58</td><td>15.72</td><td>16.02</td><td>15.91</td><td>15.90</td><td>15.97</td><td>0.365</td><td>0</td><td>PS1</td><td>Sloan</td><td></td></tr>\n",
       "<tr><td>248.45452</td><td>-1.54916</td><td>0.97</td><td>0.00</td><td>13.78</td><td>0.5525734350</td><td>-0.34440</td><td>0.91</td><td>0.69</td><td>0.53</td><td>0.48</td><td>13.80</td><td>13.87</td><td>13.97</td><td>14.06</td><td>14.47</td><td>14.33</td><td>14.31</td><td>14.35</td><td>0.216</td><td>0</td><td>PS1</td><td>Sloan</td><td>[SHM2017] J248.45452-01.54916</td></tr>\n",
       "<tr><td>285.31273</td><td>24.56742</td><td>0.02</td><td>0.29</td><td>14.34</td><td>0.3791041071</td><td>-0.17097</td><td>0.41</td><td>0.32</td><td>0.25</td><td>0.25</td><td>14.94</td><td>14.95</td><td>15.02</td><td>15.08</td><td>15.17</td><td>15.13</td><td>15.15</td><td>15.21</td><td>0.365</td><td>0</td><td>PS1</td><td>Sloan</td><td></td></tr>\n",
       "<tr><td>...</td><td>...</td><td>...</td><td>...</td><td>...</td><td>...</td><td>...</td><td>...</td><td>...</td><td>...</td><td>...</td><td>...</td><td>...</td><td>...</td><td>...</td><td>...</td><td>...</td><td>...</td><td>...</td><td>...</td><td>...</td><td>...</td><td>...</td><td>...</td></tr>\n",
       "<tr><td>106.56283</td><td>13.08370</td><td>0.22</td><td>0.05</td><td>14.71</td><td>0.4175195881</td><td>0.37994</td><td>0.89</td><td>0.62</td><td>0.51</td><td>0.33</td><td>14.93</td><td>15.05</td><td>15.15</td><td>15.15</td><td>15.50</td><td>15.41</td><td>15.45</td><td>15.33</td><td>0.071</td><td>0</td><td>PS1</td><td>Sloan</td><td></td></tr>\n",
       "<tr><td>284.49192</td><td>19.07418</td><td>0.99</td><td>0.00</td><td>13.72</td><td>0.5602022542</td><td>0.49339</td><td>1.02</td><td>0.74</td><td>0.60</td><td>0.54</td><td>13.73</td><td>13.77</td><td>13.87</td><td>13.91</td><td>14.46</td><td>14.27</td><td>14.23</td><td>14.24</td><td>0.431</td><td>0</td><td>PS1</td><td>Sloan</td><td>[SHM2017] J284.49192+19.07418</td></tr>\n",
       "<tr><td>295.42845</td><td>49.16498</td><td>0.13</td><td>0.01</td><td>19.55</td><td>0.4690613549</td><td>-0.48500</td><td>1.35</td><td>0.89</td><td>0.77</td><td>0.66</td><td>19.27</td><td>19.64</td><td>19.71</td><td>19.82</td><td>20.33</td><td>20.24</td><td>20.20</td><td>20.23</td><td>0.094</td><td>0</td><td>PS1</td><td>Sloan</td><td></td></tr>\n",
       "<tr><td>262.69246</td><td>-16.28529</td><td>0.02</td><td>0.88</td><td>14.03</td><td>0.3174461760</td><td>-0.06387</td><td>0.61</td><td>0.43</td><td>0.34</td><td>0.30</td><td>14.59</td><td>14.70</td><td>14.79</td><td>14.87</td><td>14.95</td><td>14.94</td><td>14.98</td><td>15.04</td><td>0.412</td><td>0</td><td>PS1</td><td>Sloan</td><td></td></tr>\n",
       "<tr><td>67.52593</td><td>32.54087</td><td>0.47</td><td>0.05</td><td>15.92</td><td>0.6438520547</td><td>-0.10402</td><td>0.61</td><td>0.42</td><td>0.31</td><td>0.30</td><td>16.18</td><td>16.12</td><td>16.16</td><td>16.16</td><td>16.59</td><td>16.37</td><td>16.32</td><td>16.32</td><td>0.427</td><td>0</td><td>PS1</td><td>Sloan</td><td></td></tr>\n",
       "<tr><td>260.84798</td><td>-20.46081</td><td>0.05</td><td>0.79</td><td>14.89</td><td>0.3134766217</td><td>-0.28852</td><td>0.48</td><td>0.33</td><td>0.26</td><td>0.23</td><td>15.70</td><td>15.67</td><td>15.70</td><td>15.73</td><td>15.97</td><td>15.86</td><td>15.84</td><td>15.85</td><td>0.499</td><td>0</td><td>PS1</td><td>Sloan</td><td></td></tr>\n",
       "<tr><td>314.09919</td><td>-30.44132</td><td>0.71</td><td>0.03</td><td>18.54</td><td>0.5966449420</td><td>-0.25133</td><td>0.41</td><td>0.25</td><td>0.22</td><td>0.24</td><td>18.85</td><td>18.87</td><td>18.88</td><td>18.88</td><td>19.11</td><td>19.02</td><td>19.01</td><td>19.02</td><td>0.166</td><td>0</td><td>PS1</td><td>Sloan</td><td></td></tr>\n",
       "<tr><td>168.14922</td><td>33.81330</td><td>0.03</td><td>0.84</td><td>16.88</td><td>0.3709652700</td><td>0.46801</td><td>0.60</td><td>0.43</td><td>0.37</td><td>0.31</td><td>17.44</td><td>17.46</td><td>17.50</td><td>17.57</td><td>17.80</td><td>17.71</td><td>17.70</td><td>17.74</td><td>0.036</td><td>0</td><td>PS1</td><td>Sloan</td><td></td></tr>\n",
       "<tr><td>271.20346</td><td>-27.45983</td><td>0.25</td><td>0.01</td><td>12.37</td><td>0.5411670955</td><td>0.38290</td><td>1.76</td><td>1.35</td><td>1.11</td><td>0.77</td><td>11.83</td><td>11.99</td><td>12.18</td><td>12.34</td><td>13.24</td><td>13.00</td><td>12.91</td><td>12.83</td><td>0.566</td><td>0</td><td>PS1</td><td>Sloan</td><td></td></tr>\n",
       "<tr><td>278.45503</td><td>-22.34741</td><td>0.03</td><td>0.02</td><td>15.83</td><td>0.4375902184</td><td>-0.26523</td><td>0.64</td><td>0.47</td><td>0.38</td><td>0.33</td><td>16.45</td><td>16.34</td><td>16.33</td><td>16.32</td><td>16.88</td><td>16.62</td><td>16.53</td><td>16.50</td><td>0.360</td><td>0</td><td>PS1</td><td>Sloan</td><td></td></tr>\n",
       "<tr><td>217.80121</td><td>3.19370</td><td>0.99</td><td>0.00</td><td>18.53</td><td>0.5861475706</td><td>-0.18911</td><td>0.88</td><td>0.71</td><td>0.51</td><td>0.52</td><td>18.58</td><td>18.59</td><td>18.72</td><td>18.74</td><td>19.22</td><td>19.04</td><td>19.01</td><td>19.02</td><td>0.044</td><td>0</td><td>PS1</td><td>Sloan</td><td>[SHM2017] J217.80121+03.19370</td></tr>\n",
       "<tr><td>30.28398</td><td>56.76902</td><td>0.03</td><td>0.04</td><td>15.67</td><td>0.3121143648</td><td>-0.40269</td><td>0.32</td><td>0.23</td><td>0.16</td><td>0.15</td><td>16.49</td><td>16.49</td><td>16.54</td><td>16.58</td><td>16.67</td><td>16.61</td><td>16.63</td><td>16.66</td><td>0.262</td><td>0</td><td>PS1</td><td>Sloan</td><td></td></tr>\n",
       "<tr><td>297.46060</td><td>-4.23986</td><td>0.03</td><td>0.01</td><td>14.42</td><td>0.5794807572</td><td>0.14474</td><td>0.31</td><td>0.23</td><td>0.18</td><td>0.18</td><td>14.98</td><td>14.85</td><td>14.81</td><td>14.82</td><td>15.19</td><td>14.97</td><td>14.91</td><td>14.91</td><td>0.269</td><td>0</td><td>PS1</td><td>Sloan</td><td></td></tr>\n",
       "<tr><td>286.58575</td><td>21.24499</td><td>0.03</td><td>0.01</td><td>18.35</td><td>0.8542266325</td><td>-0.03560</td><td>0.75</td><td>0.62</td><td>0.50</td><td>0.40</td><td>18.16</td><td>18.10</td><td>18.23</td><td>18.35</td><td>18.69</td><td>18.54</td><td>18.54</td><td>18.59</td><td>0.669</td><td>0</td><td>PS1</td><td>Sloan</td><td></td></tr>\n",
       "<tr><td>231.82857</td><td>-29.12948</td><td>0.01</td><td>0.31</td><td>16.23</td><td>0.3952215732</td><td>-0.11085</td><td>0.36</td><td>0.25</td><td>0.20</td><td>0.17</td><td>16.72</td><td>16.81</td><td>16.90</td><td>16.98</td><td>16.93</td><td>16.95</td><td>17.01</td><td>17.07</td><td>0.361</td><td>0</td><td>PS1</td><td>Sloan</td><td></td></tr>\n",
       "<tr><td>304.14913</td><td>1.55365</td><td>0.03</td><td>0.26</td><td>16.42</td><td>0.4815599263</td><td>0.44881</td><td>0.47</td><td>0.32</td><td>0.24</td><td>0.21</td><td>16.69</td><td>16.80</td><td>16.92</td><td>17.01</td><td>16.96</td><td>16.98</td><td>17.05</td><td>17.12</td><td>0.186</td><td>0</td><td>PS1</td><td>Sloan</td><td></td></tr>\n",
       "<tr><td>297.20977</td><td>-13.70412</td><td>0.02</td><td>0.00</td><td>15.91</td><td>0.8362047594</td><td>-0.16473</td><td>0.63</td><td>0.44</td><td>0.39</td><td>0.33</td><td>15.99</td><td>15.90</td><td>15.90</td><td>15.91</td><td>16.40</td><td>16.16</td><td>16.12</td><td>16.09</td><td>0.293</td><td>0</td><td>PS1</td><td>Sloan</td><td></td></tr>\n",
       "<tr><td>284.16311</td><td>18.67306</td><td>0.02</td><td>0.01</td><td>18.73</td><td>0.8650241236</td><td>0.30663</td><td>0.49</td><td>0.34</td><td>0.27</td><td>0.25</td><td>18.86</td><td>18.75</td><td>18.77</td><td>18.77</td><td>19.18</td><td>18.95</td><td>18.91</td><td>18.90</td><td>0.396</td><td>0</td><td>PS1</td><td>Sloan</td><td></td></tr>\n",
       "<tr><td>49.52396</td><td>59.88148</td><td>0.01</td><td>0.04</td><td>14.55</td><td>0.2496915579</td><td>-0.02938</td><td>0.42</td><td>0.31</td><td>0.25</td><td>0.21</td><td>15.36</td><td>15.46</td><td>15.55</td><td>15.65</td><td>15.60</td><td>15.63</td><td>15.69</td><td>15.76</td><td>1.047</td><td>0</td><td>PS1</td><td>Sloan</td><td></td></tr>\n",
       "<tr><td>347.35840</td><td>64.17320</td><td>0.03</td><td>0.14</td><td>13.74</td><td>0.3917304286</td><td>-0.33754</td><td>0.47</td><td>0.32</td><td>0.24</td><td>0.21</td><td>14.16</td><td>14.28</td><td>14.40</td><td>14.48</td><td>14.44</td><td>14.46</td><td>14.53</td><td>14.59</td><td>1.103</td><td>0</td><td>PS1</td><td>Sloan</td><td></td></tr>\n",
       "<tr><td>81.86360</td><td>-3.86011</td><td>0.98</td><td>0.01</td><td>12.20</td><td>0.5873932237</td><td>-0.16188</td><td>0.86</td><td>0.62</td><td>0.47</td><td>0.46</td><td>12.21</td><td>12.30</td><td>12.40</td><td>12.44</td><td>12.82</td><td>12.69</td><td>12.68</td><td>12.71</td><td>0.323</td><td>0</td><td>PS1</td><td>Sloan</td><td>[SHM2017] J081.86360-03.86011</td></tr>\n",
       "<tr><td>153.52358</td><td>21.82560</td><td>0.04</td><td>0.63</td><td>17.35</td><td>0.3527125904</td><td>-0.11170</td><td>0.47</td><td>0.33</td><td>0.26</td><td>0.21</td><td>18.00</td><td>18.02</td><td>18.08</td><td>18.14</td><td>18.28</td><td>18.20</td><td>18.22</td><td>18.26</td><td>0.031</td><td>0</td><td>PS1</td><td>Sloan</td><td></td></tr>\n",
       "<tr><td>282.18097</td><td>-11.12706</td><td>0.03</td><td>0.37</td><td>14.69</td><td>0.2269397380</td><td>0.25034</td><td>0.62</td><td>0.42</td><td>0.32</td><td>0.27</td><td>15.49</td><td>15.61</td><td>15.73</td><td>15.82</td><td>15.86</td><td>15.85</td><td>15.90</td><td>15.96</td><td>0.590</td><td>0</td><td>PS1</td><td>Sloan</td><td></td></tr>\n",
       "<tr><td>289.15851</td><td>-9.42313</td><td>0.27</td><td>0.02</td><td>19.55</td><td>0.5709986878</td><td>0.02868</td><td>1.21</td><td>0.90</td><td>0.68</td><td>0.54</td><td>19.36</td><td>19.51</td><td>19.61</td><td>19.73</td><td>20.23</td><td>20.07</td><td>20.05</td><td>20.07</td><td>0.306</td><td>0</td><td>PS1</td><td>Sloan</td><td></td></tr>\n",
       "<tr><td>63.48463</td><td>51.20676</td><td>0.01</td><td>0.07</td><td>13.19</td><td>0.3123961921</td><td>-0.20172</td><td>0.47</td><td>0.32</td><td>0.23</td><td>0.24</td><td>13.83</td><td>13.93</td><td>14.02</td><td>14.09</td><td>14.09</td><td>14.10</td><td>14.15</td><td>14.22</td><td>0.950</td><td>0</td><td>PS1</td><td>Sloan</td><td></td></tr>\n",
       "<tr><td>110.18389</td><td>-15.01084</td><td>0.03</td><td>0.09</td><td>12.45</td><td>0.4154923600</td><td>0.42240</td><td>0.25</td><td>0.18</td><td>0.14</td><td>0.12</td><td>12.94</td><td>13.02</td><td>13.12</td><td>13.19</td><td>13.08</td><td>13.12</td><td>13.19</td><td>13.26</td><td>0.423</td><td>0</td><td>PS1</td><td>Sloan</td><td></td></tr>\n",
       "<tr><td>189.87139</td><td>-26.77086</td><td>0.74</td><td>0.06</td><td>15.17</td><td>0.5815520725</td><td>-0.42826</td><td>0.67</td><td>0.46</td><td>0.36</td><td>0.37</td><td>15.39</td><td>15.41</td><td>15.45</td><td>15.45</td><td>15.84</td><td>15.68</td><td>15.65</td><td>15.66</td><td>0.000</td><td>0</td><td>PS1</td><td>Sloan</td><td></td></tr>\n",
       "<tr><td>274.31905</td><td>-15.67095</td><td>0.05</td><td>0.05</td><td>11.63</td><td>0.4993130689</td><td>-0.23353</td><td>0.70</td><td>0.48</td><td>0.36</td><td>0.31</td><td>11.80</td><td>11.91</td><td>12.03</td><td>12.12</td><td>12.23</td><td>12.19</td><td>12.23</td><td>12.29</td><td>0.869</td><td>0</td><td>PS1</td><td>Sloan</td><td></td></tr>\n",
       "<tr><td>43.84391</td><td>75.18869</td><td>0.01</td><td>0.02</td><td>12.04</td><td>0.2979863481</td><td>0.20145</td><td>0.29</td><td>0.21</td><td>0.16</td><td>0.15</td><td>12.77</td><td>12.86</td><td>12.95</td><td>13.05</td><td>12.93</td><td>12.97</td><td>13.04</td><td>13.12</td><td>0.421</td><td>0</td><td>PS1</td><td>Sloan</td><td></td></tr>\n",
       "<tr><td>324.16109</td><td>47.14361</td><td>0.03</td><td>0.01</td><td>14.17</td><td>0.6296515907</td><td>-0.08918</td><td>0.41</td><td>0.25</td><td>0.22</td><td>0.24</td><td>14.45</td><td>14.46</td><td>14.48</td><td>14.48</td><td>14.71</td><td>14.61</td><td>14.60</td><td>14.61</td><td>0.523</td><td>0</td><td>PS1</td><td>Sloan</td><td></td></tr>\n",
       "<tr><td>308.39172</td><td>24.03635</td><td>0.07</td><td>0.10</td><td>14.76</td><td>0.4012686678</td><td>0.48954</td><td>0.44</td><td>0.33</td><td>0.26</td><td>0.22</td><td>15.26</td><td>15.32</td><td>15.38</td><td>15.45</td><td>15.51</td><td>15.50</td><td>15.52</td><td>15.57</td><td>0.217</td><td>0</td><td>PS1</td><td>Sloan</td><td></td></tr>\n",
       "<tr><td>353.12535</td><td>49.04961</td><td>0.28</td><td>0.00</td><td>19.50</td><td>0.5923301094</td><td>0.39936</td><td>0.94</td><td>0.86</td><td>0.79</td><td>0.55</td><td>19.72</td><td>19.51</td><td>19.50</td><td>19.44</td><td>20.37</td><td>20.05</td><td>19.97</td><td>19.76</td><td>0.156</td><td>0</td><td>PS1</td><td>Sloan</td><td></td></tr>\n",
       "<tr><td>325.55182</td><td>65.11219</td><td>0.01</td><td>0.01</td><td>15.62</td><td>0.4643991374</td><td>0.15478</td><td>0.43</td><td>0.29</td><td>0.25</td><td>0.19</td><td>16.09</td><td>16.12</td><td>16.15</td><td>16.18</td><td>16.33</td><td>16.27</td><td>16.28</td><td>16.28</td><td>0.536</td><td>0</td><td>PS1</td><td>Sloan</td><td></td></tr>\n",
       "<tr><td>74.19530</td><td>8.41495</td><td>0.00</td><td>0.98</td><td>15.92</td><td>0.3407619794</td><td>0.31576</td><td>0.46</td><td>0.32</td><td>0.25</td><td>0.27</td><td>16.59</td><td>16.63</td><td>16.68</td><td>16.68</td><td>16.85</td><td>16.80</td><td>16.82</td><td>16.82</td><td>0.142</td><td>0</td><td>PS1</td><td>Sloan</td><td>[SHM2017] J074.19530+08.41495</td></tr>\n",
       "</table></div>"
      ],
      "text/plain": [
       "<Table length=1000>\n",
       " RAJ2000   DEJ2000    S3ab  ... PS1  Sloan           SimbadName         \n",
       "   deg       deg            ...                                         \n",
       " float64   float64  float32 ... str3  str5             str29            \n",
       "--------- --------- ------- ... ---- ----- -----------------------------\n",
       "231.16489 -25.10317    0.98 ...  PS1 Sloan [SHM2017] J231.16489-25.10317\n",
       "330.28898  37.36158    0.93 ...  PS1 Sloan [SHM2017] J330.28898+37.36158\n",
       "296.17461  -3.58758    0.51 ...  PS1 Sloan                              \n",
       " 85.04403 -21.57030    0.01 ...  PS1 Sloan                              \n",
       "312.40008  85.48132    1.00 ...  PS1 Sloan [SHM2017] J312.40008+85.48132\n",
       "283.45977 -10.82647    0.02 ...  PS1 Sloan                              \n",
       "127.29134 -27.93160    0.03 ...  PS1 Sloan                              \n",
       "332.54510  37.12422    0.02 ...  PS1 Sloan                              \n",
       " 55.80590  66.41254    0.05 ...  PS1 Sloan                              \n",
       "272.95283 -28.14261    0.32 ...  PS1 Sloan                              \n",
       "331.97785  40.10028    0.15 ...  PS1 Sloan                              \n",
       "131.03849 -22.96903    0.01 ...  PS1 Sloan                              \n",
       "248.65388  15.73938    0.83 ...  PS1 Sloan                              \n",
       "300.71520  49.85975    0.18 ...  PS1 Sloan                              \n",
       "296.64159  17.30497    0.06 ...  PS1 Sloan                              \n",
       "288.08360  -3.46005    0.36 ...  PS1 Sloan                              \n",
       "311.29007  45.60208    0.11 ...  PS1 Sloan                              \n",
       "282.33715  17.26493    0.05 ...  PS1 Sloan                              \n",
       "273.28387 -24.36148    0.60 ...  PS1 Sloan                              \n",
       "311.34768  33.93634    0.04 ...  PS1 Sloan                              \n",
       "295.03192  37.30162    0.02 ...  PS1 Sloan                              \n",
       "294.79551  37.45606    0.15 ...  PS1 Sloan                              \n",
       "259.41475 -18.35380    0.03 ...  PS1 Sloan                              \n",
       "134.09626  -5.92778    0.01 ...  PS1 Sloan                              \n",
       "272.70132 -26.24305    0.99 ...  PS1 Sloan [SHM2017] J272.70132-26.24305\n",
       "261.50136 -14.37516    0.03 ...  PS1 Sloan                              \n",
       " 50.81133   4.77018    0.06 ...  PS1 Sloan                              \n",
       "281.09064 -22.48855    0.02 ...  PS1 Sloan                              \n",
       "297.71647  15.06757    0.13 ...  PS1 Sloan                              \n",
       "286.55312 -19.82346    0.06 ...  PS1 Sloan                              \n",
       "116.08079 -18.75287    0.44 ...  PS1 Sloan                              \n",
       "248.45452  -1.54916    0.97 ...  PS1 Sloan [SHM2017] J248.45452-01.54916\n",
       "285.31273  24.56742    0.02 ...  PS1 Sloan                              \n",
       "      ...       ...     ... ...  ...   ...                           ...\n",
       "106.56283  13.08370    0.22 ...  PS1 Sloan                              \n",
       "284.49192  19.07418    0.99 ...  PS1 Sloan [SHM2017] J284.49192+19.07418\n",
       "295.42845  49.16498    0.13 ...  PS1 Sloan                              \n",
       "262.69246 -16.28529    0.02 ...  PS1 Sloan                              \n",
       " 67.52593  32.54087    0.47 ...  PS1 Sloan                              \n",
       "260.84798 -20.46081    0.05 ...  PS1 Sloan                              \n",
       "314.09919 -30.44132    0.71 ...  PS1 Sloan                              \n",
       "168.14922  33.81330    0.03 ...  PS1 Sloan                              \n",
       "271.20346 -27.45983    0.25 ...  PS1 Sloan                              \n",
       "278.45503 -22.34741    0.03 ...  PS1 Sloan                              \n",
       "217.80121   3.19370    0.99 ...  PS1 Sloan [SHM2017] J217.80121+03.19370\n",
       " 30.28398  56.76902    0.03 ...  PS1 Sloan                              \n",
       "297.46060  -4.23986    0.03 ...  PS1 Sloan                              \n",
       "286.58575  21.24499    0.03 ...  PS1 Sloan                              \n",
       "231.82857 -29.12948    0.01 ...  PS1 Sloan                              \n",
       "304.14913   1.55365    0.03 ...  PS1 Sloan                              \n",
       "297.20977 -13.70412    0.02 ...  PS1 Sloan                              \n",
       "284.16311  18.67306    0.02 ...  PS1 Sloan                              \n",
       " 49.52396  59.88148    0.01 ...  PS1 Sloan                              \n",
       "347.35840  64.17320    0.03 ...  PS1 Sloan                              \n",
       " 81.86360  -3.86011    0.98 ...  PS1 Sloan [SHM2017] J081.86360-03.86011\n",
       "153.52358  21.82560    0.04 ...  PS1 Sloan                              \n",
       "282.18097 -11.12706    0.03 ...  PS1 Sloan                              \n",
       "289.15851  -9.42313    0.27 ...  PS1 Sloan                              \n",
       " 63.48463  51.20676    0.01 ...  PS1 Sloan                              \n",
       "110.18389 -15.01084    0.03 ...  PS1 Sloan                              \n",
       "189.87139 -26.77086    0.74 ...  PS1 Sloan                              \n",
       "274.31905 -15.67095    0.05 ...  PS1 Sloan                              \n",
       " 43.84391  75.18869    0.01 ...  PS1 Sloan                              \n",
       "324.16109  47.14361    0.03 ...  PS1 Sloan                              \n",
       "308.39172  24.03635    0.07 ...  PS1 Sloan                              \n",
       "353.12535  49.04961    0.28 ...  PS1 Sloan                              \n",
       "325.55182  65.11219    0.01 ...  PS1 Sloan                              \n",
       " 74.19530   8.41495    0.00 ...  PS1 Sloan [SHM2017] J074.19530+08.41495"
      ]
     },
     "execution_count": 50,
     "metadata": {},
     "output_type": "execute_result"
    }
   ],
   "source": [
    "tab5[random_rows]"
   ]
  },
  {
   "cell_type": "code",
   "execution_count": 67,
   "id": "b57cea3a",
   "metadata": {},
   "outputs": [
    {
     "ename": "ImportError",
     "evalue": "cannot import name pprint",
     "output_type": "error",
     "traceback": [
      "\u001b[0;31m---------------------------------------------------------------------------\u001b[0m",
      "\u001b[0;31mImportError\u001b[0m                               Traceback (most recent call last)",
      "\u001b[0;32m/var/folders/8r/t_85r7xx6h73wgtk79kkhxh00000gn/T/ipykernel_78633/354873517.py\u001b[0m in \u001b[0;36m<module>\u001b[0;34m\u001b[0m\n\u001b[0;32m----> 1\u001b[0;31m \u001b[0mtab5\u001b[0m\u001b[0;34m[\u001b[0m\u001b[0mrandom_rows\u001b[0m\u001b[0;34m]\u001b[0m\u001b[0;34m.\u001b[0m\u001b[0mwrite\u001b[0m\u001b[0;34m(\u001b[0m\u001b[0;34m'../data/ztf_rrl_lightcurves/tab5_subset_all.csv'\u001b[0m\u001b[0;34m)\u001b[0m\u001b[0;34m\u001b[0m\u001b[0;34m\u001b[0m\u001b[0m\n\u001b[0m",
      "\u001b[0;32m~/mambaforge/lib/python3.9/site-packages/astropy/table/connect.py\u001b[0m in \u001b[0;36m__call__\u001b[0;34m(self, serialize_method, *args, **kwargs)\u001b[0m\n\u001b[1;32m    127\u001b[0m         \u001b[0minstance\u001b[0m \u001b[0;34m=\u001b[0m \u001b[0mself\u001b[0m\u001b[0;34m.\u001b[0m\u001b[0m_instance\u001b[0m\u001b[0;34m\u001b[0m\u001b[0;34m\u001b[0m\u001b[0m\n\u001b[1;32m    128\u001b[0m         \u001b[0;32mwith\u001b[0m \u001b[0mserialize_method_as\u001b[0m\u001b[0;34m(\u001b[0m\u001b[0minstance\u001b[0m\u001b[0;34m,\u001b[0m \u001b[0mserialize_method\u001b[0m\u001b[0;34m)\u001b[0m\u001b[0;34m:\u001b[0m\u001b[0;34m\u001b[0m\u001b[0;34m\u001b[0m\u001b[0m\n\u001b[0;32m--> 129\u001b[0;31m             \u001b[0mself\u001b[0m\u001b[0;34m.\u001b[0m\u001b[0mregistry\u001b[0m\u001b[0;34m.\u001b[0m\u001b[0mwrite\u001b[0m\u001b[0;34m(\u001b[0m\u001b[0minstance\u001b[0m\u001b[0;34m,\u001b[0m \u001b[0;34m*\u001b[0m\u001b[0margs\u001b[0m\u001b[0;34m,\u001b[0m \u001b[0;34m**\u001b[0m\u001b[0mkwargs\u001b[0m\u001b[0;34m)\u001b[0m\u001b[0;34m\u001b[0m\u001b[0;34m\u001b[0m\u001b[0m\n\u001b[0m",
      "\u001b[0;32m~/mambaforge/lib/python3.9/site-packages/astropy/io/registry/core.py\u001b[0m in \u001b[0;36mwrite\u001b[0;34m(self, data, format, *args, **kwargs)\u001b[0m\n\u001b[1;32m    352\u001b[0m \u001b[0;34m\u001b[0m\u001b[0m\n\u001b[1;32m    353\u001b[0m         \u001b[0mwriter\u001b[0m \u001b[0;34m=\u001b[0m \u001b[0mself\u001b[0m\u001b[0;34m.\u001b[0m\u001b[0mget_writer\u001b[0m\u001b[0;34m(\u001b[0m\u001b[0mformat\u001b[0m\u001b[0;34m,\u001b[0m \u001b[0mdata\u001b[0m\u001b[0;34m.\u001b[0m\u001b[0m__class__\u001b[0m\u001b[0;34m)\u001b[0m\u001b[0;34m\u001b[0m\u001b[0;34m\u001b[0m\u001b[0m\n\u001b[0;32m--> 354\u001b[0;31m         \u001b[0;32mreturn\u001b[0m \u001b[0mwriter\u001b[0m\u001b[0;34m(\u001b[0m\u001b[0mdata\u001b[0m\u001b[0;34m,\u001b[0m \u001b[0;34m*\u001b[0m\u001b[0margs\u001b[0m\u001b[0;34m,\u001b[0m \u001b[0;34m**\u001b[0m\u001b[0mkwargs\u001b[0m\u001b[0;34m)\u001b[0m\u001b[0;34m\u001b[0m\u001b[0;34m\u001b[0m\u001b[0m\n\u001b[0m\u001b[1;32m    355\u001b[0m \u001b[0;34m\u001b[0m\u001b[0m\n\u001b[1;32m    356\u001b[0m \u001b[0;34m\u001b[0m\u001b[0m\n",
      "\u001b[0;32m~/mambaforge/lib/python3.9/site-packages/astropy/io/ascii/connect.py\u001b[0m in \u001b[0;36mio_write\u001b[0;34m(format, table, filename, **kwargs)\u001b[0m\n\u001b[1;32m     24\u001b[0m         \u001b[0mformat\u001b[0m \u001b[0;34m=\u001b[0m \u001b[0mre\u001b[0m\u001b[0;34m.\u001b[0m\u001b[0msub\u001b[0m\u001b[0;34m(\u001b[0m\u001b[0;34mr'^ascii\\.'\u001b[0m\u001b[0;34m,\u001b[0m \u001b[0;34m''\u001b[0m\u001b[0;34m,\u001b[0m \u001b[0mformat\u001b[0m\u001b[0;34m)\u001b[0m\u001b[0;34m\u001b[0m\u001b[0;34m\u001b[0m\u001b[0m\n\u001b[1;32m     25\u001b[0m         \u001b[0mkwargs\u001b[0m\u001b[0;34m[\u001b[0m\u001b[0;34m'format'\u001b[0m\u001b[0;34m]\u001b[0m \u001b[0;34m=\u001b[0m \u001b[0mformat\u001b[0m\u001b[0;34m\u001b[0m\u001b[0;34m\u001b[0m\u001b[0m\n\u001b[0;32m---> 26\u001b[0;31m     \u001b[0;32mreturn\u001b[0m \u001b[0mwrite\u001b[0m\u001b[0;34m(\u001b[0m\u001b[0mtable\u001b[0m\u001b[0;34m,\u001b[0m \u001b[0mfilename\u001b[0m\u001b[0;34m,\u001b[0m \u001b[0;34m**\u001b[0m\u001b[0mkwargs\u001b[0m\u001b[0;34m)\u001b[0m\u001b[0;34m\u001b[0m\u001b[0;34m\u001b[0m\u001b[0m\n\u001b[0m\u001b[1;32m     27\u001b[0m \u001b[0;34m\u001b[0m\u001b[0m\n\u001b[1;32m     28\u001b[0m \u001b[0;34m\u001b[0m\u001b[0m\n",
      "\u001b[0;32m~/mambaforge/lib/python3.9/site-packages/astropy/io/ascii/ui.py\u001b[0m in \u001b[0;36mwrite\u001b[0;34m(table, output, format, Writer, fast_writer, overwrite, **kwargs)\u001b[0m\n\u001b[1;32m    835\u001b[0m     \u001b[0mwriter\u001b[0m \u001b[0;34m=\u001b[0m \u001b[0mget_writer\u001b[0m\u001b[0;34m(\u001b[0m\u001b[0mWriter\u001b[0m\u001b[0;34m=\u001b[0m\u001b[0mWriter\u001b[0m\u001b[0;34m,\u001b[0m \u001b[0mfast_writer\u001b[0m\u001b[0;34m=\u001b[0m\u001b[0mfast_writer\u001b[0m\u001b[0;34m,\u001b[0m \u001b[0;34m**\u001b[0m\u001b[0mkwargs\u001b[0m\u001b[0;34m)\u001b[0m\u001b[0;34m\u001b[0m\u001b[0;34m\u001b[0m\u001b[0m\n\u001b[1;32m    836\u001b[0m     \u001b[0;32mif\u001b[0m \u001b[0mwriter\u001b[0m\u001b[0;34m.\u001b[0m\u001b[0m_format_name\u001b[0m \u001b[0;32min\u001b[0m \u001b[0mcore\u001b[0m\u001b[0;34m.\u001b[0m\u001b[0mFAST_CLASSES\u001b[0m\u001b[0;34m:\u001b[0m\u001b[0;34m\u001b[0m\u001b[0;34m\u001b[0m\u001b[0m\n\u001b[0;32m--> 837\u001b[0;31m         \u001b[0mwriter\u001b[0m\u001b[0;34m.\u001b[0m\u001b[0mwrite\u001b[0m\u001b[0;34m(\u001b[0m\u001b[0mtable\u001b[0m\u001b[0;34m,\u001b[0m \u001b[0moutput\u001b[0m\u001b[0;34m)\u001b[0m\u001b[0;34m\u001b[0m\u001b[0;34m\u001b[0m\u001b[0m\n\u001b[0m\u001b[1;32m    838\u001b[0m         \u001b[0;32mreturn\u001b[0m\u001b[0;34m\u001b[0m\u001b[0;34m\u001b[0m\u001b[0m\n\u001b[1;32m    839\u001b[0m \u001b[0;34m\u001b[0m\u001b[0m\n",
      "\u001b[0;32m~/mambaforge/lib/python3.9/site-packages/astropy/io/ascii/fastbasic.py\u001b[0m in \u001b[0;36mwrite\u001b[0;34m(self, table, output)\u001b[0m\n\u001b[1;32m    205\u001b[0m         \u001b[0moutput\u001b[0m \u001b[0mmasked\u001b[0m \u001b[0mvalues\u001b[0m \u001b[0;32mas\u001b[0m \u001b[0mempty\u001b[0m \u001b[0mfields\u001b[0m\u001b[0;34m.\u001b[0m\u001b[0;34m\u001b[0m\u001b[0;34m\u001b[0m\u001b[0m\n\u001b[1;32m    206\u001b[0m         \"\"\"\n\u001b[0;32m--> 207\u001b[0;31m         \u001b[0mself\u001b[0m\u001b[0;34m.\u001b[0m\u001b[0m_write\u001b[0m\u001b[0;34m(\u001b[0m\u001b[0mtable\u001b[0m\u001b[0;34m,\u001b[0m \u001b[0moutput\u001b[0m\u001b[0;34m,\u001b[0m \u001b[0;34m{\u001b[0m\u001b[0;34m'fill_values'\u001b[0m\u001b[0;34m:\u001b[0m \u001b[0;34m[\u001b[0m\u001b[0;34m(\u001b[0m\u001b[0mcore\u001b[0m\u001b[0;34m.\u001b[0m\u001b[0mmasked\u001b[0m\u001b[0;34m,\u001b[0m \u001b[0;34m''\u001b[0m\u001b[0;34m)\u001b[0m\u001b[0;34m]\u001b[0m\u001b[0;34m}\u001b[0m\u001b[0;34m)\u001b[0m\u001b[0;34m\u001b[0m\u001b[0;34m\u001b[0m\u001b[0m\n\u001b[0m\u001b[1;32m    208\u001b[0m \u001b[0;34m\u001b[0m\u001b[0m\n\u001b[1;32m    209\u001b[0m \u001b[0;34m\u001b[0m\u001b[0m\n",
      "\u001b[0;32m~/mambaforge/lib/python3.9/site-packages/astropy/io/ascii/fastbasic.py\u001b[0m in \u001b[0;36m_write\u001b[0;34m(self, table, output, default_kwargs, header_output, output_types)\u001b[0m\n\u001b[1;32m    181\u001b[0m         \u001b[0;31m# user kwargs take precedence over default kwargs\u001b[0m\u001b[0;34m\u001b[0m\u001b[0;34m\u001b[0m\u001b[0m\n\u001b[1;32m    182\u001b[0m         \u001b[0mwrite_kwargs\u001b[0m\u001b[0;34m.\u001b[0m\u001b[0mupdate\u001b[0m\u001b[0;34m(\u001b[0m\u001b[0mself\u001b[0m\u001b[0;34m.\u001b[0m\u001b[0mkwargs\u001b[0m\u001b[0;34m)\u001b[0m\u001b[0;34m\u001b[0m\u001b[0;34m\u001b[0m\u001b[0m\n\u001b[0;32m--> 183\u001b[0;31m         \u001b[0mwriter\u001b[0m \u001b[0;34m=\u001b[0m \u001b[0mcparser\u001b[0m\u001b[0;34m.\u001b[0m\u001b[0mFastWriter\u001b[0m\u001b[0;34m(\u001b[0m\u001b[0mtable\u001b[0m\u001b[0;34m,\u001b[0m \u001b[0;34m**\u001b[0m\u001b[0mwrite_kwargs\u001b[0m\u001b[0;34m)\u001b[0m\u001b[0;34m\u001b[0m\u001b[0;34m\u001b[0m\u001b[0m\n\u001b[0m\u001b[1;32m    184\u001b[0m         \u001b[0mwriter\u001b[0m\u001b[0;34m.\u001b[0m\u001b[0mwrite\u001b[0m\u001b[0;34m(\u001b[0m\u001b[0moutput\u001b[0m\u001b[0;34m,\u001b[0m \u001b[0mheader_output\u001b[0m\u001b[0;34m,\u001b[0m \u001b[0moutput_types\u001b[0m\u001b[0;34m)\u001b[0m\u001b[0;34m\u001b[0m\u001b[0;34m\u001b[0m\u001b[0m\n\u001b[1;32m    185\u001b[0m \u001b[0;34m\u001b[0m\u001b[0m\n",
      "\u001b[0;32mastropy/io/ascii/cparser.pyx\u001b[0m in \u001b[0;36mastropy.io.ascii.cparser.FastWriter.__cinit__\u001b[0;34m()\u001b[0m\n",
      "\u001b[0;31mImportError\u001b[0m: cannot import name pprint"
     ]
    }
   ],
   "source": [
    "tab5[random_rows].write('../data/ztf_rrl_lightcurves/tab5_subset_all.csv')"
   ]
  },
  {
   "cell_type": "code",
   "execution_count": 55,
   "id": "29d22d5a",
   "metadata": {},
   "outputs": [
    {
     "name": "stdout",
     "output_type": "stream",
     "text": [
      "           Format           Read Write Auto-identify Deprecated\n",
      "--------------------------- ---- ----- ------------- ----------\n",
      "                      ascii  Yes   Yes            No           \n",
      "               ascii.aastex  Yes   Yes            No           \n",
      "                ascii.basic  Yes   Yes            No           \n",
      "     ascii.commented_header  Yes   Yes            No           \n",
      "                  ascii.csv  Yes   Yes           Yes           \n",
      "                 ascii.ecsv  Yes   Yes           Yes           \n",
      "           ascii.fast_basic  Yes   Yes            No           \n",
      "ascii.fast_commented_header  Yes   Yes            No           \n",
      "             ascii.fast_csv  Yes   Yes            No           \n",
      "       ascii.fast_no_header  Yes   Yes            No           \n",
      "             ascii.fast_rdb  Yes   Yes            No           \n",
      "             ascii.fast_tab  Yes   Yes            No           \n",
      "          ascii.fixed_width  Yes   Yes            No           \n",
      "ascii.fixed_width_no_header  Yes   Yes            No           \n",
      " ascii.fixed_width_two_line  Yes   Yes            No           \n",
      "                 ascii.html  Yes   Yes           Yes           \n",
      "                 ascii.ipac  Yes   Yes            No           \n",
      "                ascii.latex  Yes   Yes           Yes           \n",
      "                  ascii.mrt  Yes   Yes            No           \n",
      "            ascii.no_header  Yes   Yes            No           \n",
      "                  ascii.qdp  Yes   Yes           Yes           \n",
      "                  ascii.rdb  Yes   Yes           Yes           \n",
      "                  ascii.rst  Yes   Yes            No           \n",
      "                  ascii.tab  Yes   Yes            No           \n",
      "                       asdf  Yes   Yes           Yes           \n",
      "                       fits  Yes   Yes           Yes           \n",
      "                       hdf5  Yes   Yes           Yes           \n",
      "                   jsviewer   No   Yes            No           \n",
      "                 pandas.csv  Yes   Yes            No           \n",
      "                pandas.html  Yes   Yes            No           \n",
      "                pandas.json  Yes   Yes            No           \n",
      "                    parquet  Yes   Yes           Yes           \n",
      "                    votable  Yes   Yes           Yes           \n",
      "                     aastex  Yes   Yes            No        Yes\n",
      "                        csv  Yes   Yes            No        Yes\n",
      "                       html  Yes   Yes            No        Yes\n",
      "                       ipac  Yes   Yes            No        Yes\n",
      "                      latex  Yes   Yes            No        Yes\n",
      "                        mrt  Yes   Yes            No        Yes\n",
      "                        rdb  Yes   Yes            No        Yes\n"
     ]
    }
   ],
   "source": [
    "astropy.table.Table.write.list_formats()"
   ]
  },
  {
   "cell_type": "code",
   "execution_count": 54,
   "id": "d54fec1f",
   "metadata": {},
   "outputs": [],
   "source": [
    "import astropy"
   ]
  },
  {
   "cell_type": "code",
   "execution_count": 64,
   "id": "84e45b74",
   "metadata": {
    "scrolled": false
   },
   "outputs": [
    {
     "name": "stdout",
     "output_type": "stream",
     "text": [
      "============================= test session starts ==============================\n",
      "platform darwin -- Python 3.9.7, pytest-6.2.5, py-1.11.0, pluggy-0.13.1\n",
      "\n",
      "Running tests with Astropy version 5.0.\n",
      "Running tests in mambaforge/lib/python3.9/site-packages/astropy.\n",
      "\n",
      "Date: 2022-01-25T22:17:45\n",
      "\n",
      "Platform: macOS-12.0.1-arm64-arm-64bit\n",
      "\n",
      "Executable: /Users/ebellm/mambaforge/bin/python\n",
      "\n",
      "Full Python Version: \n",
      "3.9.7 | packaged by conda-forge | (default, Sep 29 2021, 19:24:02) \n",
      "[Clang 11.1.0 ]\n",
      "\n",
      "encodings: sys: utf-8, locale: UTF-8, filesystem: utf-8\n",
      "byteorder: little\n",
      "float info: dig: 15, mant_dig: 15\n",
      "\n",
      "Package versions: \n",
      "Numpy: 1.22.0\n",
      "Scipy: 1.7.3\n",
      "Matplotlib: 3.5.1\n",
      "h5py: not available\n",
      "Pandas: 1.3.5\n",
      "PyERFA: 2.0.0.1\n",
      "Cython: 0.29.26\n",
      "Scikit-image: not available\n",
      "asdf: not available\n",
      "\n",
      "Using Astropy options: remote_data: none.\n",
      "\n",
      "rootdir: /Users/ebellm\n",
      "plugins: remotedata-0.3.3, doctestplus-0.11.2, arraydiff-0.3, mock-3.6.1, filter-subpackage-0.1.1, openfiles-0.5.0, hypothesis-6.36.0, astropy-header-0.1.2, cov-3.0.0\n",
      "collected 18143 items / 3 errors / 18 skipped / 18122 selected\n",
      "\n",
      "==================================== ERRORS ====================================\n",
      "_ ERROR collecting mambaforge/lib/python3.9/site-packages/astropy/io/ascii/tests/test_write.py _\n",
      "../../../../mambaforge/lib/python3.9/site-packages/astropy/io/ascii/tests/test_write.py:711: in <module>\n",
      "    fmt_name_classes = list(chain(ascii.core.FAST_CLASSES.items(),\n",
      "E   AttributeError: module 'astropy.io.ascii' has no attribute 'core'\n",
      "_ ERROR collecting mambaforge/lib/python3.9/site-packages/astropy/io/misc/tests/test_yaml.py _\n",
      "../../../../mambaforge/lib/python3.9/site-packages/astropy/io/misc/tests/test_yaml.py:22: in <module>\n",
      "    from astropy.io.misc.yaml import load, load_all, dump  # noqa\n",
      "../../../../mambaforge/lib/python3.9/site-packages/astropy/io/misc/yaml.py:269: in <module>\n",
      "    for cls in (list(coords.representation.REPRESENTATION_CLASSES.values())\n",
      "E   AttributeError: module 'astropy.coordinates' has no attribute 'representation'\n",
      "_ ERROR collecting mambaforge/lib/python3.9/site-packages/astropy/units/tests/test_quantity_decorator.py _\n",
      "../../../../mambaforge/lib/python3.9/site-packages/astropy/units/tests/test_quantity_decorator.py:330: in <module>\n",
      "    class TestTypeAnnotations:\n",
      "../../../../mambaforge/lib/python3.9/site-packages/astropy/units/tests/test_quantity_decorator.py:333: in TestTypeAnnotations\n",
      "    [u.m, u.Quantity[u.m], u.Quantity[u.m, \"more\"]]\n",
      "../../../../mambaforge/lib/python3.9/site-packages/astropy/units/quantity.py:406: in __class_getitem__\n",
      "    cls = super().__class_getitem__((cls, *shape_dtype))\n",
      "E   TypeError: Too few arguments for Quantity\n",
      "=========================== short test summary info ============================\n",
      "ERROR ../../../../mambaforge/lib/python3.9/site-packages/astropy/io/ascii/tests/test_write.py\n",
      "ERROR ../../../../mambaforge/lib/python3.9/site-packages/astropy/io/misc/tests/test_yaml.py\n",
      "ERROR ../../../../mambaforge/lib/python3.9/site-packages/astropy/units/tests/test_quantity_decorator.py\n",
      "!!!!!!!!!!!!!!!!!!! Interrupted: 3 errors during collection !!!!!!!!!!!!!!!!!!!!\n",
      "======================== 18 skipped, 3 errors in 9.48s =========================\n"
     ]
    },
    {
     "data": {
      "text/plain": [
       "<ExitCode.INTERRUPTED: 2>"
      ]
     },
     "execution_count": 64,
     "metadata": {},
     "output_type": "execute_result"
    }
   ],
   "source": [
    "astropy.test()"
   ]
  },
  {
   "cell_type": "code",
   "execution_count": 21,
   "id": "8d443d53",
   "metadata": {},
   "outputs": [],
   "source": [
    "lcq = lightcurve.LCQuery.from_position(185.33612, -1.40382, 5)"
   ]
  },
  {
   "cell_type": "code",
   "execution_count": 22,
   "id": "44326fc1",
   "metadata": {},
   "outputs": [
    {
     "data": {
      "text/plain": [
       "<ztfquery.lightcurve.LCQuery at 0x11121ee80>"
      ]
     },
     "execution_count": 22,
     "metadata": {},
     "output_type": "execute_result"
    }
   ],
   "source": [
    "lcq"
   ]
  },
  {
   "cell_type": "code",
   "execution_count": 23,
   "id": "7cc08d9d",
   "metadata": {},
   "outputs": [
    {
     "data": {
      "image/png": "[encoded data removed]",
      "text/plain": [
       "<Figure size 504x288 with 1 Axes>"
      ]
     },
     "metadata": {
      "needs_background": "light"
     },
     "output_type": "display_data"
    }
   ],
   "source": [
    "lcq.show()"
   ]
  },
  {
   "cell_type": "code",
   "execution_count": 27,
   "id": "d96d89ea",
   "metadata": {},
   "outputs": [],
   "source": [
    "lcq.to_parquet('tmp.parquet')"
   ]
  },
  {
   "cell_type": "code",
   "execution_count": null,
   "id": "c8e96612",
   "metadata": {},
   "outputs": [],
   "source": []
  }
 ],
 "metadata": {
  "kernelspec": {
   "display_name": "Python 3 (ipykernel)",
   "language": "python",
   "name": "python3"
  },
  "language_info": {
   "codemirror_mode": {
    "name": "ipython",
    "version": 3
   },
   "file_extension": ".py",
   "mimetype": "text/x-python",
   "name": "python",
   "nbconvert_exporter": "python",
   "pygments_lexer": "ipython3",
   "version": "3.9.7"
  }
 },
 "nbformat": 4,
 "nbformat_minor": 5
}
