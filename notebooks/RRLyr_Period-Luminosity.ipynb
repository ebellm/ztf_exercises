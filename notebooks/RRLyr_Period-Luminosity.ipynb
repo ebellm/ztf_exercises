{
 "cells": [
  {
   "cell_type": "markdown",
   "id": "45d8e061",
   "metadata": {},
   "source": [
    "# RR Lyrae Period-Luminosity\n",
    "\n",
    "Eric Bellm\n",
    "January 2020\n",
    "\n",
    "In this exercise we'll use real data from a variety of surveys to learn more about the relationship between an RR Lyrae variable's period and its luminosity."
   ]
  },
  {
   "cell_type": "code",
   "execution_count": 191,
   "id": "2fcc4d99",
   "metadata": {},
   "outputs": [],
   "source": [
    "%matplotlib inline\n",
    "import numpy as np\n",
    "from astropy.table import Table\n",
    "from astropy import units as u\n",
    "from astropy.time import Time, TimeDelta\n",
    "from astropy.timeseries import TimeSeries, LombScargle\n",
    "from astropy.modeling import models, fitting\n",
    "from astropy.coordinates import SkyCoord\n",
    "from astroquery.ipac.irsa.irsa_dust import IrsaDust\n",
    "import matplotlib.pyplot as plt"
   ]
  },
  {
   "cell_type": "markdown",
   "id": "6013832d",
   "metadata": {},
   "source": [
    "## 1. Finding the Period of an RR Lyrae star\n",
    "\n",
    "We begin by loading the ZTF lightcurve of a previously-identified RR Lyrae star.  We've pre-written this function for you."
   ]
  },
  {
   "cell_type": "code",
   "execution_count": 27,
   "id": "7118fafb",
   "metadata": {},
   "outputs": [],
   "source": [
    "def load_ztf_lc(filename):\n",
    "    \"\"\"Load a ZTF parquet lightcurve saved by `ztf_query`.\n",
    "    \n",
    "    See `ZTF_RRLyrae_data.ipynb` for data retrieval.\n",
    "    \n",
    "    Parameters\n",
    "    ----------\n",
    "    filename : string\n",
    "        path to a parquet file saved by `ztf_query`\n",
    "        \n",
    "    Returns\n",
    "    -------\n",
    "    tbl : `astropy.timeseries.TimeSeries`\n",
    "        lightcurve \n",
    "    mean_ra : `float`\n",
    "        mean right ascension of the source\n",
    "    mean_dec : `float`\n",
    "        mean declination of the source\n",
    "    \"\"\"\n",
    "    \n",
    "    tbl = Table.read(filename)\n",
    "    \n",
    "    # exclude flagged data\n",
    "    tbl = tbl[tbl['catflags'] == 0]\n",
    "    \n",
    "    mean_ra = np.mean(tbl['ra'])\n",
    "    mean_dec = np.mean(tbl['dec'])\n",
    "    \n",
    "    return TimeSeries(time=Time(tbl['hjd'],format='jd'),data=tbl[['mag','magerr','filtercode']]), mean_ra, mean_dec"
   ]
  },
  {
   "cell_type": "markdown",
   "id": "46d78783",
   "metadata": {},
   "source": [
    "We load it into an astropy [`Timeseries`](https://docs.astropy.org/en/stable/timeseries/index.html)."
   ]
  },
  {
   "cell_type": "code",
   "execution_count": 134,
   "id": "b48429aa",
   "metadata": {},
   "outputs": [
    {
     "name": "stderr",
     "output_type": "stream",
     "text": [
      "WARNING: No table::len::filtercode found in metadata. Using longest string ({strlen} characters). [astropy.io.misc.parquet]\n",
      "WARNING: No table::len::ccdid found in metadata. Using longest string ({strlen} characters). [astropy.io.misc.parquet]\n",
      "WARNING: No table::len::qid found in metadata. Using longest string ({strlen} characters). [astropy.io.misc.parquet]\n"
     ]
    },
    {
     "data": {
      "text/html": [
       "<div><i>TimeSeries length=2411</i>\n",
       "<table id=\"table6042419360\" class=\"table-striped table-bordered table-condensed\">\n",
       "<thead><tr><th>time</th><th>mag</th><th>magerr</th><th>filtercode</th></tr></thead>\n",
       "<thead><tr><th>Time</th><th>float64</th><th>float64</th><th>str2</th></tr></thead>\n",
       "<tr><td>2458203.8852543235</td><td>17.1999512</td><td>0.0184876267</td><td>zg</td></tr>\n",
       "<tr><td>2458203.9138199687</td><td>17.1843719</td><td>0.0183547549</td><td>zg</td></tr>\n",
       "<tr><td>2458204.916476126</td><td>17.0556793</td><td>0.0173353087</td><td>zg</td></tr>\n",
       "<tr><td>2458204.9394050865</td><td>17.0869713</td><td>0.0175707769</td><td>zg</td></tr>\n",
       "<tr><td>2458204.959220457</td><td>17.113905</td><td>0.0177796986</td><td>zg</td></tr>\n",
       "<tr><td>2458204.964672015</td><td>17.089777</td><td>0.0175922625</td><td>zg</td></tr>\n",
       "<tr><td>2458204.965586341</td><td>17.0833168</td><td>0.0175428726</td><td>zg</td></tr>\n",
       "<tr><td>2458204.999013193</td><td>17.1397419</td><td>0.0179857016</td><td>zg</td></tr>\n",
       "<tr><td>2458204.999927622</td><td>17.1245728</td><td>0.0178640857</td><td>zg</td></tr>\n",
       "<tr><td>2458205.003874532</td><td>17.143734</td><td>0.0180180259</td><td>zg</td></tr>\n",
       "<tr><td>2458205.9099069536</td><td>16.9083881</td><td>0.0163259953</td><td>zg</td></tr>\n",
       "<tr><td>2458205.9584500254</td><td>16.7892914</td><td>0.0156195201</td><td>zg</td></tr>\n",
       "<tr><td>2458205.9637163742</td><td>16.7935963</td><td>0.0156434737</td><td>zg</td></tr>\n",
       "<tr><td>2458205.982594202</td><td>16.7537346</td><td>0.0154259838</td><td>zg</td></tr>\n",
       "<tr><td>2458206.00470132</td><td>16.7644138</td><td>0.0154833104</td><td>zg</td></tr>\n",
       "<tr><td>2458206.9042400448</td><td>17.1068535</td><td>0.0177244358</td><td>zg</td></tr>\n",
       "<tr><td>2458206.9355834145</td><td>17.1188583</td><td>0.0178187639</td><td>zg</td></tr>\n",
       "<tr><td>2458206.959229968</td><td>17.1554165</td><td>0.0181133915</td><td>zg</td></tr>\n",
       "<tr><td>2458206.980411048</td><td>17.1518917</td><td>0.0180844944</td><td>zg</td></tr>\n",
       "<tr><td>2458206.981892588</td><td>17.1505184</td><td>0.0180732645</td><td>zg</td></tr>\n",
       "<tr><td>2458207.004566808</td><td>17.1603394</td><td>0.0181539133</td><td>zg</td></tr>\n",
       "<tr><td>2458207.912056633</td><td>16.778141</td><td>0.0155580007</td><td>zg</td></tr>\n",
       "<tr><td>2458207.937288816</td><td>16.7682743</td><td>0.0155041972</td><td>zg</td></tr>\n",
       "<tr><td>2458207.94111992</td><td>16.773838</td><td>0.0155344605</td><td>zg</td></tr>\n",
       "<tr><td>2458207.9420343456</td><td>16.797596</td><td>0.0156658329</td><td>zg</td></tr>\n",
       "<tr><td>2458207.980380276</td><td>16.8311348</td><td>0.0158572719</td><td>zg</td></tr>\n",
       "<tr><td>2458207.9823479294</td><td>16.8511086</td><td>0.0159747005</td><td>zg</td></tr>\n",
       "<tr><td>2458207.9832622535</td><td>16.843174</td><td>0.0159277432</td><td>zg</td></tr>\n",
       "<tr><td>2458208.002822975</td><td>16.8653145</td><td>0.0160597842</td><td>zg</td></tr>\n",
       "<tr><td>2458208.9064116706</td><td>17.1750488</td><td>0.0182762481</td><td>zg</td></tr>\n",
       "<tr><td>2458208.923541724</td><td>17.1664696</td><td>0.0182046797</td><td>zg</td></tr>\n",
       "<tr><td>2458208.9434728515</td><td>17.1359863</td><td>0.0179554075</td><td>zg</td></tr>\n",
       "<tr><td>2458208.982802583</td><td>17.1650505</td><td>0.0181928948</td><td>zg</td></tr>\n",
       "<tr><td>2458209.0039374363</td><td>17.1726913</td><td>0.0182565227</td><td>zg</td></tr>\n",
       "<tr><td>...</td><td>...</td><td>...</td><td>...</td></tr>\n",
       "<tr><td>2458558.798073424</td><td>16.8506737</td><td>0.0140889995</td><td>zr</td></tr>\n",
       "<tr><td>2458580.87349539</td><td>16.8792381</td><td>0.0142572829</td><td>zr</td></tr>\n",
       "<tr><td>2458593.80893357</td><td>16.9144135</td><td>0.0144717367</td><td>zr</td></tr>\n",
       "<tr><td>2458602.805437528</td><td>16.8863258</td><td>0.01429985</td><td>zr</td></tr>\n",
       "<tr><td>2458606.786026744</td><td>16.9249306</td><td>0.0145374276</td><td>zr</td></tr>\n",
       "<tr><td>2458617.786930691</td><td>16.9187412</td><td>0.0144986771</td><td>zr</td></tr>\n",
       "<tr><td>2458618.73102388</td><td>16.7330284</td><td>0.0134483324</td><td>zr</td></tr>\n",
       "<tr><td>2458633.831766299</td><td>16.8762131</td><td>0.0142392199</td><td>zr</td></tr>\n",
       "<tr><td>2458633.8322176915</td><td>16.8760071</td><td>0.0142379906</td><td>zr</td></tr>\n",
       "<tr><td>2458634.8216468594</td><td>16.7167244</td><td>0.0133658908</td><td>zr</td></tr>\n",
       "<tr><td>2458634.8220982533</td><td>16.7216721</td><td>0.0133907497</td><td>zr</td></tr>\n",
       "<tr><td>2458646.7655795966</td><td>16.9006538</td><td>0.0143868858</td><td>zr</td></tr>\n",
       "<tr><td>2458646.766030988</td><td>16.8804264</td><td>0.0142643983</td><td>zr</td></tr>\n",
       "<tr><td>2458651.8567961007</td><td>16.8920403</td><td>0.0143344076</td><td>zr</td></tr>\n",
       "<tr><td>2458652.846804587</td><td>16.6529999</td><td>0.0130576603</td><td>zr</td></tr>\n",
       "<tr><td>2458652.8472559745</td><td>16.6472702</td><td>0.0130310152</td><td>zr</td></tr>\n",
       "<tr><td>2458654.894977817</td><td>16.7665882</td><td>0.0136227692</td><td>zr</td></tr>\n",
       "<tr><td>2458654.895429204</td><td>16.7689362</td><td>0.0136352098</td><td>zr</td></tr>\n",
       "<tr><td>2458655.8234355524</td><td>16.9111786</td><td>0.0144516733</td><td>zr</td></tr>\n",
       "<tr><td>2458655.8238869375</td><td>16.9002399</td><td>0.0143843535</td><td>zr</td></tr>\n",
       "<tr><td>2458676.727034259</td><td>16.6459713</td><td>0.0130249951</td><td>zr</td></tr>\n",
       "<tr><td>2458676.7274971404</td><td>16.6451721</td><td>0.0130212996</td><td>zr</td></tr>\n",
       "<tr><td>2458677.7225870164</td><td>16.8974133</td><td>0.0143670859</td><td>zr</td></tr>\n",
       "<tr><td>2458677.7230383987</td><td>16.9225082</td><td>0.0145222312</td><td>zr</td></tr>\n",
       "<tr><td>2458680.766209126</td><td>16.79702</td><td>0.0137865962</td><td>zr</td></tr>\n",
       "<tr><td>2458680.7666605087</td><td>16.7992516</td><td>0.0137988273</td><td>zr</td></tr>\n",
       "<tr><td>2458728.7308876663</td><td>16.8861713</td><td>0.0142989159</td><td>zr</td></tr>\n",
       "<tr><td>2458955.0087349173</td><td>16.6476841</td><td>0.0130329318</td><td>zr</td></tr>\n",
       "<tr><td>2458955.009186224</td><td>16.6605453</td><td>0.0130930236</td><td>zr</td></tr>\n",
       "<tr><td>2458974.809484315</td><td>16.9101028</td><td>0.0144450217</td><td>zr</td></tr>\n",
       "<tr><td>2458974.8099472155</td><td>16.890583</td><td>0.0143255685</td><td>zr</td></tr>\n",
       "<tr><td>2459028.7514436347</td><td>16.7655945</td><td>0.0136175072</td><td>zr</td></tr>\n",
       "<tr><td>2459087.639335772</td><td>16.8496723</td><td>0.0140831936</td><td>zr</td></tr>\n",
       "<tr><td>2459337.980508515</td><td>16.725317</td><td>0.0134091536</td><td>zr</td></tr>\n",
       "</table></div>"
      ],
      "text/plain": [
       "<TimeSeries length=2411>\n",
       "       time           mag        magerr    filtercode\n",
       "       Time         float64     float64       str2   \n",
       "------------------ ---------- ------------ ----------\n",
       "2458203.8852543235 17.1999512 0.0184876267         zg\n",
       "2458203.9138199687 17.1843719 0.0183547549         zg\n",
       " 2458204.916476126 17.0556793 0.0173353087         zg\n",
       "2458204.9394050865 17.0869713 0.0175707769         zg\n",
       " 2458204.959220457  17.113905 0.0177796986         zg\n",
       " 2458204.964672015  17.089777 0.0175922625         zg\n",
       " 2458204.965586341 17.0833168 0.0175428726         zg\n",
       " 2458204.999013193 17.1397419 0.0179857016         zg\n",
       " 2458204.999927622 17.1245728 0.0178640857         zg\n",
       " 2458205.003874532  17.143734 0.0180180259         zg\n",
       "2458205.9099069536 16.9083881 0.0163259953         zg\n",
       "2458205.9584500254 16.7892914 0.0156195201         zg\n",
       "2458205.9637163742 16.7935963 0.0156434737         zg\n",
       " 2458205.982594202 16.7537346 0.0154259838         zg\n",
       "  2458206.00470132 16.7644138 0.0154833104         zg\n",
       "2458206.9042400448 17.1068535 0.0177244358         zg\n",
       "2458206.9355834145 17.1188583 0.0178187639         zg\n",
       " 2458206.959229968 17.1554165 0.0181133915         zg\n",
       " 2458206.980411048 17.1518917 0.0180844944         zg\n",
       " 2458206.981892588 17.1505184 0.0180732645         zg\n",
       " 2458207.004566808 17.1603394 0.0181539133         zg\n",
       " 2458207.912056633  16.778141 0.0155580007         zg\n",
       " 2458207.937288816 16.7682743 0.0155041972         zg\n",
       "  2458207.94111992  16.773838 0.0155344605         zg\n",
       "2458207.9420343456  16.797596 0.0156658329         zg\n",
       " 2458207.980380276 16.8311348 0.0158572719         zg\n",
       "2458207.9823479294 16.8511086 0.0159747005         zg\n",
       "2458207.9832622535  16.843174 0.0159277432         zg\n",
       " 2458208.002822975 16.8653145 0.0160597842         zg\n",
       "2458208.9064116706 17.1750488 0.0182762481         zg\n",
       " 2458208.923541724 17.1664696 0.0182046797         zg\n",
       "2458208.9434728515 17.1359863 0.0179554075         zg\n",
       " 2458208.982802583 17.1650505 0.0181928948         zg\n",
       "2458209.0039374363 17.1726913 0.0182565227         zg\n",
       "               ...        ...          ...        ...\n",
       " 2458558.798073424 16.8506737 0.0140889995         zr\n",
       "  2458580.87349539 16.8792381 0.0142572829         zr\n",
       "  2458593.80893357 16.9144135 0.0144717367         zr\n",
       " 2458602.805437528 16.8863258   0.01429985         zr\n",
       " 2458606.786026744 16.9249306 0.0145374276         zr\n",
       " 2458617.786930691 16.9187412 0.0144986771         zr\n",
       "  2458618.73102388 16.7330284 0.0134483324         zr\n",
       " 2458633.831766299 16.8762131 0.0142392199         zr\n",
       "2458633.8322176915 16.8760071 0.0142379906         zr\n",
       "2458634.8216468594 16.7167244 0.0133658908         zr\n",
       "2458634.8220982533 16.7216721 0.0133907497         zr\n",
       "2458646.7655795966 16.9006538 0.0143868858         zr\n",
       " 2458646.766030988 16.8804264 0.0142643983         zr\n",
       "2458651.8567961007 16.8920403 0.0143344076         zr\n",
       " 2458652.846804587 16.6529999 0.0130576603         zr\n",
       "2458652.8472559745 16.6472702 0.0130310152         zr\n",
       " 2458654.894977817 16.7665882 0.0136227692         zr\n",
       " 2458654.895429204 16.7689362 0.0136352098         zr\n",
       "2458655.8234355524 16.9111786 0.0144516733         zr\n",
       "2458655.8238869375 16.9002399 0.0143843535         zr\n",
       " 2458676.727034259 16.6459713 0.0130249951         zr\n",
       "2458676.7274971404 16.6451721 0.0130212996         zr\n",
       "2458677.7225870164 16.8974133 0.0143670859         zr\n",
       "2458677.7230383987 16.9225082 0.0145222312         zr\n",
       " 2458680.766209126   16.79702 0.0137865962         zr\n",
       "2458680.7666605087 16.7992516 0.0137988273         zr\n",
       "2458728.7308876663 16.8861713 0.0142989159         zr\n",
       "2458955.0087349173 16.6476841 0.0130329318         zr\n",
       " 2458955.009186224 16.6605453 0.0130930236         zr\n",
       " 2458974.809484315 16.9101028 0.0144450217         zr\n",
       "2458974.8099472155  16.890583 0.0143255685         zr\n",
       "2459028.7514436347 16.7655945 0.0136175072         zr\n",
       " 2459087.639335772 16.8496723 0.0140831936         zr\n",
       " 2459337.980508515  16.725317 0.0134091536         zr"
      ]
     },
     "execution_count": 134,
     "metadata": {},
     "output_type": "execute_result"
    }
   ],
   "source": [
    "ts, mean_ra, mean_dec = load_ztf_lc('../data/ztf_rrl_lightcurves/12.parquet')\n",
    "ts"
   ]
  },
  {
   "cell_type": "code",
   "execution_count": 135,
   "id": "c07f5acc",
   "metadata": {},
   "outputs": [
    {
     "name": "stdout",
     "output_type": "stream",
     "text": [
      "245.55715820833677 44.55899377304023\n"
     ]
    }
   ],
   "source": [
    "print(mean_ra, mean_dec)"
   ]
  },
  {
   "cell_type": "markdown",
   "id": "c4e703bd",
   "metadata": {},
   "source": [
    "Which filters are present?"
   ]
  },
  {
   "cell_type": "code",
   "execution_count": 136,
   "id": "9289d781",
   "metadata": {},
   "outputs": [
    {
     "data": {
      "text/plain": [
       "{'zg', 'zi', 'zr'}"
      ]
     },
     "execution_count": 136,
     "metadata": {},
     "output_type": "execute_result"
    }
   ],
   "source": [
    "set(ts['filtercode'])"
   ]
  },
  {
   "cell_type": "markdown",
   "id": "4e0af0f4",
   "metadata": {},
   "source": [
    "Let's assign default colors to these filters."
   ]
  },
  {
   "cell_type": "code",
   "execution_count": 137,
   "id": "16d48672",
   "metadata": {},
   "outputs": [],
   "source": [
    "colors = {'zg':'C0',\n",
    "          'zr':'C1',\n",
    "          'zi':'C3'}"
   ]
  },
  {
   "cell_type": "markdown",
   "id": "7d5e5896",
   "metadata": {},
   "source": [
    "Next, let's plot the lightcurve."
   ]
  },
  {
   "cell_type": "code",
   "execution_count": 138,
   "id": "19227ec1",
   "metadata": {},
   "outputs": [],
   "source": [
    "def plot_lc(ts):\n",
    "    \"\"\"Plot a ZTF lightcurve.\n",
    "    \n",
    "    Parameters\n",
    "    ----------\n",
    "    ts :  `astropy.timeseries.TimeSeries`\n",
    "        ZTF lightcurve\n",
    "        \n",
    "    \"\"\"\n",
    "    \n",
    "    fig = plt.figure() \n",
    "    \n",
    "    # loop over the available filters\n",
    "    for filt in set(ts['filtercode']):\n",
    "        # select the rows that correspond to that filter\n",
    "        wfilt = ts['filtercode'] == filt\n",
    "        plt.errorbar(ts[wfilt].time.mjd,ts[wfilt]['mag'],ts[wfilt]['magerr'],\n",
    "                     label=filt,fmt='.',ls='none',color=colors[filt])\n",
    "        \n",
    "    plt.legend()\n",
    "    plt.xlabel('MJD (days)')\n",
    "    plt.ylabel('Magnitude')\n",
    "    plt.gca().invert_yaxis() # smaller magnitudes are brighter--flip the y axis"
   ]
  },
  {
   "cell_type": "code",
   "execution_count": 139,
   "id": "66c3446e",
   "metadata": {},
   "outputs": [
    {
     "data": {
      "image/png": "[encoded data removed]",
      "text/plain": [
       "<Figure size 432x288 with 1 Axes>"
      ]
     },
     "metadata": {
      "needs_background": "light"
     },
     "output_type": "display_data"
    }
   ],
   "source": [
    "plot_lc(ts)"
   ]
  },
  {
   "cell_type": "markdown",
   "id": "2e5310b3",
   "metadata": {},
   "source": [
    "Astropy's period finding expects the inputs to be in a single filter.  We define a selector which identifies the rows with r-band data:"
   ]
  },
  {
   "cell_type": "code",
   "execution_count": 140,
   "id": "a8460bb5",
   "metadata": {},
   "outputs": [],
   "source": [
    "wr = ts['filtercode'] == 'zr'"
   ]
  },
  {
   "cell_type": "markdown",
   "id": "5a7fea60",
   "metadata": {},
   "source": [
    "Here's an example of how to apply it:"
   ]
  },
  {
   "cell_type": "code",
   "execution_count": 141,
   "id": "d5e6c1a5",
   "metadata": {},
   "outputs": [
    {
     "data": {
      "text/html": [
       "&lt;Column name=&apos;filtercode&apos; dtype=&apos;str2&apos; length=1134&gt;\n",
       "<table>\n",
       "<tr><td>zr</td></tr>\n",
       "<tr><td>zr</td></tr>\n",
       "<tr><td>zr</td></tr>\n",
       "<tr><td>zr</td></tr>\n",
       "<tr><td>zr</td></tr>\n",
       "<tr><td>zr</td></tr>\n",
       "<tr><td>zr</td></tr>\n",
       "<tr><td>zr</td></tr>\n",
       "<tr><td>zr</td></tr>\n",
       "<tr><td>zr</td></tr>\n",
       "<tr><td>zr</td></tr>\n",
       "<tr><td>zr</td></tr>\n",
       "<tr><td>zr</td></tr>\n",
       "<tr><td>zr</td></tr>\n",
       "<tr><td>zr</td></tr>\n",
       "<tr><td>zr</td></tr>\n",
       "<tr><td>zr</td></tr>\n",
       "<tr><td>zr</td></tr>\n",
       "<tr><td>zr</td></tr>\n",
       "<tr><td>zr</td></tr>\n",
       "<tr><td>zr</td></tr>\n",
       "<tr><td>zr</td></tr>\n",
       "<tr><td>zr</td></tr>\n",
       "<tr><td>zr</td></tr>\n",
       "<tr><td>zr</td></tr>\n",
       "<tr><td>zr</td></tr>\n",
       "<tr><td>zr</td></tr>\n",
       "<tr><td>zr</td></tr>\n",
       "<tr><td>zr</td></tr>\n",
       "<tr><td>zr</td></tr>\n",
       "<tr><td>zr</td></tr>\n",
       "<tr><td>zr</td></tr>\n",
       "<tr><td>zr</td></tr>\n",
       "<tr><td>zr</td></tr>\n",
       "<tr><td>zr</td></tr>\n",
       "<tr><td>zr</td></tr>\n",
       "<tr><td>...</td></tr>\n",
       "<tr><td>zr</td></tr>\n",
       "<tr><td>zr</td></tr>\n",
       "<tr><td>zr</td></tr>\n",
       "<tr><td>zr</td></tr>\n",
       "<tr><td>zr</td></tr>\n",
       "<tr><td>zr</td></tr>\n",
       "<tr><td>zr</td></tr>\n",
       "<tr><td>zr</td></tr>\n",
       "<tr><td>zr</td></tr>\n",
       "<tr><td>zr</td></tr>\n",
       "<tr><td>zr</td></tr>\n",
       "<tr><td>zr</td></tr>\n",
       "<tr><td>zr</td></tr>\n",
       "<tr><td>zr</td></tr>\n",
       "<tr><td>zr</td></tr>\n",
       "<tr><td>zr</td></tr>\n",
       "<tr><td>zr</td></tr>\n",
       "<tr><td>zr</td></tr>\n",
       "<tr><td>zr</td></tr>\n",
       "<tr><td>zr</td></tr>\n",
       "<tr><td>zr</td></tr>\n",
       "<tr><td>zr</td></tr>\n",
       "<tr><td>zr</td></tr>\n",
       "<tr><td>zr</td></tr>\n",
       "<tr><td>zr</td></tr>\n",
       "<tr><td>zr</td></tr>\n",
       "<tr><td>zr</td></tr>\n",
       "<tr><td>zr</td></tr>\n",
       "<tr><td>zr</td></tr>\n",
       "<tr><td>zr</td></tr>\n",
       "<tr><td>zr</td></tr>\n",
       "<tr><td>zr</td></tr>\n",
       "<tr><td>zr</td></tr>\n",
       "<tr><td>zr</td></tr>\n",
       "<tr><td>zr</td></tr>\n",
       "<tr><td>zr</td></tr>\n",
       "</table>"
      ],
      "text/plain": [
       "<Column name='filtercode' dtype='str2' length=1134>\n",
       " zr\n",
       " zr\n",
       " zr\n",
       " zr\n",
       " zr\n",
       " zr\n",
       " zr\n",
       " zr\n",
       " zr\n",
       " zr\n",
       " zr\n",
       " zr\n",
       " zr\n",
       " zr\n",
       " zr\n",
       " zr\n",
       " zr\n",
       " zr\n",
       " zr\n",
       " zr\n",
       " zr\n",
       " zr\n",
       " zr\n",
       " zr\n",
       " zr\n",
       " zr\n",
       " zr\n",
       " zr\n",
       " zr\n",
       " zr\n",
       " zr\n",
       " zr\n",
       " zr\n",
       " zr\n",
       " zr\n",
       " zr\n",
       "...\n",
       " zr\n",
       " zr\n",
       " zr\n",
       " zr\n",
       " zr\n",
       " zr\n",
       " zr\n",
       " zr\n",
       " zr\n",
       " zr\n",
       " zr\n",
       " zr\n",
       " zr\n",
       " zr\n",
       " zr\n",
       " zr\n",
       " zr\n",
       " zr\n",
       " zr\n",
       " zr\n",
       " zr\n",
       " zr\n",
       " zr\n",
       " zr\n",
       " zr\n",
       " zr\n",
       " zr\n",
       " zr\n",
       " zr\n",
       " zr\n",
       " zr\n",
       " zr\n",
       " zr\n",
       " zr\n",
       " zr\n",
       " zr"
      ]
     },
     "execution_count": 141,
     "metadata": {},
     "output_type": "execute_result"
    }
   ],
   "source": [
    "ts[wr]['filtercode']"
   ]
  },
  {
   "cell_type": "markdown",
   "id": "ec1ce879",
   "metadata": {},
   "source": [
    "Now for the exercise:\n",
    "\n",
    "* Compute the Lomb-Scargle periodogram for the r-band lightcurve using the astropy [`LombScargle`](https://docs.astropy.org/en/stable/timeseries/lombscargle.html) class.\n",
    "* Plot the resulting periodogram (frequency vs. power).  Label your axes.\n",
    "* Identify the best period from the periodogram\n",
    "* Plot the phase-folded lightcurve (in all filters) for this period."
   ]
  },
  {
   "cell_type": "markdown",
   "id": "61d853ed",
   "metadata": {},
   "source": [
    "## 2. Plot Period-Luminosity relation\n",
    "\n",
    "If we computed a large number of periods for RR Lyrae for which we knew their distances, we could determine if there is a relationship between period and luminosity.  Computing so many periods is a lot of work, so we'll instead use a recently-published catalog from [Huang and Koposov 2022](https://ui.adsabs.harvard.edu/abs/2022MNRAS.510.3575H/abstract).  We will read in their catalog directly:"
   ]
  },
  {
   "cell_type": "code",
   "execution_count": 17,
   "id": "30483371",
   "metadata": {},
   "outputs": [],
   "source": [
    "tbl = Table.read('../data/rrl_main_cat.csv')"
   ]
  },
  {
   "cell_type": "code",
   "execution_count": 18,
   "id": "4f00b497",
   "metadata": {},
   "outputs": [
    {
     "data": {
      "text/plain": [
       "<TableColumns names=('objid','source_id','ra','dec','prob_rrl','best_period','ebv','distance','mean_g','mean_r','mean_i','phot_g_mean_mag','amp_1_r','phi_1_r','amp_1_g','phi_1_g','amp_1_i','phi_1_i','amp_2_r','phi_2_r','amp_2_g','phi_2_g','amp_2_i','phi_2_i','amp_3_r','phi_3_r','amp_3_g','phi_3_g','amp_3_i','phi_3_i','ngooddet_g','ngooddet_r','ngooddet_i')>"
      ]
     },
     "execution_count": 18,
     "metadata": {},
     "output_type": "execute_result"
    }
   ],
   "source": [
    "tbl.columns"
   ]
  },
  {
   "cell_type": "code",
   "execution_count": 19,
   "id": "f6dfd6e8",
   "metadata": {
    "scrolled": false
   },
   "outputs": [
    {
     "data": {
      "text/html": [
       "<div><i>Table length=71755</i>\n",
       "<table id=\"table5573265584\" class=\"table-striped table-bordered table-condensed\">\n",
       "<thead><tr><th>objid</th><th>source_id</th><th>ra</th><th>dec</th><th>prob_rrl</th><th>best_period</th><th>ebv</th><th>distance</th><th>mean_g</th><th>mean_r</th><th>mean_i</th><th>phot_g_mean_mag</th><th>amp_1_r</th><th>phi_1_r</th><th>amp_1_g</th><th>phi_1_g</th><th>amp_1_i</th><th>phi_1_i</th><th>amp_2_r</th><th>phi_2_r</th><th>amp_2_g</th><th>phi_2_g</th><th>amp_2_i</th><th>phi_2_i</th><th>amp_3_r</th><th>phi_3_r</th><th>amp_3_g</th><th>phi_3_g</th><th>amp_3_i</th><th>phi_3_i</th><th>ngooddet_g</th><th>ngooddet_r</th><th>ngooddet_i</th></tr></thead>\n",
       "<thead><tr><th>int64</th><th>int64</th><th>float64</th><th>float64</th><th>float64</th><th>float64</th><th>float64</th><th>float64</th><th>float64</th><th>float64</th><th>float64</th><th>float64</th><th>float64</th><th>float64</th><th>float64</th><th>float64</th><th>float64</th><th>float64</th><th>float64</th><th>float64</th><th>float64</th><th>float64</th><th>float64</th><th>float64</th><th>float64</th><th>float64</th><th>float64</th><th>float64</th><th>float64</th><th>float64</th><th>int64</th><th>int64</th><th>int64</th></tr></thead>\n",
       "<tr><td>245101100001850</td><td>2323207596351730304</td><td>4.34881002091745</td><td>-26.7325358431298</td><td>0.95</td><td>0.621282</td><td>0.0177999</td><td>35202.5</td><td>18.448895</td><td>18.263773</td><td>--</td><td>18.2781</td><td>0.310712</td><td>-0.42090702</td><td>0.4296189</td><td>-0.5540015</td><td>--</td><td>--</td><td>0.13699114</td><td>1.1193074</td><td>0.18674164</td><td>1.1728027</td><td>--</td><td>--</td><td>0.077739686</td><td>2.9355524</td><td>0.111421965</td><td>2.6032557</td><td>--</td><td>--</td><td>74</td><td>76</td><td>0</td></tr>\n",
       "<tr><td>245101200001823</td><td>2323151181956812672</td><td>3.44761987859165</td><td>-26.7369695263057</td><td>0.89</td><td>0.363568</td><td>0.0223381</td><td>20908.6</td><td>17.66247</td><td>17.58033</td><td>--</td><td>17.573</td><td>0.21442999</td><td>2.6106074</td><td>0.31068435</td><td>2.6765757</td><td>--</td><td>--</td><td>0.025368612</td><td>0.7849637</td><td>0.04944191</td><td>0.691132</td><td>--</td><td>--</td><td>0.02951918</td><td>-1.65067</td><td>0.016883053</td><td>-1.8536656</td><td>--</td><td>--</td><td>80</td><td>81</td><td>0</td></tr>\n",
       "<tr><td>245101200006240</td><td>2323082286386272640</td><td>3.83587158932291</td><td>-27.0437438733329</td><td>0.99</td><td>0.566281</td><td>0.021689</td><td>19608.2</td><td>17.265985</td><td>17.059336</td><td>--</td><td>17.0437</td><td>0.24486491</td><td>2.5618405</td><td>0.34430373</td><td>2.4899223</td><td>--</td><td>--</td><td>0.11433268</td><td>0.9279561</td><td>0.16546234</td><td>1.0097619</td><td>--</td><td>--</td><td>0.08503796</td><td>-0.7780889</td><td>0.113629706</td><td>-0.9787848</td><td>--</td><td>--</td><td>79</td><td>79</td><td>0</td></tr>\n",
       "<tr><td>245102200002148</td><td>2333889115592815616</td><td>1.83508756403094</td><td>-26.7386565560488</td><td>0.97</td><td>0.501806</td><td>0.0190932</td><td>17462.7</td><td>17.080528</td><td>16.90064</td><td>--</td><td>17.0114</td><td>0.31278467</td><td>3.0024025</td><td>0.44559923</td><td>2.9263508</td><td>--</td><td>--</td><td>0.1482002</td><td>2.0833945</td><td>0.21522047</td><td>2.0611908</td><td>--</td><td>--</td><td>0.11036861</td><td>0.81837624</td><td>0.18304227</td><td>0.821719</td><td>--</td><td>--</td><td>82</td><td>80</td><td>0</td></tr>\n",
       "<tr><td>245103100001517</td><td>2333944331692281728</td><td>0.885322879300275</td><td>-26.5988557305232</td><td>0.98</td><td>0.58118</td><td>0.0158643</td><td>13775.1</td><td>16.47706</td><td>16.245916</td><td>--</td><td>16.2358</td><td>0.18669358</td><td>-2.1638775</td><td>0.2724687</td><td>-2.3415463</td><td>--</td><td>--</td><td>0.09654707</td><td>-2.277384</td><td>0.12579872</td><td>-2.3305018</td><td>--</td><td>--</td><td>0.058639035</td><td>-2.5625422</td><td>0.07181948</td><td>-2.9064033</td><td>--</td><td>--</td><td>82</td><td>84</td><td>0</td></tr>\n",
       "<tr><td>245103100002038</td><td>2334596681389448192</td><td>0.268704425294681</td><td>-26.6972408543714</td><td>0.79</td><td>0.613461</td><td>0.015369</td><td>59100.4</td><td>19.55729</td><td>19.410467</td><td>--</td><td>19.4415</td><td>0.27695486</td><td>-3.0480475</td><td>0.37774724</td><td>2.9442918</td><td>--</td><td>--</td><td>0.07293855</td><td>1.9353324</td><td>0.09814847</td><td>2.2232306</td><td>--</td><td>--</td><td>0.10155248</td><td>1.5703725</td><td>0.056697316</td><td>1.1640925</td><td>--</td><td>--</td><td>69</td><td>71</td><td>0</td></tr>\n",
       "<tr><td>245103100005002</td><td>2334605997174339456</td><td>0.513661672542887</td><td>-26.4832320691523</td><td>0.98</td><td>0.564039</td><td>0.016883</td><td>16770.7</td><td>16.92302</td><td>16.702965</td><td>--</td><td>16.7005</td><td>0.27261832</td><td>-1.16433</td><td>0.39498895</td><td>-1.2606807</td><td>--</td><td>--</td><td>0.12583855</td><td>-0.23147184</td><td>0.15405215</td><td>-0.18731086</td><td>--</td><td>--</td><td>0.10102296</td><td>0.54021835</td><td>0.12798515</td><td>0.6806197</td><td>--</td><td>--</td><td>82</td><td>84</td><td>0</td></tr>\n",
       "<tr><td>245103400002219</td><td>2333723948330522496</td><td>0.781236701419626</td><td>-27.5964286741732</td><td>0.62</td><td>0.369578</td><td>0.0151521</td><td>46679.8</td><td>19.386032</td><td>19.282204</td><td>--</td><td>19.32</td><td>0.20522206</td><td>2.1804292</td><td>0.28291988</td><td>2.1789286</td><td>--</td><td>--</td><td>0.024280133</td><td>-0.46539125</td><td>0.028752318</td><td>-0.023957392</td><td>--</td><td>--</td><td>0.010395379</td><td>2.9012606</td><td>0.021066511</td><td>-0.5510438</td><td>--</td><td>--</td><td>70</td><td>70</td><td>0</td></tr>\n",
       "<tr><td>245103400003028</td><td>2333530262485132160</td><td>0.935840957017628</td><td>-27.7687603375627</td><td>0.67</td><td>0.259518</td><td>0.015672</td><td>12976.3</td><td>16.87104</td><td>16.746918</td><td>--</td><td>16.7321</td><td>0.17586449</td><td>1.8286661</td><td>0.265272</td><td>1.7957639</td><td>--</td><td>--</td><td>0.03619911</td><td>-0.8076371</td><td>0.052383453</td><td>-0.7969385</td><td>--</td><td>--</td><td>0.02458537</td><td>-3.1161103</td><td>0.020252746</td><td>-1.4001676</td><td>--</td><td>--</td><td>81</td><td>83</td><td>0</td></tr>\n",
       "<tr><td>245104100003211</td><td>2334390664693528704</td><td>358.151609102946</td><td>-26.8794879135989</td><td>0.98</td><td>0.565848</td><td>0.0227476</td><td>26016.9</td><td>17.874083</td><td>17.68627</td><td>--</td><td>17.6503</td><td>0.2591054</td><td>1.7368912</td><td>0.35650706</td><td>1.6043763</td><td>--</td><td>--</td><td>0.12307562</td><td>-0.98964685</td><td>0.14745854</td><td>-0.57818174</td><td>--</td><td>--</td><td>0.11008415</td><td>2.4917808</td><td>0.12507433</td><td>-3.0641277</td><td>--</td><td>--</td><td>81</td><td>82</td><td>0</td></tr>\n",
       "<tr><td>245104100009538</td><td>2334513359024281856</td><td>358.345321047206</td><td>-26.4231264582543</td><td>0.65</td><td>0.357623</td><td>0.0209936</td><td>15687.2</td><td>17.065863</td><td>16.945461</td><td>--</td><td>16.9874</td><td>0.17379792</td><td>-2.6312017</td><td>0.24757278</td><td>-2.8819947</td><td>--</td><td>--</td><td>0.040518634</td><td>3.0962315</td><td>0.032312177</td><td>2.2668262</td><td>--</td><td>--</td><td>0.045370482</td><td>-2.9148548</td><td>0.022282124</td><td>0.8918463</td><td>--</td><td>--</td><td>81</td><td>82</td><td>0</td></tr>\n",
       "<tr><td>245104100013087</td><td>2334529752915355520</td><td>358.842801660357</td><td>-26.3020127420315</td><td>0.98</td><td>0.727779</td><td>0.0235167</td><td>2476.64</td><td>12.623161</td><td>12.366766</td><td>--</td><td>12.4011</td><td>0.22627062</td><td>1.953249</td><td>0.32336807</td><td>1.8608333</td><td>--</td><td>--</td><td>0.10758204</td><td>-0.4724394</td><td>0.16208254</td><td>-0.48934892</td><td>--</td><td>--</td><td>0.06520984</td><td>3.1020808</td><td>0.110502854</td><td>-3.0100212</td><td>--</td><td>--</td><td>81</td><td>82</td><td>0</td></tr>\n",
       "<tr><td>245104200000799</td><td>2337437269679427968</td><td>357.546842921446</td><td>-26.3568033753957</td><td>0.79</td><td>0.386725</td><td>0.0240623</td><td>25531.0</td><td>18.06991</td><td>17.96121</td><td>--</td><td>17.9322</td><td>0.17478678</td><td>1.4660268</td><td>0.26528785</td><td>1.4691633</td><td>--</td><td>--</td><td>0.015563091</td><td>-2.0394635</td><td>0.020603582</td><td>-2.3129175</td><td>--</td><td>--</td><td>0.007555732</td><td>-0.4655233</td><td>0.014738804</td><td>0.53618795</td><td>--</td><td>--</td><td>157</td><td>155</td><td>0</td></tr>\n",
       "<tr><td>245104400006377</td><td>2334124308002131456</td><td>358.601123628114</td><td>-27.483341958358</td><td>0.98</td><td>0.529852</td><td>0.0197306</td><td>23743.5</td><td>17.703135</td><td>17.537886</td><td>--</td><td>17.6162</td><td>0.3428306</td><td>2.547079</td><td>0.53413045</td><td>2.5263774</td><td>--</td><td>--</td><td>0.16195357</td><td>1.2791014</td><td>0.25788417</td><td>1.141517</td><td>--</td><td>--</td><td>0.12737255</td><td>-0.35669142</td><td>0.18838546</td><td>-0.4313294</td><td>--</td><td>--</td><td>83</td><td>84</td><td>0</td></tr>\n",
       "<tr><td>245105100002652</td><td>2335795462596618240</td><td>4.39681681681497</td><td>-24.9968933345781</td><td>0.98</td><td>0.360817</td><td>0.0158449</td><td>6373.3</td><td>15.078456</td><td>14.980284</td><td>--</td><td>14.9544</td><td>0.17709887</td><td>-2.8894882</td><td>0.2503677</td><td>-2.9142232</td><td>--</td><td>--</td><td>0.023366785</td><td>1.9059886</td><td>0.03229407</td><td>1.9336802</td><td>--</td><td>--</td><td>0.013760189</td><td>0.70984805</td><td>0.018777903</td><td>0.22686976</td><td>--</td><td>--</td><td>80</td><td>82</td><td>0</td></tr>\n",
       "<tr><td>245105300000944</td><td>2335394793688059264</td><td>3.40222810859353</td><td>-25.4468107620589</td><td>0.94</td><td>0.547475</td><td>0.0163341</td><td>24440.7</td><td>17.743526</td><td>17.557817</td><td>--</td><td>17.548</td><td>0.24781334</td><td>-1.7009896</td><td>0.35854056</td><td>-1.7972015</td><td>--</td><td>--</td><td>0.09504855</td><td>-1.4384423</td><td>0.11318781</td><td>-1.2737099</td><td>--</td><td>--</td><td>0.06572522</td><td>-1.0210512</td><td>0.03603185</td><td>-0.9032051</td><td>--</td><td>--</td><td>81</td><td>82</td><td>0</td></tr>\n",
       "<tr><td>245105400000522</td><td>2335736874947603840</td><td>4.26457208035854</td><td>-25.3229355903836</td><td>0.98</td><td>0.614853</td><td>0.0127409</td><td>39491.9</td><td>18.695261</td><td>18.504126</td><td>--</td><td>18.5872</td><td>0.2368974</td><td>-1.8730872</td><td>0.36140308</td><td>-1.9886258</td><td>--</td><td>--</td><td>0.10368979</td><td>-1.6055607</td><td>0.15983741</td><td>-1.5771236</td><td>--</td><td>--</td><td>0.0939537</td><td>-1.233742</td><td>0.12426518</td><td>-1.8305156</td><td>--</td><td>--</td><td>71</td><td>73</td><td>0</td></tr>\n",
       "<tr><td>245106100000284</td><td>2336451458721788800</td><td>2.48320852930613</td><td>-24.4121806936396</td><td>1.0</td><td>0.380409</td><td>0.0220667</td><td>10760.1</td><td>16.183756</td><td>16.107578</td><td>--</td><td>16.0627</td><td>0.21893713</td><td>-1.8414032</td><td>0.3081438</td><td>-1.8528877</td><td>--</td><td>--</td><td>0.03996031</td><td>-2.184882</td><td>0.038755357</td><td>-2.3270054</td><td>--</td><td>--</td><td>0.018576037</td><td>-2.4970827</td><td>0.026031373</td><td>-2.9078288</td><td>--</td><td>--</td><td>80</td><td>87</td><td>0</td></tr>\n",
       "<tr><td>245106100003403</td><td>2335639744262326016</td><td>2.5477193266796</td><td>-25.0539540288584</td><td>0.98</td><td>0.486343</td><td>0.0191491</td><td>18833.8</td><td>17.255598</td><td>17.098999</td><td>--</td><td>17.1348</td><td>0.30223504</td><td>2.0356855</td><td>0.45216623</td><td>1.9461895</td><td>--</td><td>--</td><td>0.1269359</td><td>-0.13419928</td><td>0.19706716</td><td>-0.047703154</td><td>--</td><td>--</td><td>0.07367237</td><td>-2.2402725</td><td>0.11837081</td><td>-2.1976714</td><td>--</td><td>--</td><td>80</td><td>87</td><td>0</td></tr>\n",
       "<tr><td>245106200000449</td><td>2336682111350230912</td><td>1.23770964769656</td><td>-24.4477273317424</td><td>0.81</td><td>0.495651</td><td>0.0203655</td><td>33286.1</td><td>18.479132</td><td>18.328167</td><td>--</td><td>18.3913</td><td>0.35867718</td><td>2.455648</td><td>0.55178165</td><td>2.4594684</td><td>--</td><td>--</td><td>0.22875017</td><td>0.8171564</td><td>0.33705336</td><td>0.8115419</td><td>--</td><td>--</td><td>0.1192436</td><td>-1.0176519</td><td>0.18055367</td><td>-1.0926869</td><td>--</td><td>--</td><td>54</td><td>58</td><td>0</td></tr>\n",
       "<tr><td>245106200002355</td><td>2336373874432546048</td><td>1.26357221376279</td><td>-24.8235512397961</td><td>0.94</td><td>0.654204</td><td>0.0190427</td><td>11349.0</td><td>15.994499</td><td>15.734779</td><td>--</td><td>15.7304</td><td>0.11391744</td><td>2.9770312</td><td>0.1743502</td><td>2.7964969</td><td>--</td><td>--</td><td>0.035813577</td><td>1.5254942</td><td>0.059845738</td><td>1.511926</td><td>--</td><td>--</td><td>0.0154247945</td><td>-0.6689911</td><td>0.028496616</td><td>-0.016027944</td><td>--</td><td>--</td><td>78</td><td>80</td><td>0</td></tr>\n",
       "<tr><td>245106200002883</td><td>2336406786766185216</td><td>1.84188483523365</td><td>-24.9196819981773</td><td>0.7</td><td>0.379008</td><td>0.0211545</td><td>23414.1</td><td>17.888008</td><td>17.780266</td><td>--</td><td>17.7388</td><td>0.17352293</td><td>2.0900774</td><td>0.25763568</td><td>1.9782788</td><td>--</td><td>--</td><td>0.0092847245</td><td>-1.0175798</td><td>0.043419108</td><td>-0.67632353</td><td>--</td><td>--</td><td>0.014873981</td><td>-1.655739</td><td>0.04312001</td><td>-3.1381972</td><td>--</td><td>--</td><td>79</td><td>80</td><td>0</td></tr>\n",
       "<tr><td>245106200004016</td><td>2336308453490730112</td><td>1.70355188672435</td><td>-25.1669313039403</td><td>0.72</td><td>0.323955</td><td>0.023706</td><td>12364.0</td><td>16.635426</td><td>16.4985</td><td>--</td><td>16.541</td><td>0.31141573</td><td>1.6622877</td><td>0.45596716</td><td>1.6168497</td><td>--</td><td>--</td><td>0.14601095</td><td>-0.5585027</td><td>0.19102149</td><td>-0.46366498</td><td>--</td><td>--</td><td>0.060504843</td><td>-3.0601983</td><td>0.13594343</td><td>-2.980351</td><td>--</td><td>--</td><td>75</td><td>75</td><td>0</td></tr>\n",
       "<tr><td>245106400001245</td><td>2335578858805983360</td><td>3.11854537605887</td><td>-25.4654235212862</td><td>0.99</td><td>0.707437</td><td>0.0180513</td><td>14094.4</td><td>16.38462</td><td>16.168037</td><td>--</td><td>16.1484</td><td>0.2468812</td><td>-3.0975296</td><td>0.36241096</td><td>3.0654619</td><td>--</td><td>--</td><td>0.13893743</td><td>2.044329</td><td>0.17491521</td><td>1.9492483</td><td>--</td><td>--</td><td>0.09270754</td><td>0.74905807</td><td>0.11474309</td><td>0.7115214</td><td>--</td><td>--</td><td>79</td><td>82</td><td>0</td></tr>\n",
       "<tr><td>245106400001659</td><td>2335562641009408768</td><td>2.53681155540031</td><td>-25.5609119981124</td><td>0.99</td><td>0.551853</td><td>0.0198025</td><td>8156.28</td><td>15.371425</td><td>15.171166</td><td>--</td><td>15.2447</td><td>0.25783706</td><td>1.4056408</td><td>0.42791086</td><td>1.3400383</td><td>--</td><td>--</td><td>0.13379599</td><td>-1.0888193</td><td>0.21135637</td><td>-1.0868287</td><td>--</td><td>--</td><td>0.096724525</td><td>2.0602348</td><td>0.14979084</td><td>2.3241687</td><td>--</td><td>--</td><td>80</td><td>82</td><td>0</td></tr>\n",
       "<tr><td>245106400002107</td><td>2335547110407681152</td><td>2.83607334091242</td><td>-25.6528064740969</td><td>0.98</td><td>0.336279</td><td>0.021059</td><td>17903.2</td><td>17.388933</td><td>17.284794</td><td>--</td><td>17.2917</td><td>0.16892284</td><td>1.530896</td><td>0.23872012</td><td>1.5114278</td><td>--</td><td>--</td><td>0.01998275</td><td>-1.9777924</td><td>0.02191827</td><td>-1.6071477</td><td>--</td><td>--</td><td>0.0068586976</td><td>0.61753345</td><td>0.020381913</td><td>0.5919133</td><td>--</td><td>--</td><td>80</td><td>82</td><td>0</td></tr>\n",
       "<tr><td>245107100003686</td><td>2336542340229719168</td><td>0.562739154302146</td><td>-25.0261994970654</td><td>0.99</td><td>0.571025</td><td>0.0180854</td><td>21413.1</td><td>17.445126</td><td>17.231041</td><td>--</td><td>17.2147</td><td>0.24060102</td><td>-2.186821</td><td>0.38380235</td><td>-2.3725395</td><td>--</td><td>--</td><td>0.110138446</td><td>-2.1575153</td><td>0.18306842</td><td>-2.2809732</td><td>--</td><td>--</td><td>0.050794773</td><td>-2.38922</td><td>0.16957581</td><td>-2.6026797</td><td>--</td><td>--</td><td>82</td><td>82</td><td>0</td></tr>\n",
       "<tr><td>245107200002594</td><td>2338111652560516352</td><td>359.591888377553</td><td>-24.8280347996683</td><td>0.97</td><td>0.60118</td><td>0.0186259</td><td>13370.8</td><td>16.37187</td><td>16.188272</td><td>--</td><td>16.1244</td><td>0.24284807</td><td>-0.5716988</td><td>0.3790901</td><td>-0.7764485</td><td>--</td><td>--</td><td>0.089622706</td><td>1.0365103</td><td>0.11750284</td><td>0.8228263</td><td>--</td><td>--</td><td>0.05731114</td><td>2.4244463</td><td>0.07393856</td><td>2.2634194</td><td>--</td><td>--</td><td>83</td><td>81</td><td>0</td></tr>\n",
       "<tr><td>245107200003256</td><td>2335101705119600128</td><td>359.978799786507</td><td>-24.9566744884676</td><td>0.99</td><td>0.508839</td><td>0.0203027</td><td>24130.8</td><td>17.769115</td><td>17.603287</td><td>--</td><td>17.7854</td><td>0.3337431</td><td>1.2566876</td><td>0.48307273</td><td>1.1184766</td><td>--</td><td>--</td><td>0.1620855</td><td>-1.4993112</td><td>0.20392403</td><td>-1.5944349</td><td>--</td><td>--</td><td>0.11557036</td><td>1.9213332</td><td>0.16733465</td><td>1.9941516</td><td>--</td><td>--</td><td>83</td><td>81</td><td>0</td></tr>\n",
       "<tr><td>245107300000895</td><td>2335055216393566976</td><td>359.798419395052</td><td>-25.3946119292099</td><td>0.98</td><td>0.569269</td><td>0.0199738</td><td>21569.2</td><td>17.466776</td><td>17.255625</td><td>--</td><td>17.3908</td><td>0.32372105</td><td>-2.3968058</td><td>0.4615515</td><td>-2.3136735</td><td>--</td><td>--</td><td>0.12871641</td><td>-2.3647995</td><td>0.19955868</td><td>-2.2867334</td><td>--</td><td>--</td><td>0.09324876</td><td>-2.2859213</td><td>0.1486891</td><td>-2.6121204</td><td>--</td><td>--</td><td>81</td><td>83</td><td>0</td></tr>\n",
       "<tr><td>245108100000491</td><td>2338172572376587904</td><td>359.017356393495</td><td>-24.4358044321374</td><td>0.94</td><td>0.608489</td><td>0.0230715</td><td>32389.3</td><td>18.322918</td><td>18.086548</td><td>--</td><td>18.0896</td><td>0.15429103</td><td>-2.9191823</td><td>0.21039571</td><td>-3.1324165</td><td>--</td><td>--</td><td>0.060954064</td><td>2.5456367</td><td>0.06785736</td><td>2.5622702</td><td>--</td><td>--</td><td>0.030625518</td><td>1.0545728</td><td>0.04249562</td><td>1.3335412</td><td>--</td><td>--</td><td>80</td><td>83</td><td>0</td></tr>\n",
       "<tr><td>245108100000632</td><td>2338357011156774272</td><td>358.613629916554</td><td>-24.461603528401</td><td>0.88</td><td>0.312493</td><td>0.0207585</td><td>18819.7</td><td>17.503193</td><td>17.490847</td><td>--</td><td>17.4356</td><td>0.18565996</td><td>0.13728279</td><td>0.26493463</td><td>0.12761731</td><td>--</td><td>--</td><td>0.04802325</td><td>2.111711</td><td>0.047180835</td><td>2.2499237</td><td>--</td><td>--</td><td>0.008266859</td><td>-1.6660734</td><td>0.020181889</td><td>-1.213773</td><td>--</td><td>--</td><td>82</td><td>85</td><td>0</td></tr>\n",
       "<tr><td>245108100003129</td><td>2338063304112936960</td><td>358.603434073443</td><td>-24.9108462066953</td><td>0.98</td><td>0.550513</td><td>0.0246668</td><td>58773.1</td><td>19.666538</td><td>19.48288</td><td>--</td><td>19.5442</td><td>0.30674824</td><td>1.3026608</td><td>0.35988656</td><td>1.1608524</td><td>--</td><td>--</td><td>0.1465606</td><td>-1.457958</td><td>0.16605873</td><td>-1.4758046</td><td>--</td><td>--</td><td>0.09806045</td><td>1.9291145</td><td>0.13517407</td><td>2.2471757</td><td>--</td><td>--</td><td>62</td><td>76</td><td>0</td></tr>\n",
       "<tr><td>245108300001167</td><td>2337843470506613248</td><td>357.345813686281</td><td>-25.4145552108856</td><td>0.9</td><td>0.669499</td><td>0.0222212</td><td>60697.8</td><td>19.598007</td><td>19.397596</td><td>--</td><td>19.2432</td><td>0.3224804</td><td>0.10367519</td><td>0.48481596</td><td>0.008896822</td><td>--</td><td>--</td><td>0.15327337</td><td>2.149245</td><td>0.20007834</td><td>2.4541726</td><td>--</td><td>--</td><td>0.07695939</td><td>-1.2381915</td><td>0.14366315</td><td>-1.6636826</td><td>--</td><td>--</td><td>119</td><td>133</td><td>9</td></tr>\n",
       "<tr><td>...</td><td>...</td><td>...</td><td>...</td><td>...</td><td>...</td><td>...</td><td>...</td><td>...</td><td>...</td><td>...</td><td>...</td><td>...</td><td>...</td><td>...</td><td>...</td><td>...</td><td>...</td><td>...</td><td>...</td><td>...</td><td>...</td><td>...</td><td>...</td><td>...</td><td>...</td><td>...</td><td>...</td><td>...</td><td>...</td><td>...</td><td>...</td><td>...</td></tr>\n",
       "<tr><td>1858213300001435</td><td>2250689002001074688</td><td>299.92376959063</td><td>68.3651391195188</td><td>0.78</td><td>0.492531</td><td>0.235665</td><td>10618.9</td><td>--</td><td>16.312737</td><td>--</td><td>16.3468</td><td>0.28493798</td><td>2.09477</td><td>--</td><td>--</td><td>--</td><td>--</td><td>0.14183888</td><td>0.2961459</td><td>--</td><td>--</td><td>--</td><td>--</td><td>0.08902421</td><td>-1.9027166</td><td>--</td><td>--</td><td>--</td><td>--</td><td>0</td><td>32</td><td>0</td></tr>\n",
       "<tr><td>1859208400014683</td><td>2244554448674104576</td><td>304.318552103854</td><td>63.9770249532348</td><td>0.73</td><td>0.34307</td><td>0.236333</td><td>10553.7</td><td>--</td><td>16.55216</td><td>--</td><td>16.5505</td><td>0.19030024</td><td>-3.0829043</td><td>--</td><td>--</td><td>--</td><td>--</td><td>0.021944147</td><td>1.5675713</td><td>--</td><td>--</td><td>--</td><td>--</td><td>0.015296829</td><td>-0.637999</td><td>--</td><td>--</td><td>--</td><td>--</td><td>0</td><td>25</td><td>0</td></tr>\n",
       "<tr><td>1859210100003348</td><td>2246117232653240064</td><td>311.774205665803</td><td>67.3438028697836</td><td>0.23</td><td>0.567728</td><td>0.459454</td><td>8809.41</td><td>--</td><td>16.31657</td><td>--</td><td>16.5902</td><td>0.3176095</td><td>-0.6520299</td><td>--</td><td>--</td><td>--</td><td>--</td><td>0.17490104</td><td>0.4751362</td><td>--</td><td>--</td><td>--</td><td>--</td><td>0.16158195</td><td>1.5960628</td><td>--</td><td>--</td><td>--</td><td>--</td><td>0</td><td>24</td><td>0</td></tr>\n",
       "<tr><td>1859210300006532</td><td>2245977663395984128</td><td>309.814560510194</td><td>66.3416108330564</td><td>0.15</td><td>0.739993</td><td>0.4379</td><td>16486.0</td><td>--</td><td>17.444332</td><td>--</td><td>17.6064</td><td>0.020599702</td><td>1.5512084</td><td>--</td><td>--</td><td>--</td><td>--</td><td>0.17397992</td><td>0.783237</td><td>--</td><td>--</td><td>--</td><td>--</td><td>0.004453512</td><td>2.6744597</td><td>--</td><td>--</td><td>--</td><td>--</td><td>0</td><td>23</td><td>0</td></tr>\n",
       "<tr><td>1859214100001842</td><td>2271155311441034880</td><td>312.869175626109</td><td>69.2919422989942</td><td>0.27</td><td>0.482416</td><td>0.370938</td><td>4364.0</td><td>--</td><td>14.703393</td><td>--</td><td>14.9143</td><td>0.2989582</td><td>2.598401</td><td>--</td><td>--</td><td>--</td><td>--</td><td>0.15025972</td><td>1.4882566</td><td>--</td><td>--</td><td>--</td><td>--</td><td>0.14266194</td><td>0.16400106</td><td>--</td><td>--</td><td>--</td><td>--</td><td>0</td><td>38</td><td>0</td></tr>\n",
       "<tr><td>1860103100003554</td><td>2217320335929585024</td><td>322.432942381796</td><td>63.528801415187</td><td>0.29</td><td>0.597045</td><td>0.629107</td><td>19258.3</td><td>--</td><td>18.365223</td><td>--</td><td>18.425</td><td>0.21613565</td><td>-2.6029778</td><td>--</td><td>--</td><td>--</td><td>--</td><td>0.08441495</td><td>2.9702702</td><td>--</td><td>--</td><td>--</td><td>--</td><td>0.027207123</td><td>2.8826199</td><td>--</td><td>--</td><td>--</td><td>--</td><td>8</td><td>26</td><td>0</td></tr>\n",
       "<tr><td>1860113300005316</td><td>2222783740488771968</td><td>329.279000767414</td><td>68.22884420038</td><td>0.86</td><td>0.511556</td><td>0.35961</td><td>9542.73</td><td>16.866735</td><td>16.315899</td><td>--</td><td>16.3983</td><td>0.3456996</td><td>-0.6240539</td><td>0.55582625</td><td>-0.7133959</td><td>--</td><td>--</td><td>0.16215475</td><td>1.2487851</td><td>0.26702252</td><td>0.5170542</td><td>--</td><td>--</td><td>0.15860541</td><td>2.7673254</td><td>0.110491194</td><td>1.5616208</td><td>--</td><td>--</td><td>15</td><td>56</td><td>0</td></tr>\n",
       "<tr><td>1860214100006217</td><td>2223810272030486528</td><td>326.593762486518</td><td>69.1853018690835</td><td>0.84</td><td>0.416564</td><td>0.590665</td><td>1548.94</td><td>--</td><td>13.0551195</td><td>--</td><td>13.2672</td><td>0.36474746</td><td>-2.6083045</td><td>--</td><td>--</td><td>--</td><td>--</td><td>0.17604618</td><td>-2.777284</td><td>--</td><td>--</td><td>--</td><td>--</td><td>0.09768533</td><td>2.917478</td><td>--</td><td>--</td><td>--</td><td>--</td><td>0</td><td>39</td><td>0</td></tr>\n",
       "<tr><td>1860215100005995</td><td>2223973442129066112</td><td>323.518036459368</td><td>69.1730809784279</td><td>0.86</td><td>0.314216</td><td>0.67513</td><td>1226.97</td><td>--</td><td>12.936862</td><td>--</td><td>12.9539</td><td>0.20011352</td><td>2.8778994</td><td>--</td><td>--</td><td>--</td><td>--</td><td>0.020538477</td><td>0.8259058</td><td>--</td><td>--</td><td>--</td><td>--</td><td>0.02427874</td><td>-0.9340301</td><td>--</td><td>--</td><td>--</td><td>--</td><td>0</td><td>39</td><td>0</td></tr>\n",
       "<tr><td>1861101200010191</td><td>2207312576796064128</td><td>344.347854420908</td><td>63.0575536299307</td><td>0.54</td><td>0.562042</td><td>0.98342</td><td>9971.68</td><td>--</td><td>17.7826</td><td>--</td><td>17.7255</td><td>0.28461784</td><td>-1.8182784</td><td>--</td><td>--</td><td>--</td><td>--</td><td>0.13772394</td><td>-1.8607659</td><td>--</td><td>--</td><td>--</td><td>--</td><td>0.078494</td><td>-2.0915842</td><td>--</td><td>--</td><td>--</td><td>--</td><td>7</td><td>29</td><td>0</td></tr>\n",
       "<tr><td>1861102200013038</td><td>2202253728098605312</td><td>339.920281616932</td><td>63.1965003495202</td><td>0.15</td><td>0.273071</td><td>0.956675</td><td>5828.21</td><td>--</td><td>17.057287</td><td>--</td><td>17.0733</td><td>0.16634083</td><td>2.3686445</td><td>--</td><td>--</td><td>--</td><td>--</td><td>0.0351182</td><td>-0.9577846</td><td>--</td><td>--</td><td>--</td><td>--</td><td>0.017859954</td><td>0.8898773</td><td>--</td><td>--</td><td>--</td><td>--</td><td>8</td><td>29</td><td>0</td></tr>\n",
       "<tr><td>1861102400011203</td><td>2207895425334870272</td><td>341.029702272696</td><td>62.1380175168478</td><td>0.28</td><td>0.538794</td><td>2.16798</td><td>1924.08</td><td>--</td><td>16.929361</td><td>--</td><td>16.706</td><td>0.34944642</td><td>-1.4735707</td><td>--</td><td>--</td><td>--</td><td>--</td><td>0.15817165</td><td>-0.4075708</td><td>--</td><td>--</td><td>--</td><td>--</td><td>0.15217353</td><td>-0.3235123</td><td>--</td><td>--</td><td>--</td><td>--</td><td>8</td><td>29</td><td>0</td></tr>\n",
       "<tr><td>1861107100009643</td><td>2206447536021786880</td><td>337.513480315002</td><td>65.0140903848659</td><td>0.17</td><td>0.624564</td><td>1.31045</td><td>10873.3</td><td>--</td><td>18.639961</td><td>--</td><td>18.4962</td><td>0.3067106</td><td>-0.41542786</td><td>--</td><td>--</td><td>--</td><td>--</td><td>0.15677139</td><td>1.3575351</td><td>--</td><td>--</td><td>--</td><td>--</td><td>0.10120966</td><td>2.7376068</td><td>--</td><td>--</td><td>--</td><td>--</td><td>7</td><td>29</td><td>0</td></tr>\n",
       "<tr><td>1861209200029166</td><td>2213020794488910464</td><td>345.311802114567</td><td>67.3855678102115</td><td>0.15</td><td>0.629982</td><td>1.05914</td><td>11249.0</td><td>--</td><td>18.136986</td><td>--</td><td>18.124</td><td>0.18700303</td><td>1.616511</td><td>--</td><td>--</td><td>--</td><td>--</td><td>0.065278</td><td>-1.4493991</td><td>--</td><td>--</td><td>--</td><td>--</td><td>0.0769789</td><td>2.0259748</td><td>--</td><td>--</td><td>--</td><td>--</td><td>0</td><td>29</td><td>0</td></tr>\n",
       "<tr><td>1861214300011062</td><td>2225035295484011520</td><td>341.181013475904</td><td>68.256834820346</td><td>0.7</td><td>0.607125</td><td>0.818096</td><td>10968.7</td><td>--</td><td>17.560461</td><td>--</td><td>17.5523</td><td>0.18690814</td><td>-0.28585833</td><td>--</td><td>--</td><td>--</td><td>--</td><td>0.10682705</td><td>1.4762225</td><td>--</td><td>--</td><td>--</td><td>--</td><td>0.06440838</td><td>2.8513474</td><td>--</td><td>--</td><td>--</td><td>--</td><td>0</td><td>29</td><td>0</td></tr>\n",
       "<tr><td>1862103400002160</td><td>2015873858504739456</td><td>353.216899265029</td><td>62.6893343472071</td><td>0.44</td><td>0.542079</td><td>1.92926</td><td>4667.9</td><td>--</td><td>18.307497</td><td>--</td><td>17.8857</td><td>0.35631794</td><td>3.131031</td><td>--</td><td>--</td><td>--</td><td>--</td><td>0.12016345</td><td>1.8624022</td><td>--</td><td>--</td><td>--</td><td>--</td><td>0.089359544</td><td>1.2367141</td><td>--</td><td>--</td><td>--</td><td>--</td><td>5</td><td>26</td><td>0</td></tr>\n",
       "<tr><td>1862111100000482</td><td>2210668118781586560</td><td>352.570936807838</td><td>67.4916231733205</td><td>0.7</td><td>0.572998</td><td>1.89826</td><td>2417.09</td><td>--</td><td>16.769405</td><td>--</td><td>16.5988</td><td>0.217551</td><td>0.18388984</td><td>--</td><td>--</td><td>--</td><td>--</td><td>0.111336</td><td>2.4183846</td><td>--</td><td>--</td><td>--</td><td>--</td><td>0.058658384</td><td>-2.1904278</td><td>--</td><td>--</td><td>--</td><td>--</td><td>9</td><td>26</td><td>0</td></tr>\n",
       "<tr><td>1862115100001602</td><td>2214081690070072192</td><td>353.425941648657</td><td>69.3605112424258</td><td>0.75</td><td>0.596212</td><td>0.85503</td><td>5271.1</td><td>--</td><td>16.06568</td><td>--</td><td>16.0553</td><td>0.1957332</td><td>-2.9843936</td><td>--</td><td>--</td><td>--</td><td>--</td><td>0.09834483</td><td>2.3922052</td><td>--</td><td>--</td><td>--</td><td>--</td><td>0.059503585</td><td>0.9685677</td><td>--</td><td>--</td><td>--</td><td>--</td><td>9</td><td>38</td><td>0</td></tr>\n",
       "<tr><td>1863105100005695</td><td>534594922931610880</td><td>23.7360084093631</td><td>72.1911117389187</td><td>0.8</td><td>0.529171</td><td>0.518767</td><td>15344.5</td><td>18.363096</td><td>17.700113</td><td>--</td><td>17.7022</td><td>0.30825338</td><td>2.755409</td><td>0.4324951</td><td>2.7235267</td><td>--</td><td>--</td><td>0.12464232</td><td>1.2287459</td><td>0.28515497</td><td>1.40875</td><td>--</td><td>--</td><td>0.12525189</td><td>-0.5343514</td><td>0.1758683</td><td>-0.9150785</td><td>--</td><td>--</td><td>13</td><td>28</td><td>0</td></tr>\n",
       "<tr><td>1863114400012354</td><td>535903105548185600</td><td>19.3066397307026</td><td>74.855568146496</td><td>0.45</td><td>0.51416</td><td>0.391529</td><td>1521.46</td><td>12.959082</td><td>12.415903</td><td>--</td><td>12.4941</td><td>0.3826007</td><td>2.454114</td><td>0.45662704</td><td>2.4593263</td><td>--</td><td>--</td><td>0.2501959</td><td>1.1108835</td><td>0.21515672</td><td>0.7864133</td><td>--</td><td>--</td><td>0.21115786</td><td>-0.026952885</td><td>0.22684589</td><td>-0.3528588</td><td>--</td><td>--</td><td>12</td><td>16</td><td>0</td></tr>\n",
       "<tr><td>1865101300006308</td><td>494070845639987840</td><td>59.2822462815396</td><td>69.4240701008304</td><td>0.34</td><td>0.632565</td><td>0.54155</td><td>14383.8</td><td>--</td><td>17.492502</td><td>--</td><td>17.5011</td><td>0.1843623</td><td>-0.80561066</td><td>--</td><td>--</td><td>--</td><td>--</td><td>0.050673436</td><td>0.18030277</td><td>--</td><td>--</td><td>--</td><td>--</td><td>0.025284776</td><td>1.6423657</td><td>--</td><td>--</td><td>--</td><td>--</td><td>9</td><td>14</td><td>0</td></tr>\n",
       "<tr><td>1865110100000387</td><td>550670989817507456</td><td>57.8410400220693</td><td>74.6564269777283</td><td>0.26</td><td>0.272042</td><td>0.227994</td><td>4848.49</td><td>--</td><td>15.005432</td><td>--</td><td>14.9707</td><td>0.1617963</td><td>-2.6162987</td><td>--</td><td>--</td><td>--</td><td>--</td><td>0.029416667</td><td>1.7552651</td><td>--</td><td>--</td><td>--</td><td>--</td><td>0.015623867</td><td>0.31256738</td><td>--</td><td>--</td><td>--</td><td>--</td><td>8</td><td>13</td><td>0</td></tr>\n",
       "<tr><td>1866105400005192</td><td>497901505493566976</td><td>81.9494916110329</td><td>71.1821904781779</td><td>0.19</td><td>0.314661</td><td>0.110994</td><td>30840.5</td><td>18.966936</td><td>18.653437</td><td>--</td><td>18.6605</td><td>0.21416654</td><td>1.685762</td><td>0.25177568</td><td>2.191108</td><td>--</td><td>--</td><td>0.03531683</td><td>-2.6398716</td><td>0.01816745</td><td>2.558233</td><td>--</td><td>--</td><td>0.0077684955</td><td>0.8531312</td><td>0.0033493706</td><td>-2.6719596</td><td>--</td><td>--</td><td>11</td><td>25</td><td>0</td></tr>\n",
       "<tr><td>1866106400006063</td><td>498798402040988672</td><td>76.5413432643423</td><td>71.3332485569738</td><td>0.38</td><td>0.527438</td><td>0.113979</td><td>22757.9</td><td>--</td><td>17.644077</td><td>--</td><td>17.657</td><td>0.24746393</td><td>-0.27171066</td><td>--</td><td>--</td><td>--</td><td>--</td><td>0.077630326</td><td>1.6561338</td><td>--</td><td>--</td><td>--</td><td>--</td><td>0.05210279</td><td>-2.2070613</td><td>--</td><td>--</td><td>--</td><td>--</td><td>6</td><td>14</td><td>0</td></tr>\n",
       "<tr><td>1866109400002424</td><td>499447698015857408</td><td>84.1596297284182</td><td>73.283370621499</td><td>0.87</td><td>0.351358</td><td>0.151508</td><td>8274.19</td><td>16.124949</td><td>15.843885</td><td>--</td><td>15.8453</td><td>0.17485468</td><td>-1.1665975</td><td>0.2556743</td><td>-1.0887597</td><td>--</td><td>--</td><td>0.015780741</td><td>-0.045454826</td><td>0.025974697</td><td>-1.3683331</td><td>--</td><td>--</td><td>0.013211956</td><td>-0.114394866</td><td>0.010862227</td><td>0.25587392</td><td>--</td><td>--</td><td>11</td><td>26</td><td>0</td></tr>\n",
       "<tr><td>1866110100008871</td><td>502572991099671680</td><td>76.8728394943791</td><td>74.5413425468529</td><td>0.74</td><td>0.542053</td><td>0.143171</td><td>9035.68</td><td>--</td><td>15.685519</td><td>--</td><td>15.7357</td><td>0.19457518</td><td>-3.092736</td><td>--</td><td>--</td><td>--</td><td>--</td><td>0.13109644</td><td>2.405531</td><td>--</td><td>--</td><td>--</td><td>--</td><td>0.102755114</td><td>0.5579447</td><td>--</td><td>--</td><td>--</td><td>--</td><td>6</td><td>13</td><td>0</td></tr>\n",
       "<tr><td>1866111300004929</td><td>501875282251968128</td><td>66.7099356778068</td><td>73.3344524368677</td><td>0.38</td><td>0.634262</td><td>0.143762</td><td>13133.1</td><td>--</td><td>16.38973</td><td>--</td><td>16.4389</td><td>0.11298574</td><td>-0.7737186</td><td>--</td><td>--</td><td>--</td><td>--</td><td>0.03263935</td><td>-0.1247864</td><td>--</td><td>--</td><td>--</td><td>--</td><td>0.012238802</td><td>0.85861033</td><td>--</td><td>--</td><td>--</td><td>--</td><td>6</td><td>14</td><td>0</td></tr>\n",
       "<tr><td>1866115300000189</td><td>550445761732141568</td><td>67.8146111969382</td><td>75.72687976633</td><td>0.58</td><td>0.354576</td><td>0.15261</td><td>5492.41</td><td>--</td><td>14.920899</td><td>--</td><td>14.8955</td><td>0.170279</td><td>0.5575213</td><td>--</td><td>--</td><td>--</td><td>--</td><td>0.027706899</td><td>2.6792188</td><td>--</td><td>--</td><td>--</td><td>--</td><td>0.009952119</td><td>-0.6865548</td><td>--</td><td>--</td><td>--</td><td>--</td><td>5</td><td>12</td><td>0</td></tr>\n",
       "<tr><td>1878209100000683</td><td>2274194322923560448</td><td>323.99818070587</td><td>74.3663728751892</td><td>0.23</td><td>0.533618</td><td>0.653802</td><td>18716.6</td><td>--</td><td>18.437393</td><td>--</td><td>18.6446</td><td>0.2827619</td><td>-2.4818287</td><td>--</td><td>--</td><td>--</td><td>--</td><td>0.1549589</td><td>-2.6442566</td><td>--</td><td>--</td><td>--</td><td>--</td><td>0.107741594</td><td>2.9890702</td><td>--</td><td>--</td><td>--</td><td>--</td><td>0</td><td>26</td><td>0</td></tr>\n",
       "<tr><td>1879208400011172</td><td>2272270834706465920</td><td>324.768593747705</td><td>71.0441474229446</td><td>0.35</td><td>0.649538</td><td>1.25872</td><td>5755.82</td><td>--</td><td>17.113964</td><td>--</td><td>16.9701</td><td>0.22643594</td><td>-2.4406462</td><td>--</td><td>--</td><td>--</td><td>--</td><td>0.12217636</td><td>-2.9798248</td><td>--</td><td>--</td><td>--</td><td>--</td><td>0.06748444</td><td>2.6835449</td><td>--</td><td>--</td><td>--</td><td>--</td><td>0</td><td>13</td><td>0</td></tr>\n",
       "<tr><td>1879209200004154</td><td>2231410027681772288</td><td>340.864367360642</td><td>74.3724766296213</td><td>0.18</td><td>0.513566</td><td>0.499083</td><td>2867.72</td><td>--</td><td>14.039189</td><td>--</td><td>13.9826</td><td>0.30800104</td><td>1.3500497</td><td>--</td><td>--</td><td>--</td><td>--</td><td>0.23523735</td><td>-1.5918854</td><td>--</td><td>--</td><td>--</td><td>--</td><td>0.1476172</td><td>1.1485698</td><td>--</td><td>--</td><td>--</td><td>--</td><td>0</td><td>24</td><td>0</td></tr>\n",
       "<tr><td>1879215100000755</td><td>2280500266922334592</td><td>329.268711608431</td><td>76.5564826263358</td><td>0.78</td><td>0.586766</td><td>1.02602</td><td>3491.94</td><td>--</td><td>15.570923</td><td>--</td><td>15.4775</td><td>0.19132641</td><td>2.839458</td><td>--</td><td>--</td><td>--</td><td>--</td><td>0.0788516</td><td>1.656443</td><td>--</td><td>--</td><td>--</td><td>--</td><td>0.05847797</td><td>-0.36513475</td><td>--</td><td>--</td><td>--</td><td>--</td><td>0</td><td>13</td><td>0</td></tr>\n",
       "<tr><td>1879215200000500</td><td>2283493717393209088</td><td>327.082855234103</td><td>76.5553062804297</td><td>0.25</td><td>0.524648</td><td>0.968454</td><td>6565.56</td><td>--</td><td>16.88897</td><td>--</td><td>17.1205</td><td>0.32004768</td><td>-1.6868438</td><td>--</td><td>--</td><td>--</td><td>--</td><td>0.16327414</td><td>-1.5303082</td><td>--</td><td>--</td><td>--</td><td>--</td><td>0.05481153</td><td>-1.8744459</td><td>--</td><td>--</td><td>--</td><td>--</td><td>0</td><td>13</td><td>0</td></tr>\n",
       "<tr><td>1880211400005690</td><td>2228712753860793088</td><td>351.554235946736</td><td>73.6565324206188</td><td>0.49</td><td>0.6225</td><td>0.506506</td><td>2872.61</td><td>--</td><td>13.926074</td><td>--</td><td>13.895</td><td>0.23308407</td><td>-1.2519773</td><td>--</td><td>--</td><td>--</td><td>--</td><td>0.100637175</td><td>-0.553174</td><td>--</td><td>--</td><td>--</td><td>--</td><td>0.013859665</td><td>-0.01540727</td><td>--</td><td>--</td><td>--</td><td>--</td><td>0</td><td>11</td><td>0</td></tr>\n",
       "</table></div>"
      ],
      "text/plain": [
       "<Table length=71755>\n",
       "     objid            source_id      ... ngooddet_r ngooddet_i\n",
       "     int64              int64        ...   int64      int64   \n",
       "---------------- ------------------- ... ---------- ----------\n",
       " 245101100001850 2323207596351730304 ...         76          0\n",
       " 245101200001823 2323151181956812672 ...         81          0\n",
       " 245101200006240 2323082286386272640 ...         79          0\n",
       " 245102200002148 2333889115592815616 ...         80          0\n",
       " 245103100001517 2333944331692281728 ...         84          0\n",
       " 245103100002038 2334596681389448192 ...         71          0\n",
       " 245103100005002 2334605997174339456 ...         84          0\n",
       " 245103400002219 2333723948330522496 ...         70          0\n",
       " 245103400003028 2333530262485132160 ...         83          0\n",
       " 245104100003211 2334390664693528704 ...         82          0\n",
       " 245104100009538 2334513359024281856 ...         82          0\n",
       " 245104100013087 2334529752915355520 ...         82          0\n",
       " 245104200000799 2337437269679427968 ...        155          0\n",
       " 245104400006377 2334124308002131456 ...         84          0\n",
       " 245105100002652 2335795462596618240 ...         82          0\n",
       " 245105300000944 2335394793688059264 ...         82          0\n",
       " 245105400000522 2335736874947603840 ...         73          0\n",
       " 245106100000284 2336451458721788800 ...         87          0\n",
       " 245106100003403 2335639744262326016 ...         87          0\n",
       " 245106200000449 2336682111350230912 ...         58          0\n",
       " 245106200002355 2336373874432546048 ...         80          0\n",
       " 245106200002883 2336406786766185216 ...         80          0\n",
       " 245106200004016 2336308453490730112 ...         75          0\n",
       " 245106400001245 2335578858805983360 ...         82          0\n",
       " 245106400001659 2335562641009408768 ...         82          0\n",
       " 245106400002107 2335547110407681152 ...         82          0\n",
       " 245107100003686 2336542340229719168 ...         82          0\n",
       " 245107200002594 2338111652560516352 ...         81          0\n",
       " 245107200003256 2335101705119600128 ...         81          0\n",
       " 245107300000895 2335055216393566976 ...         83          0\n",
       " 245108100000491 2338172572376587904 ...         83          0\n",
       " 245108100000632 2338357011156774272 ...         85          0\n",
       " 245108100003129 2338063304112936960 ...         76          0\n",
       " 245108300001167 2337843470506613248 ...        133          9\n",
       "             ...                 ... ...        ...        ...\n",
       "1858213300001435 2250689002001074688 ...         32          0\n",
       "1859208400014683 2244554448674104576 ...         25          0\n",
       "1859210100003348 2246117232653240064 ...         24          0\n",
       "1859210300006532 2245977663395984128 ...         23          0\n",
       "1859214100001842 2271155311441034880 ...         38          0\n",
       "1860103100003554 2217320335929585024 ...         26          0\n",
       "1860113300005316 2222783740488771968 ...         56          0\n",
       "1860214100006217 2223810272030486528 ...         39          0\n",
       "1860215100005995 2223973442129066112 ...         39          0\n",
       "1861101200010191 2207312576796064128 ...         29          0\n",
       "1861102200013038 2202253728098605312 ...         29          0\n",
       "1861102400011203 2207895425334870272 ...         29          0\n",
       "1861107100009643 2206447536021786880 ...         29          0\n",
       "1861209200029166 2213020794488910464 ...         29          0\n",
       "1861214300011062 2225035295484011520 ...         29          0\n",
       "1862103400002160 2015873858504739456 ...         26          0\n",
       "1862111100000482 2210668118781586560 ...         26          0\n",
       "1862115100001602 2214081690070072192 ...         38          0\n",
       "1863105100005695  534594922931610880 ...         28          0\n",
       "1863114400012354  535903105548185600 ...         16          0\n",
       "1865101300006308  494070845639987840 ...         14          0\n",
       "1865110100000387  550670989817507456 ...         13          0\n",
       "1866105400005192  497901505493566976 ...         25          0\n",
       "1866106400006063  498798402040988672 ...         14          0\n",
       "1866109400002424  499447698015857408 ...         26          0\n",
       "1866110100008871  502572991099671680 ...         13          0\n",
       "1866111300004929  501875282251968128 ...         14          0\n",
       "1866115300000189  550445761732141568 ...         12          0\n",
       "1878209100000683 2274194322923560448 ...         26          0\n",
       "1879208400011172 2272270834706465920 ...         13          0\n",
       "1879209200004154 2231410027681772288 ...         24          0\n",
       "1879215100000755 2280500266922334592 ...         13          0\n",
       "1879215200000500 2283493717393209088 ...         13          0\n",
       "1880211400005690 2228712753860793088 ...         11          0"
      ]
     },
     "execution_count": 19,
     "metadata": {},
     "output_type": "execute_result"
    }
   ],
   "source": [
    "tbl"
   ]
  },
  {
   "cell_type": "markdown",
   "id": "d0f5eb75",
   "metadata": {},
   "source": [
    "The catalog assigns a probability that the stars they have selected are actually RR Lyrae.  Define a selector to only choose high-confidence RR Lyrae:"
   ]
  },
  {
   "cell_type": "code",
   "execution_count": 20,
   "id": "3a087754",
   "metadata": {},
   "outputs": [],
   "source": [
    "wgood = tbl['prob_rrl'] > 0.95"
   ]
  },
  {
   "cell_type": "markdown",
   "id": "6f3264f8",
   "metadata": {},
   "source": [
    "For this exercise:\n",
    "    \n",
    "* Compute the absolute r-band magnitude for the high-confidence RR Lyrae using the provided values of distance (in pc) and E(B-V).  (Use A_r = 2.27, so the extinction correction is -2.27 * E(B-V).\n",
    "* Scatter plot the catalog period vs. absolute magnitude.  Overplot the period-luminosity relation $M_r = -1.6 \\log_{10}(\\frac{P}{0.6}) + 0.51$, where $P$ is the period in days.\n",
    "* That period-luminosity relationship is not a great fit--the distances in the table were derived from averages over all three ZTF bands.  Fit a new period-luminosity relationship to the high-confidence RR Lyrae ([`astropy.modeling`](https://docs.astropy.org/en/stable/modeling/index.html) may be helpful) and overplot it.  (Be sure that the `x` coordinate you fit is the log of the period, $\\log_{10}(\\frac{P}{0.6})$.)"
   ]
  },
  {
   "cell_type": "markdown",
   "id": "11d2a60c",
   "metadata": {},
   "source": [
    "## 3. Estimate distance from the Period-Luminosity relation."
   ]
  },
  {
   "cell_type": "markdown",
   "id": "983af862",
   "metadata": {},
   "source": [
    "Now let's compute the distance our period-luminosity relationship implies for the RR Lyrae in exercise 1."
   ]
  },
  {
   "cell_type": "code",
   "execution_count": 166,
   "id": "c6df7f22",
   "metadata": {},
   "outputs": [
    {
     "data": {
      "text/plain": [
       "<SkyCoord (ICRS): (ra, dec) in deg\n",
       "    (245.55715821, 44.55899377)>"
      ]
     },
     "execution_count": 166,
     "metadata": {},
     "output_type": "execute_result"
    }
   ],
   "source": [
    "ztf_src_sc = SkyCoord(mean_ra, mean_dec, unit='degree')\n",
    "ztf_src_sc"
   ]
  },
  {
   "cell_type": "markdown",
   "id": "c49c5bd1",
   "metadata": {},
   "source": [
    "We will need the E(B-V) value at the source location:"
   ]
  },
  {
   "cell_type": "code",
   "execution_count": 190,
   "id": "ce889554",
   "metadata": {},
   "outputs": [
    {
     "data": {
      "text/plain": [
       "0.012"
      ]
     },
     "execution_count": 190,
     "metadata": {},
     "output_type": "execute_result"
    }
   ],
   "source": [
    "ztf_src_ebv = IrsaDust.get_query_table(ztf_src_sc,section='ebv')['ext SFD mean'].value[0]\n",
    "ztf_src_ebv"
   ]
  },
  {
   "cell_type": "markdown",
   "id": "7c7688c2",
   "metadata": {},
   "source": [
    "For this exercise:\n",
    "\n",
    "* Use the period-luminosity relationship and the best-fit period of the source from Exercise 1 to estimate its distance in parsecs."
   ]
  }
 ],
 "metadata": {
  "kernelspec": {
   "display_name": "Python 3 (ipykernel)",
   "language": "python",
   "name": "python3"
  },
  "language_info": {
   "codemirror_mode": {
    "name": "ipython",
    "version": 3
   },
   "file_extension": ".py",
   "mimetype": "text/x-python",
   "name": "python",
   "nbconvert_exporter": "python",
   "pygments_lexer": "ipython3",
   "version": "3.9.7"
  }
 },
 "nbformat": 4,
 "nbformat_minor": 5
}
